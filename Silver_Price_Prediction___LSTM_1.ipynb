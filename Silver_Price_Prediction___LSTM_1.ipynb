{
  "metadata": {
    "kernelspec": {
      "language": "python",
      "display_name": "Python 3",
      "name": "python3"
    },
    "language_info": {
      "pygments_lexer": "ipython3",
      "nbconvert_exporter": "python",
      "version": "3.6.4",
      "file_extension": ".py",
      "codemirror_mode": {
        "name": "ipython",
        "version": 3
      },
      "name": "python",
      "mimetype": "text/x-python"
    },
    "colab": {
      "provenance": [],
      "include_colab_link": true
    }
  },
  "nbformat_minor": 0,
  "nbformat": 4,
  "cells": [
    {
      "cell_type": "markdown",
      "metadata": {
        "id": "view-in-github",
        "colab_type": "text"
      },
      "source": [
        "<a href=\"https://colab.research.google.com/github/diaznugraha03/tugas-tugas/blob/main/Silver_Price_Prediction___LSTM_1.ipynb\" target=\"_parent\"><img src=\"https://colab.research.google.com/assets/colab-badge.svg\" alt=\"Open In Colab\"/></a>"
      ]
    },
    {
      "cell_type": "markdown",
      "source": [
        "# **1.Menggunakan kode asli diatas tanpa memodifikasi apapun yaitu aktivasi Relu, optimasi Nadam, Batch size 16, dan epoch 10**"
      ],
      "metadata": {
        "id": "MKlCBw0oRXOX"
      }
    },
    {
      "cell_type": "markdown",
      "source": [
        "**Pada notebook ini, kita akan membangun model deret waktu untuk memprediksi harga emas di masa mendatang, yang dapat sangat berguna bagi para pedagang. Untuk tujuan ini, kita menggunakan data harga emas historis selama 10 tahun (dari 2015 hingga 2025)._**"
      ],
      "metadata": {
        "papermill": {
          "duration": 0.016665,
          "end_time": "2023-01-11T15:59:32.003767",
          "exception": false,
          "start_time": "2023-01-11T15:59:31.987102",
          "status": "completed"
        },
        "tags": [],
        "id": "lsmX2XFhOgtL"
      }
    },
    {
      "cell_type": "markdown",
      "source": [
        "# Langkah 1: Import Libraries"
      ],
      "metadata": {
        "papermill": {
          "duration": 0.013762,
          "end_time": "2023-01-11T15:59:32.061008",
          "exception": false,
          "start_time": "2023-01-11T15:59:32.047246",
          "status": "completed"
        },
        "tags": [],
        "id": "bi8q_81OOgtM"
      }
    },
    {
      "cell_type": "code",
      "source": [
        "import numpy as np\n",
        "import pandas as pd\n",
        "import matplotlib.pyplot as plt\n",
        "import plotly.express as px\n",
        "from sklearn.preprocessing import MinMaxScaler\n",
        "from sklearn.model_selection import train_test_split\n",
        "from sklearn.metrics import mean_absolute_percentage_error\n",
        "\n",
        "import tensorflow as tf\n",
        "from keras import Model\n",
        "from keras.layers import Input, Dense, Dropout, Dense\n",
        "from keras.layers import LSTM\n",
        "from keras.callbacks import EarlyStopping, ReduceLROnPlateau, ModelCheckpoint\n",
        "\n",
        "import os\n",
        "from google.colab import drive"
      ],
      "metadata": {
        "papermill": {
          "duration": 8.866014,
          "end_time": "2023-01-11T15:59:40.940941",
          "exception": false,
          "start_time": "2023-01-11T15:59:32.074927",
          "status": "completed"
        },
        "tags": [],
        "execution": {
          "iopub.status.busy": "2023-01-13T21:11:52.141149Z",
          "iopub.execute_input": "2023-01-13T21:11:52.141926Z",
          "iopub.status.idle": "2023-01-13T21:11:55.242312Z",
          "shell.execute_reply.started": "2023-01-13T21:11:52.141843Z",
          "shell.execute_reply": "2023-01-13T21:11:55.240978Z"
        },
        "trusted": true,
        "id": "fcjzQc4AOgtM"
      },
      "execution_count": 40,
      "outputs": []
    },
    {
      "cell_type": "markdown",
      "source": [
        "# Langkah 2: Membaca Dataset"
      ],
      "metadata": {
        "papermill": {
          "duration": 0.013572,
          "end_time": "2023-01-11T15:59:40.969264",
          "exception": false,
          "start_time": "2023-01-11T15:59:40.955692",
          "status": "completed"
        },
        "tags": [],
        "id": "g8BwqRZ-OgtM"
      }
    },
    {
      "cell_type": "code",
      "source": [
        "drive.mount('/content/drive')  # Mount Google Drive\n",
        "BASE_DIR = \"/content/drive/MyDrive/Deep Learning/tugas7/Data Historis Perak Berjangka.csv\""
      ],
      "metadata": {
        "papermill": {
          "duration": 0.045793,
          "end_time": "2023-01-11T15:59:41.028622",
          "exception": false,
          "start_time": "2023-01-11T15:59:40.982829",
          "status": "completed"
        },
        "tags": [],
        "execution": {
          "iopub.status.busy": "2023-01-13T21:11:55.249864Z",
          "iopub.execute_input": "2023-01-13T21:11:55.250299Z",
          "iopub.status.idle": "2023-01-13T21:11:55.267752Z",
          "shell.execute_reply.started": "2023-01-13T21:11:55.250264Z",
          "shell.execute_reply": "2023-01-13T21:11:55.2664Z"
        },
        "trusted": true,
        "id": "MYJaspy7OgtN",
        "outputId": "f513769d-546b-4d71-b5fa-38cb694dae28",
        "colab": {
          "base_uri": "https://localhost:8080/"
        }
      },
      "execution_count": 41,
      "outputs": [
        {
          "output_type": "stream",
          "name": "stdout",
          "text": [
            "Drive already mounted at /content/drive; to attempt to forcibly remount, call drive.mount(\"/content/drive\", force_remount=True).\n"
          ]
        }
      ]
    },
    {
      "cell_type": "markdown",
      "source": [
        "# Langkah 3: Menampilkan Dataset"
      ],
      "metadata": {
        "papermill": {
          "duration": 0.013377,
          "end_time": "2023-01-11T15:59:41.055868",
          "exception": false,
          "start_time": "2023-01-11T15:59:41.042491",
          "status": "completed"
        },
        "tags": [],
        "id": "dR46TiRLOgtO"
      }
    },
    {
      "cell_type": "code",
      "source": [
        "df = pd.read_csv(BASE_DIR)\n",
        "df"
      ],
      "metadata": {
        "papermill": {
          "duration": 0.039965,
          "end_time": "2023-01-11T15:59:41.109461",
          "exception": false,
          "start_time": "2023-01-11T15:59:41.069496",
          "status": "completed"
        },
        "tags": [],
        "execution": {
          "iopub.status.busy": "2023-01-13T21:11:55.269392Z",
          "iopub.execute_input": "2023-01-13T21:11:55.269791Z",
          "iopub.status.idle": "2023-01-13T21:11:55.294122Z",
          "shell.execute_reply.started": "2023-01-13T21:11:55.269757Z",
          "shell.execute_reply": "2023-01-13T21:11:55.292555Z"
        },
        "trusted": true,
        "id": "7RgKlIxZOgtO",
        "outputId": "8dd611b1-d647-4e8e-ffd0-2e7fc749a687",
        "colab": {
          "base_uri": "https://localhost:8080/",
          "height": 424
        }
      },
      "execution_count": 42,
      "outputs": [
        {
          "output_type": "execute_result",
          "data": {
            "text/plain": [
              "            Date   Price    Open    High     Low    Vol. Change %\n",
              "0     19/05/2025  32,615  32,632  32,730  32,430   9,47K   -0,05%\n",
              "1     18/05/2025  32,632  32,498  32,693  32,435   2,00K    0,86%\n",
              "2     16/05/2025  32,354  32,795  32,865  31,980  40,94K   -1,00%\n",
              "3     15/05/2025  32,680  32,395  32,820  31,780  45,07K    0,73%\n",
              "4     14/05/2025  32,444  33,085  33,150  32,255  47,79K   -1,98%\n",
              "...          ...     ...     ...     ...     ...     ...      ...\n",
              "2589  25/05/2015  16,746  17,050  17,180  16,645  48,46K   -1,79%\n",
              "2590  22/05/2015  17,051  17,140  17,335  16,940  31,25K   -0,47%\n",
              "2591  21/05/2015  17,132  17,100  17,250  17,000  21,29K    0,11%\n",
              "2592  20/05/2015  17,113  17,095  17,280  16,935  34,83K    0,25%\n",
              "2593  19/05/2015  17,071  17,705  17,735  16,870  59,14K   -3,73%\n",
              "\n",
              "[2594 rows x 7 columns]"
            ],
            "text/html": [
              "\n",
              "  <div id=\"df-2b0f43e4-7528-4860-a22b-c710ea66c8f7\" class=\"colab-df-container\">\n",
              "    <div>\n",
              "<style scoped>\n",
              "    .dataframe tbody tr th:only-of-type {\n",
              "        vertical-align: middle;\n",
              "    }\n",
              "\n",
              "    .dataframe tbody tr th {\n",
              "        vertical-align: top;\n",
              "    }\n",
              "\n",
              "    .dataframe thead th {\n",
              "        text-align: right;\n",
              "    }\n",
              "</style>\n",
              "<table border=\"1\" class=\"dataframe\">\n",
              "  <thead>\n",
              "    <tr style=\"text-align: right;\">\n",
              "      <th></th>\n",
              "      <th>Date</th>\n",
              "      <th>Price</th>\n",
              "      <th>Open</th>\n",
              "      <th>High</th>\n",
              "      <th>Low</th>\n",
              "      <th>Vol.</th>\n",
              "      <th>Change %</th>\n",
              "    </tr>\n",
              "  </thead>\n",
              "  <tbody>\n",
              "    <tr>\n",
              "      <th>0</th>\n",
              "      <td>19/05/2025</td>\n",
              "      <td>32,615</td>\n",
              "      <td>32,632</td>\n",
              "      <td>32,730</td>\n",
              "      <td>32,430</td>\n",
              "      <td>9,47K</td>\n",
              "      <td>-0,05%</td>\n",
              "    </tr>\n",
              "    <tr>\n",
              "      <th>1</th>\n",
              "      <td>18/05/2025</td>\n",
              "      <td>32,632</td>\n",
              "      <td>32,498</td>\n",
              "      <td>32,693</td>\n",
              "      <td>32,435</td>\n",
              "      <td>2,00K</td>\n",
              "      <td>0,86%</td>\n",
              "    </tr>\n",
              "    <tr>\n",
              "      <th>2</th>\n",
              "      <td>16/05/2025</td>\n",
              "      <td>32,354</td>\n",
              "      <td>32,795</td>\n",
              "      <td>32,865</td>\n",
              "      <td>31,980</td>\n",
              "      <td>40,94K</td>\n",
              "      <td>-1,00%</td>\n",
              "    </tr>\n",
              "    <tr>\n",
              "      <th>3</th>\n",
              "      <td>15/05/2025</td>\n",
              "      <td>32,680</td>\n",
              "      <td>32,395</td>\n",
              "      <td>32,820</td>\n",
              "      <td>31,780</td>\n",
              "      <td>45,07K</td>\n",
              "      <td>0,73%</td>\n",
              "    </tr>\n",
              "    <tr>\n",
              "      <th>4</th>\n",
              "      <td>14/05/2025</td>\n",
              "      <td>32,444</td>\n",
              "      <td>33,085</td>\n",
              "      <td>33,150</td>\n",
              "      <td>32,255</td>\n",
              "      <td>47,79K</td>\n",
              "      <td>-1,98%</td>\n",
              "    </tr>\n",
              "    <tr>\n",
              "      <th>...</th>\n",
              "      <td>...</td>\n",
              "      <td>...</td>\n",
              "      <td>...</td>\n",
              "      <td>...</td>\n",
              "      <td>...</td>\n",
              "      <td>...</td>\n",
              "      <td>...</td>\n",
              "    </tr>\n",
              "    <tr>\n",
              "      <th>2589</th>\n",
              "      <td>25/05/2015</td>\n",
              "      <td>16,746</td>\n",
              "      <td>17,050</td>\n",
              "      <td>17,180</td>\n",
              "      <td>16,645</td>\n",
              "      <td>48,46K</td>\n",
              "      <td>-1,79%</td>\n",
              "    </tr>\n",
              "    <tr>\n",
              "      <th>2590</th>\n",
              "      <td>22/05/2015</td>\n",
              "      <td>17,051</td>\n",
              "      <td>17,140</td>\n",
              "      <td>17,335</td>\n",
              "      <td>16,940</td>\n",
              "      <td>31,25K</td>\n",
              "      <td>-0,47%</td>\n",
              "    </tr>\n",
              "    <tr>\n",
              "      <th>2591</th>\n",
              "      <td>21/05/2015</td>\n",
              "      <td>17,132</td>\n",
              "      <td>17,100</td>\n",
              "      <td>17,250</td>\n",
              "      <td>17,000</td>\n",
              "      <td>21,29K</td>\n",
              "      <td>0,11%</td>\n",
              "    </tr>\n",
              "    <tr>\n",
              "      <th>2592</th>\n",
              "      <td>20/05/2015</td>\n",
              "      <td>17,113</td>\n",
              "      <td>17,095</td>\n",
              "      <td>17,280</td>\n",
              "      <td>16,935</td>\n",
              "      <td>34,83K</td>\n",
              "      <td>0,25%</td>\n",
              "    </tr>\n",
              "    <tr>\n",
              "      <th>2593</th>\n",
              "      <td>19/05/2015</td>\n",
              "      <td>17,071</td>\n",
              "      <td>17,705</td>\n",
              "      <td>17,735</td>\n",
              "      <td>16,870</td>\n",
              "      <td>59,14K</td>\n",
              "      <td>-3,73%</td>\n",
              "    </tr>\n",
              "  </tbody>\n",
              "</table>\n",
              "<p>2594 rows × 7 columns</p>\n",
              "</div>\n",
              "    <div class=\"colab-df-buttons\">\n",
              "\n",
              "  <div class=\"colab-df-container\">\n",
              "    <button class=\"colab-df-convert\" onclick=\"convertToInteractive('df-2b0f43e4-7528-4860-a22b-c710ea66c8f7')\"\n",
              "            title=\"Convert this dataframe to an interactive table.\"\n",
              "            style=\"display:none;\">\n",
              "\n",
              "  <svg xmlns=\"http://www.w3.org/2000/svg\" height=\"24px\" viewBox=\"0 -960 960 960\">\n",
              "    <path d=\"M120-120v-720h720v720H120Zm60-500h600v-160H180v160Zm220 220h160v-160H400v160Zm0 220h160v-160H400v160ZM180-400h160v-160H180v160Zm440 0h160v-160H620v160ZM180-180h160v-160H180v160Zm440 0h160v-160H620v160Z\"/>\n",
              "  </svg>\n",
              "    </button>\n",
              "\n",
              "  <style>\n",
              "    .colab-df-container {\n",
              "      display:flex;\n",
              "      gap: 12px;\n",
              "    }\n",
              "\n",
              "    .colab-df-convert {\n",
              "      background-color: #E8F0FE;\n",
              "      border: none;\n",
              "      border-radius: 50%;\n",
              "      cursor: pointer;\n",
              "      display: none;\n",
              "      fill: #1967D2;\n",
              "      height: 32px;\n",
              "      padding: 0 0 0 0;\n",
              "      width: 32px;\n",
              "    }\n",
              "\n",
              "    .colab-df-convert:hover {\n",
              "      background-color: #E2EBFA;\n",
              "      box-shadow: 0px 1px 2px rgba(60, 64, 67, 0.3), 0px 1px 3px 1px rgba(60, 64, 67, 0.15);\n",
              "      fill: #174EA6;\n",
              "    }\n",
              "\n",
              "    .colab-df-buttons div {\n",
              "      margin-bottom: 4px;\n",
              "    }\n",
              "\n",
              "    [theme=dark] .colab-df-convert {\n",
              "      background-color: #3B4455;\n",
              "      fill: #D2E3FC;\n",
              "    }\n",
              "\n",
              "    [theme=dark] .colab-df-convert:hover {\n",
              "      background-color: #434B5C;\n",
              "      box-shadow: 0px 1px 3px 1px rgba(0, 0, 0, 0.15);\n",
              "      filter: drop-shadow(0px 1px 2px rgba(0, 0, 0, 0.3));\n",
              "      fill: #FFFFFF;\n",
              "    }\n",
              "  </style>\n",
              "\n",
              "    <script>\n",
              "      const buttonEl =\n",
              "        document.querySelector('#df-2b0f43e4-7528-4860-a22b-c710ea66c8f7 button.colab-df-convert');\n",
              "      buttonEl.style.display =\n",
              "        google.colab.kernel.accessAllowed ? 'block' : 'none';\n",
              "\n",
              "      async function convertToInteractive(key) {\n",
              "        const element = document.querySelector('#df-2b0f43e4-7528-4860-a22b-c710ea66c8f7');\n",
              "        const dataTable =\n",
              "          await google.colab.kernel.invokeFunction('convertToInteractive',\n",
              "                                                    [key], {});\n",
              "        if (!dataTable) return;\n",
              "\n",
              "        const docLinkHtml = 'Like what you see? Visit the ' +\n",
              "          '<a target=\"_blank\" href=https://colab.research.google.com/notebooks/data_table.ipynb>data table notebook</a>'\n",
              "          + ' to learn more about interactive tables.';\n",
              "        element.innerHTML = '';\n",
              "        dataTable['output_type'] = 'display_data';\n",
              "        await google.colab.output.renderOutput(dataTable, element);\n",
              "        const docLink = document.createElement('div');\n",
              "        docLink.innerHTML = docLinkHtml;\n",
              "        element.appendChild(docLink);\n",
              "      }\n",
              "    </script>\n",
              "  </div>\n",
              "\n",
              "\n",
              "    <div id=\"df-3a218684-1dac-4789-9c21-68f0377b8e11\">\n",
              "      <button class=\"colab-df-quickchart\" onclick=\"quickchart('df-3a218684-1dac-4789-9c21-68f0377b8e11')\"\n",
              "                title=\"Suggest charts\"\n",
              "                style=\"display:none;\">\n",
              "\n",
              "<svg xmlns=\"http://www.w3.org/2000/svg\" height=\"24px\"viewBox=\"0 0 24 24\"\n",
              "     width=\"24px\">\n",
              "    <g>\n",
              "        <path d=\"M19 3H5c-1.1 0-2 .9-2 2v14c0 1.1.9 2 2 2h14c1.1 0 2-.9 2-2V5c0-1.1-.9-2-2-2zM9 17H7v-7h2v7zm4 0h-2V7h2v10zm4 0h-2v-4h2v4z\"/>\n",
              "    </g>\n",
              "</svg>\n",
              "      </button>\n",
              "\n",
              "<style>\n",
              "  .colab-df-quickchart {\n",
              "      --bg-color: #E8F0FE;\n",
              "      --fill-color: #1967D2;\n",
              "      --hover-bg-color: #E2EBFA;\n",
              "      --hover-fill-color: #174EA6;\n",
              "      --disabled-fill-color: #AAA;\n",
              "      --disabled-bg-color: #DDD;\n",
              "  }\n",
              "\n",
              "  [theme=dark] .colab-df-quickchart {\n",
              "      --bg-color: #3B4455;\n",
              "      --fill-color: #D2E3FC;\n",
              "      --hover-bg-color: #434B5C;\n",
              "      --hover-fill-color: #FFFFFF;\n",
              "      --disabled-bg-color: #3B4455;\n",
              "      --disabled-fill-color: #666;\n",
              "  }\n",
              "\n",
              "  .colab-df-quickchart {\n",
              "    background-color: var(--bg-color);\n",
              "    border: none;\n",
              "    border-radius: 50%;\n",
              "    cursor: pointer;\n",
              "    display: none;\n",
              "    fill: var(--fill-color);\n",
              "    height: 32px;\n",
              "    padding: 0;\n",
              "    width: 32px;\n",
              "  }\n",
              "\n",
              "  .colab-df-quickchart:hover {\n",
              "    background-color: var(--hover-bg-color);\n",
              "    box-shadow: 0 1px 2px rgba(60, 64, 67, 0.3), 0 1px 3px 1px rgba(60, 64, 67, 0.15);\n",
              "    fill: var(--button-hover-fill-color);\n",
              "  }\n",
              "\n",
              "  .colab-df-quickchart-complete:disabled,\n",
              "  .colab-df-quickchart-complete:disabled:hover {\n",
              "    background-color: var(--disabled-bg-color);\n",
              "    fill: var(--disabled-fill-color);\n",
              "    box-shadow: none;\n",
              "  }\n",
              "\n",
              "  .colab-df-spinner {\n",
              "    border: 2px solid var(--fill-color);\n",
              "    border-color: transparent;\n",
              "    border-bottom-color: var(--fill-color);\n",
              "    animation:\n",
              "      spin 1s steps(1) infinite;\n",
              "  }\n",
              "\n",
              "  @keyframes spin {\n",
              "    0% {\n",
              "      border-color: transparent;\n",
              "      border-bottom-color: var(--fill-color);\n",
              "      border-left-color: var(--fill-color);\n",
              "    }\n",
              "    20% {\n",
              "      border-color: transparent;\n",
              "      border-left-color: var(--fill-color);\n",
              "      border-top-color: var(--fill-color);\n",
              "    }\n",
              "    30% {\n",
              "      border-color: transparent;\n",
              "      border-left-color: var(--fill-color);\n",
              "      border-top-color: var(--fill-color);\n",
              "      border-right-color: var(--fill-color);\n",
              "    }\n",
              "    40% {\n",
              "      border-color: transparent;\n",
              "      border-right-color: var(--fill-color);\n",
              "      border-top-color: var(--fill-color);\n",
              "    }\n",
              "    60% {\n",
              "      border-color: transparent;\n",
              "      border-right-color: var(--fill-color);\n",
              "    }\n",
              "    80% {\n",
              "      border-color: transparent;\n",
              "      border-right-color: var(--fill-color);\n",
              "      border-bottom-color: var(--fill-color);\n",
              "    }\n",
              "    90% {\n",
              "      border-color: transparent;\n",
              "      border-bottom-color: var(--fill-color);\n",
              "    }\n",
              "  }\n",
              "</style>\n",
              "\n",
              "      <script>\n",
              "        async function quickchart(key) {\n",
              "          const quickchartButtonEl =\n",
              "            document.querySelector('#' + key + ' button');\n",
              "          quickchartButtonEl.disabled = true;  // To prevent multiple clicks.\n",
              "          quickchartButtonEl.classList.add('colab-df-spinner');\n",
              "          try {\n",
              "            const charts = await google.colab.kernel.invokeFunction(\n",
              "                'suggestCharts', [key], {});\n",
              "          } catch (error) {\n",
              "            console.error('Error during call to suggestCharts:', error);\n",
              "          }\n",
              "          quickchartButtonEl.classList.remove('colab-df-spinner');\n",
              "          quickchartButtonEl.classList.add('colab-df-quickchart-complete');\n",
              "        }\n",
              "        (() => {\n",
              "          let quickchartButtonEl =\n",
              "            document.querySelector('#df-3a218684-1dac-4789-9c21-68f0377b8e11 button');\n",
              "          quickchartButtonEl.style.display =\n",
              "            google.colab.kernel.accessAllowed ? 'block' : 'none';\n",
              "        })();\n",
              "      </script>\n",
              "    </div>\n",
              "\n",
              "  <div id=\"id_dfa0da45-b087-4075-ac7d-6156bd0d4c03\">\n",
              "    <style>\n",
              "      .colab-df-generate {\n",
              "        background-color: #E8F0FE;\n",
              "        border: none;\n",
              "        border-radius: 50%;\n",
              "        cursor: pointer;\n",
              "        display: none;\n",
              "        fill: #1967D2;\n",
              "        height: 32px;\n",
              "        padding: 0 0 0 0;\n",
              "        width: 32px;\n",
              "      }\n",
              "\n",
              "      .colab-df-generate:hover {\n",
              "        background-color: #E2EBFA;\n",
              "        box-shadow: 0px 1px 2px rgba(60, 64, 67, 0.3), 0px 1px 3px 1px rgba(60, 64, 67, 0.15);\n",
              "        fill: #174EA6;\n",
              "      }\n",
              "\n",
              "      [theme=dark] .colab-df-generate {\n",
              "        background-color: #3B4455;\n",
              "        fill: #D2E3FC;\n",
              "      }\n",
              "\n",
              "      [theme=dark] .colab-df-generate:hover {\n",
              "        background-color: #434B5C;\n",
              "        box-shadow: 0px 1px 3px 1px rgba(0, 0, 0, 0.15);\n",
              "        filter: drop-shadow(0px 1px 2px rgba(0, 0, 0, 0.3));\n",
              "        fill: #FFFFFF;\n",
              "      }\n",
              "    </style>\n",
              "    <button class=\"colab-df-generate\" onclick=\"generateWithVariable('df')\"\n",
              "            title=\"Generate code using this dataframe.\"\n",
              "            style=\"display:none;\">\n",
              "\n",
              "  <svg xmlns=\"http://www.w3.org/2000/svg\" height=\"24px\"viewBox=\"0 0 24 24\"\n",
              "       width=\"24px\">\n",
              "    <path d=\"M7,19H8.4L18.45,9,17,7.55,7,17.6ZM5,21V16.75L18.45,3.32a2,2,0,0,1,2.83,0l1.4,1.43a1.91,1.91,0,0,1,.58,1.4,1.91,1.91,0,0,1-.58,1.4L9.25,21ZM18.45,9,17,7.55Zm-12,3A5.31,5.31,0,0,0,4.9,8.1,5.31,5.31,0,0,0,1,6.5,5.31,5.31,0,0,0,4.9,4.9,5.31,5.31,0,0,0,6.5,1,5.31,5.31,0,0,0,8.1,4.9,5.31,5.31,0,0,0,12,6.5,5.46,5.46,0,0,0,6.5,12Z\"/>\n",
              "  </svg>\n",
              "    </button>\n",
              "    <script>\n",
              "      (() => {\n",
              "      const buttonEl =\n",
              "        document.querySelector('#id_dfa0da45-b087-4075-ac7d-6156bd0d4c03 button.colab-df-generate');\n",
              "      buttonEl.style.display =\n",
              "        google.colab.kernel.accessAllowed ? 'block' : 'none';\n",
              "\n",
              "      buttonEl.onclick = () => {\n",
              "        google.colab.notebook.generateWithVariable('df');\n",
              "      }\n",
              "      })();\n",
              "    </script>\n",
              "  </div>\n",
              "\n",
              "    </div>\n",
              "  </div>\n"
            ],
            "application/vnd.google.colaboratory.intrinsic+json": {
              "type": "dataframe",
              "variable_name": "df",
              "summary": "{\n  \"name\": \"df\",\n  \"rows\": 2594,\n  \"fields\": [\n    {\n      \"column\": \"Date\",\n      \"properties\": {\n        \"dtype\": \"object\",\n        \"num_unique_values\": 2594,\n        \"samples\": [\n          \"22/07/2024\",\n          \"16/03/2017\",\n          \"10/9/2018\"\n        ],\n        \"semantic_type\": \"\",\n        \"description\": \"\"\n      }\n    },\n    {\n      \"column\": \"Price\",\n      \"properties\": {\n        \"dtype\": \"string\",\n        \"num_unique_values\": 2330,\n        \"samples\": [\n          \"21,692\",\n          \"16,485\",\n          \"15,493\"\n        ],\n        \"semantic_type\": \"\",\n        \"description\": \"\"\n      }\n    },\n    {\n      \"column\": \"Open\",\n      \"properties\": {\n        \"dtype\": \"string\",\n        \"num_unique_values\": 1703,\n        \"samples\": [\n          \"14,680\",\n          \"22,575\",\n          \"24,150\"\n        ],\n        \"semantic_type\": \"\",\n        \"description\": \"\"\n      }\n    },\n    {\n      \"column\": \"High\",\n      \"properties\": {\n        \"dtype\": \"string\",\n        \"num_unique_values\": 1733,\n        \"samples\": [\n          \"17,505\",\n          \"21,385\",\n          \"24,615\"\n        ],\n        \"semantic_type\": \"\",\n        \"description\": \"\"\n      }\n    },\n    {\n      \"column\": \"Low\",\n      \"properties\": {\n        \"dtype\": \"string\",\n        \"num_unique_values\": 1689,\n        \"samples\": [\n          \"17,500\",\n          \"13,635\",\n          \"21,875\"\n        ],\n        \"semantic_type\": \"\",\n        \"description\": \"\"\n      }\n    },\n    {\n      \"column\": \"Vol.\",\n      \"properties\": {\n        \"dtype\": \"string\",\n        \"num_unique_values\": 1491,\n        \"samples\": [\n          \"50,51K\",\n          \"112,99K\",\n          \"67,40K\"\n        ],\n        \"semantic_type\": \"\",\n        \"description\": \"\"\n      }\n    },\n    {\n      \"column\": \"Change %\",\n      \"properties\": {\n        \"dtype\": \"category\",\n        \"num_unique_values\": 703,\n        \"samples\": [\n          \"-2,35%\",\n          \"0,85%\",\n          \"0,22%\"\n        ],\n        \"semantic_type\": \"\",\n        \"description\": \"\"\n      }\n    }\n  ]\n}"
            }
          },
          "metadata": {},
          "execution_count": 42
        }
      ]
    },
    {
      "cell_type": "markdown",
      "source": [
        "Seperti yang Anda lihat, kumpulan data tersebut mencakup informasi harga emas harian termasuk harga Pembukaan, Harga Tertinggi dan Terendah harian dan harga akhir setiap hari (Harga) beserta volume transaksi dan perubahan harga setiap hari.\n"
      ],
      "metadata": {
        "id": "BSEAXC02QOPS"
      }
    },
    {
      "cell_type": "markdown",
      "source": [
        "__Informasi Dasar Dataset:__"
      ],
      "metadata": {
        "papermill": {
          "duration": 0.013841,
          "end_time": "2023-01-11T15:59:41.164867",
          "exception": false,
          "start_time": "2023-01-11T15:59:41.151026",
          "status": "completed"
        },
        "tags": [],
        "id": "kw64QctcOgtO"
      }
    },
    {
      "cell_type": "code",
      "source": [
        "df.info()"
      ],
      "metadata": {
        "papermill": {
          "duration": 0.042283,
          "end_time": "2023-01-11T15:59:41.221076",
          "exception": false,
          "start_time": "2023-01-11T15:59:41.178793",
          "status": "completed"
        },
        "scrolled": true,
        "tags": [],
        "execution": {
          "iopub.status.busy": "2023-01-13T21:11:55.297715Z",
          "iopub.execute_input": "2023-01-13T21:11:55.298549Z",
          "iopub.status.idle": "2023-01-13T21:11:55.324863Z",
          "shell.execute_reply.started": "2023-01-13T21:11:55.298503Z",
          "shell.execute_reply": "2023-01-13T21:11:55.323418Z"
        },
        "trusted": true,
        "id": "TDwbMKXqOgtP",
        "outputId": "7c9d32d1-3416-4e28-abb9-04827ce3f6b4",
        "colab": {
          "base_uri": "https://localhost:8080/"
        }
      },
      "execution_count": 43,
      "outputs": [
        {
          "output_type": "stream",
          "name": "stdout",
          "text": [
            "<class 'pandas.core.frame.DataFrame'>\n",
            "RangeIndex: 2594 entries, 0 to 2593\n",
            "Data columns (total 7 columns):\n",
            " #   Column    Non-Null Count  Dtype \n",
            "---  ------    --------------  ----- \n",
            " 0   Date      2594 non-null   object\n",
            " 1   Price     2594 non-null   object\n",
            " 2   Open      2594 non-null   object\n",
            " 3   High      2594 non-null   object\n",
            " 4   Low       2594 non-null   object\n",
            " 5   Vol.      2565 non-null   object\n",
            " 6   Change %  2594 non-null   object\n",
            "dtypes: object(7)\n",
            "memory usage: 142.0+ KB\n"
          ]
        }
      ]
    },
    {
      "cell_type": "markdown",
      "source": [
        "__Semua variabel disimpan sebagai objek.__"
      ],
      "metadata": {
        "id": "V5gnWDE-Qd4e"
      }
    },
    {
      "cell_type": "markdown",
      "source": [
        "# Langkah 4: Persiapan Data"
      ],
      "metadata": {
        "papermill": {
          "duration": 0.013784,
          "end_time": "2023-01-11T15:59:41.277847",
          "exception": false,
          "start_time": "2023-01-11T15:59:41.264063",
          "status": "completed"
        },
        "tags": [],
        "id": "KtO_poyKOgtP"
      }
    },
    {
      "cell_type": "markdown",
      "source": [
        "## Langkah 4.1: Pemilihan Subset Fitur\n",
        "Karena kita tidak akan menggunakan fitur Vol. dan Perubahan % untuk memprediksi Harga, kita akan menghilangkan dua fitur ini:"
      ],
      "metadata": {
        "papermill": {
          "duration": 0.013802,
          "end_time": "2023-01-11T15:59:41.305668",
          "exception": false,
          "start_time": "2023-01-11T15:59:41.291866",
          "status": "completed"
        },
        "tags": [],
        "id": "v42aqKZcOgtP"
      }
    },
    {
      "cell_type": "code",
      "source": [
        "df.drop(['Vol.', 'Change %'], axis=1, inplace=True)"
      ],
      "metadata": {
        "papermill": {
          "duration": 0.023413,
          "end_time": "2023-01-11T15:59:41.343377",
          "exception": false,
          "start_time": "2023-01-11T15:59:41.319964",
          "status": "completed"
        },
        "tags": [],
        "execution": {
          "iopub.status.busy": "2023-01-13T21:11:55.326756Z",
          "iopub.execute_input": "2023-01-13T21:11:55.327262Z",
          "iopub.status.idle": "2023-01-13T21:11:55.336028Z",
          "shell.execute_reply.started": "2023-01-13T21:11:55.327214Z",
          "shell.execute_reply": "2023-01-13T21:11:55.334543Z"
        },
        "trusted": true,
        "id": "-qy4OuLsOgtP"
      },
      "execution_count": 44,
      "outputs": []
    },
    {
      "cell_type": "markdown",
      "source": [
        "## Langkah 4.2: Transformasi Data"
      ],
      "metadata": {
        "papermill": {
          "duration": 0.014274,
          "end_time": "2023-01-11T15:59:41.372079",
          "exception": false,
          "start_time": "2023-01-11T15:59:41.357805",
          "status": "completed"
        },
        "tags": [],
        "id": "1WJ5_wE5OgtP"
      }
    },
    {
      "cell_type": "markdown",
      "source": [
        "Fitur tanggal disimpan sebagai objek dalam bingkai data. Untuk meningkatkan kecepatan kalkulasi, kita mengonversi tipe datanya ke datetime dan kemudian mengurutkan fitur ini dalam urutan menaik:"
      ],
      "metadata": {
        "papermill": {
          "duration": 0.013898,
          "end_time": "2023-01-11T15:59:41.400444",
          "exception": false,
          "start_time": "2023-01-11T15:59:41.386546",
          "status": "completed"
        },
        "tags": [],
        "id": "dFVXe5GxOgtP"
      }
    },
    {
      "cell_type": "code",
      "source": [
        "df['Date'] = pd.to_datetime(df['Date'])\n",
        "df.sort_values(by='Date', ascending=True, inplace=True)\n",
        "df.reset_index(drop=True, inplace=True)"
      ],
      "metadata": {
        "papermill": {
          "duration": 0.031911,
          "end_time": "2023-01-11T15:59:41.447528",
          "exception": false,
          "start_time": "2023-01-11T15:59:41.415617",
          "status": "completed"
        },
        "tags": [],
        "execution": {
          "iopub.status.busy": "2023-01-13T21:11:55.337912Z",
          "iopub.execute_input": "2023-01-13T21:11:55.338501Z",
          "iopub.status.idle": "2023-01-13T21:11:55.355153Z",
          "shell.execute_reply.started": "2023-01-13T21:11:55.338449Z",
          "shell.execute_reply": "2023-01-13T21:11:55.353536Z"
        },
        "trusted": true,
        "id": "4I5IuH-eOgtP",
        "colab": {
          "base_uri": "https://localhost:8080/"
        },
        "outputId": "2ad6a30b-b111-4694-d4b7-ba41fcba80ad"
      },
      "execution_count": 45,
      "outputs": [
        {
          "output_type": "stream",
          "name": "stderr",
          "text": [
            "<ipython-input-45-ba4bc9a812b5>:1: UserWarning:\n",
            "\n",
            "Parsing dates in %d/%m/%Y format when dayfirst=False (the default) was specified. Pass `dayfirst=True` or specify a format to silence this warning.\n",
            "\n"
          ]
        }
      ]
    },
    {
      "cell_type": "markdown",
      "source": [
        "Tanda \", \" berlebihan dalam dataset. Pertama, kita hapus tanda tersebut dari seluruh dataset dan kemudian ubah tipe data variabel numerik menjadi float:"
      ],
      "metadata": {
        "papermill": {
          "duration": 0.014231,
          "end_time": "2023-01-11T15:59:41.477247",
          "exception": false,
          "start_time": "2023-01-11T15:59:41.463016",
          "status": "completed"
        },
        "tags": [],
        "id": "sBFnGZekOgtQ"
      }
    },
    {
      "cell_type": "code",
      "source": [
        "NumCols = df.columns.drop(['Date'])\n",
        "df[NumCols] = df[NumCols].replace({',': ''}, regex=True)\n",
        "df[NumCols] = df[NumCols].astype('float64')"
      ],
      "metadata": {
        "papermill": {
          "duration": 0.059897,
          "end_time": "2023-01-11T15:59:41.55159",
          "exception": false,
          "start_time": "2023-01-11T15:59:41.491693",
          "status": "completed"
        },
        "tags": [],
        "execution": {
          "iopub.status.busy": "2023-01-13T21:11:55.357066Z",
          "iopub.execute_input": "2023-01-13T21:11:55.357482Z",
          "iopub.status.idle": "2023-01-13T21:11:55.410337Z",
          "shell.execute_reply.started": "2023-01-13T21:11:55.357444Z",
          "shell.execute_reply": "2023-01-13T21:11:55.409066Z"
        },
        "trusted": true,
        "id": "G6qeW7qhOgtQ"
      },
      "execution_count": 46,
      "outputs": []
    },
    {
      "cell_type": "markdown",
      "source": [
        "Hasil:"
      ],
      "metadata": {
        "papermill": {
          "duration": 0.015026,
          "end_time": "2023-01-11T15:59:41.582168",
          "exception": false,
          "start_time": "2023-01-11T15:59:41.567142",
          "status": "completed"
        },
        "tags": [],
        "id": "9Qnv6y9iOgtQ"
      }
    },
    {
      "cell_type": "code",
      "source": [
        "df.head()"
      ],
      "metadata": {
        "papermill": {
          "duration": 0.035917,
          "end_time": "2023-01-11T15:59:41.633462",
          "exception": false,
          "start_time": "2023-01-11T15:59:41.597545",
          "status": "completed"
        },
        "tags": [],
        "execution": {
          "iopub.status.busy": "2023-01-13T21:11:55.411787Z",
          "iopub.execute_input": "2023-01-13T21:11:55.412623Z",
          "iopub.status.idle": "2023-01-13T21:11:55.431374Z",
          "shell.execute_reply.started": "2023-01-13T21:11:55.412567Z",
          "shell.execute_reply": "2023-01-13T21:11:55.429771Z"
        },
        "trusted": true,
        "id": "rT-CatY2OgtQ",
        "outputId": "9a38fc84-f2c3-4af0-e590-cfad54c06619",
        "colab": {
          "base_uri": "https://localhost:8080/",
          "height": 206
        }
      },
      "execution_count": 47,
      "outputs": [
        {
          "output_type": "execute_result",
          "data": {
            "text/plain": [
              "        Date    Price     Open     High      Low\n",
              "0 2015-05-19  17071.0  17705.0  17735.0  16870.0\n",
              "1 2015-05-20  17113.0  17095.0  17280.0  16935.0\n",
              "2 2015-05-21  17132.0  17100.0  17250.0  17000.0\n",
              "3 2015-05-22  17051.0  17140.0  17335.0  16940.0\n",
              "4 2015-05-25  16746.0  17050.0  17180.0  16645.0"
            ],
            "text/html": [
              "\n",
              "  <div id=\"df-3565a641-67eb-4677-a8fb-b787ad7cf18b\" class=\"colab-df-container\">\n",
              "    <div>\n",
              "<style scoped>\n",
              "    .dataframe tbody tr th:only-of-type {\n",
              "        vertical-align: middle;\n",
              "    }\n",
              "\n",
              "    .dataframe tbody tr th {\n",
              "        vertical-align: top;\n",
              "    }\n",
              "\n",
              "    .dataframe thead th {\n",
              "        text-align: right;\n",
              "    }\n",
              "</style>\n",
              "<table border=\"1\" class=\"dataframe\">\n",
              "  <thead>\n",
              "    <tr style=\"text-align: right;\">\n",
              "      <th></th>\n",
              "      <th>Date</th>\n",
              "      <th>Price</th>\n",
              "      <th>Open</th>\n",
              "      <th>High</th>\n",
              "      <th>Low</th>\n",
              "    </tr>\n",
              "  </thead>\n",
              "  <tbody>\n",
              "    <tr>\n",
              "      <th>0</th>\n",
              "      <td>2015-05-19</td>\n",
              "      <td>17071.0</td>\n",
              "      <td>17705.0</td>\n",
              "      <td>17735.0</td>\n",
              "      <td>16870.0</td>\n",
              "    </tr>\n",
              "    <tr>\n",
              "      <th>1</th>\n",
              "      <td>2015-05-20</td>\n",
              "      <td>17113.0</td>\n",
              "      <td>17095.0</td>\n",
              "      <td>17280.0</td>\n",
              "      <td>16935.0</td>\n",
              "    </tr>\n",
              "    <tr>\n",
              "      <th>2</th>\n",
              "      <td>2015-05-21</td>\n",
              "      <td>17132.0</td>\n",
              "      <td>17100.0</td>\n",
              "      <td>17250.0</td>\n",
              "      <td>17000.0</td>\n",
              "    </tr>\n",
              "    <tr>\n",
              "      <th>3</th>\n",
              "      <td>2015-05-22</td>\n",
              "      <td>17051.0</td>\n",
              "      <td>17140.0</td>\n",
              "      <td>17335.0</td>\n",
              "      <td>16940.0</td>\n",
              "    </tr>\n",
              "    <tr>\n",
              "      <th>4</th>\n",
              "      <td>2015-05-25</td>\n",
              "      <td>16746.0</td>\n",
              "      <td>17050.0</td>\n",
              "      <td>17180.0</td>\n",
              "      <td>16645.0</td>\n",
              "    </tr>\n",
              "  </tbody>\n",
              "</table>\n",
              "</div>\n",
              "    <div class=\"colab-df-buttons\">\n",
              "\n",
              "  <div class=\"colab-df-container\">\n",
              "    <button class=\"colab-df-convert\" onclick=\"convertToInteractive('df-3565a641-67eb-4677-a8fb-b787ad7cf18b')\"\n",
              "            title=\"Convert this dataframe to an interactive table.\"\n",
              "            style=\"display:none;\">\n",
              "\n",
              "  <svg xmlns=\"http://www.w3.org/2000/svg\" height=\"24px\" viewBox=\"0 -960 960 960\">\n",
              "    <path d=\"M120-120v-720h720v720H120Zm60-500h600v-160H180v160Zm220 220h160v-160H400v160Zm0 220h160v-160H400v160ZM180-400h160v-160H180v160Zm440 0h160v-160H620v160ZM180-180h160v-160H180v160Zm440 0h160v-160H620v160Z\"/>\n",
              "  </svg>\n",
              "    </button>\n",
              "\n",
              "  <style>\n",
              "    .colab-df-container {\n",
              "      display:flex;\n",
              "      gap: 12px;\n",
              "    }\n",
              "\n",
              "    .colab-df-convert {\n",
              "      background-color: #E8F0FE;\n",
              "      border: none;\n",
              "      border-radius: 50%;\n",
              "      cursor: pointer;\n",
              "      display: none;\n",
              "      fill: #1967D2;\n",
              "      height: 32px;\n",
              "      padding: 0 0 0 0;\n",
              "      width: 32px;\n",
              "    }\n",
              "\n",
              "    .colab-df-convert:hover {\n",
              "      background-color: #E2EBFA;\n",
              "      box-shadow: 0px 1px 2px rgba(60, 64, 67, 0.3), 0px 1px 3px 1px rgba(60, 64, 67, 0.15);\n",
              "      fill: #174EA6;\n",
              "    }\n",
              "\n",
              "    .colab-df-buttons div {\n",
              "      margin-bottom: 4px;\n",
              "    }\n",
              "\n",
              "    [theme=dark] .colab-df-convert {\n",
              "      background-color: #3B4455;\n",
              "      fill: #D2E3FC;\n",
              "    }\n",
              "\n",
              "    [theme=dark] .colab-df-convert:hover {\n",
              "      background-color: #434B5C;\n",
              "      box-shadow: 0px 1px 3px 1px rgba(0, 0, 0, 0.15);\n",
              "      filter: drop-shadow(0px 1px 2px rgba(0, 0, 0, 0.3));\n",
              "      fill: #FFFFFF;\n",
              "    }\n",
              "  </style>\n",
              "\n",
              "    <script>\n",
              "      const buttonEl =\n",
              "        document.querySelector('#df-3565a641-67eb-4677-a8fb-b787ad7cf18b button.colab-df-convert');\n",
              "      buttonEl.style.display =\n",
              "        google.colab.kernel.accessAllowed ? 'block' : 'none';\n",
              "\n",
              "      async function convertToInteractive(key) {\n",
              "        const element = document.querySelector('#df-3565a641-67eb-4677-a8fb-b787ad7cf18b');\n",
              "        const dataTable =\n",
              "          await google.colab.kernel.invokeFunction('convertToInteractive',\n",
              "                                                    [key], {});\n",
              "        if (!dataTable) return;\n",
              "\n",
              "        const docLinkHtml = 'Like what you see? Visit the ' +\n",
              "          '<a target=\"_blank\" href=https://colab.research.google.com/notebooks/data_table.ipynb>data table notebook</a>'\n",
              "          + ' to learn more about interactive tables.';\n",
              "        element.innerHTML = '';\n",
              "        dataTable['output_type'] = 'display_data';\n",
              "        await google.colab.output.renderOutput(dataTable, element);\n",
              "        const docLink = document.createElement('div');\n",
              "        docLink.innerHTML = docLinkHtml;\n",
              "        element.appendChild(docLink);\n",
              "      }\n",
              "    </script>\n",
              "  </div>\n",
              "\n",
              "\n",
              "    <div id=\"df-8b37c53b-8c32-4e47-ac0b-5e6041d5b230\">\n",
              "      <button class=\"colab-df-quickchart\" onclick=\"quickchart('df-8b37c53b-8c32-4e47-ac0b-5e6041d5b230')\"\n",
              "                title=\"Suggest charts\"\n",
              "                style=\"display:none;\">\n",
              "\n",
              "<svg xmlns=\"http://www.w3.org/2000/svg\" height=\"24px\"viewBox=\"0 0 24 24\"\n",
              "     width=\"24px\">\n",
              "    <g>\n",
              "        <path d=\"M19 3H5c-1.1 0-2 .9-2 2v14c0 1.1.9 2 2 2h14c1.1 0 2-.9 2-2V5c0-1.1-.9-2-2-2zM9 17H7v-7h2v7zm4 0h-2V7h2v10zm4 0h-2v-4h2v4z\"/>\n",
              "    </g>\n",
              "</svg>\n",
              "      </button>\n",
              "\n",
              "<style>\n",
              "  .colab-df-quickchart {\n",
              "      --bg-color: #E8F0FE;\n",
              "      --fill-color: #1967D2;\n",
              "      --hover-bg-color: #E2EBFA;\n",
              "      --hover-fill-color: #174EA6;\n",
              "      --disabled-fill-color: #AAA;\n",
              "      --disabled-bg-color: #DDD;\n",
              "  }\n",
              "\n",
              "  [theme=dark] .colab-df-quickchart {\n",
              "      --bg-color: #3B4455;\n",
              "      --fill-color: #D2E3FC;\n",
              "      --hover-bg-color: #434B5C;\n",
              "      --hover-fill-color: #FFFFFF;\n",
              "      --disabled-bg-color: #3B4455;\n",
              "      --disabled-fill-color: #666;\n",
              "  }\n",
              "\n",
              "  .colab-df-quickchart {\n",
              "    background-color: var(--bg-color);\n",
              "    border: none;\n",
              "    border-radius: 50%;\n",
              "    cursor: pointer;\n",
              "    display: none;\n",
              "    fill: var(--fill-color);\n",
              "    height: 32px;\n",
              "    padding: 0;\n",
              "    width: 32px;\n",
              "  }\n",
              "\n",
              "  .colab-df-quickchart:hover {\n",
              "    background-color: var(--hover-bg-color);\n",
              "    box-shadow: 0 1px 2px rgba(60, 64, 67, 0.3), 0 1px 3px 1px rgba(60, 64, 67, 0.15);\n",
              "    fill: var(--button-hover-fill-color);\n",
              "  }\n",
              "\n",
              "  .colab-df-quickchart-complete:disabled,\n",
              "  .colab-df-quickchart-complete:disabled:hover {\n",
              "    background-color: var(--disabled-bg-color);\n",
              "    fill: var(--disabled-fill-color);\n",
              "    box-shadow: none;\n",
              "  }\n",
              "\n",
              "  .colab-df-spinner {\n",
              "    border: 2px solid var(--fill-color);\n",
              "    border-color: transparent;\n",
              "    border-bottom-color: var(--fill-color);\n",
              "    animation:\n",
              "      spin 1s steps(1) infinite;\n",
              "  }\n",
              "\n",
              "  @keyframes spin {\n",
              "    0% {\n",
              "      border-color: transparent;\n",
              "      border-bottom-color: var(--fill-color);\n",
              "      border-left-color: var(--fill-color);\n",
              "    }\n",
              "    20% {\n",
              "      border-color: transparent;\n",
              "      border-left-color: var(--fill-color);\n",
              "      border-top-color: var(--fill-color);\n",
              "    }\n",
              "    30% {\n",
              "      border-color: transparent;\n",
              "      border-left-color: var(--fill-color);\n",
              "      border-top-color: var(--fill-color);\n",
              "      border-right-color: var(--fill-color);\n",
              "    }\n",
              "    40% {\n",
              "      border-color: transparent;\n",
              "      border-right-color: var(--fill-color);\n",
              "      border-top-color: var(--fill-color);\n",
              "    }\n",
              "    60% {\n",
              "      border-color: transparent;\n",
              "      border-right-color: var(--fill-color);\n",
              "    }\n",
              "    80% {\n",
              "      border-color: transparent;\n",
              "      border-right-color: var(--fill-color);\n",
              "      border-bottom-color: var(--fill-color);\n",
              "    }\n",
              "    90% {\n",
              "      border-color: transparent;\n",
              "      border-bottom-color: var(--fill-color);\n",
              "    }\n",
              "  }\n",
              "</style>\n",
              "\n",
              "      <script>\n",
              "        async function quickchart(key) {\n",
              "          const quickchartButtonEl =\n",
              "            document.querySelector('#' + key + ' button');\n",
              "          quickchartButtonEl.disabled = true;  // To prevent multiple clicks.\n",
              "          quickchartButtonEl.classList.add('colab-df-spinner');\n",
              "          try {\n",
              "            const charts = await google.colab.kernel.invokeFunction(\n",
              "                'suggestCharts', [key], {});\n",
              "          } catch (error) {\n",
              "            console.error('Error during call to suggestCharts:', error);\n",
              "          }\n",
              "          quickchartButtonEl.classList.remove('colab-df-spinner');\n",
              "          quickchartButtonEl.classList.add('colab-df-quickchart-complete');\n",
              "        }\n",
              "        (() => {\n",
              "          let quickchartButtonEl =\n",
              "            document.querySelector('#df-8b37c53b-8c32-4e47-ac0b-5e6041d5b230 button');\n",
              "          quickchartButtonEl.style.display =\n",
              "            google.colab.kernel.accessAllowed ? 'block' : 'none';\n",
              "        })();\n",
              "      </script>\n",
              "    </div>\n",
              "\n",
              "    </div>\n",
              "  </div>\n"
            ],
            "application/vnd.google.colaboratory.intrinsic+json": {
              "type": "dataframe",
              "variable_name": "df",
              "summary": "{\n  \"name\": \"df\",\n  \"rows\": 2594,\n  \"fields\": [\n    {\n      \"column\": \"Date\",\n      \"properties\": {\n        \"dtype\": \"date\",\n        \"min\": \"2015-05-19 00:00:00\",\n        \"max\": \"2025-05-19 00:00:00\",\n        \"num_unique_values\": 2594,\n        \"samples\": [\n          \"2016-03-11 00:00:00\",\n          \"2023-07-27 00:00:00\",\n          \"2022-02-10 00:00:00\"\n        ],\n        \"semantic_type\": \"\",\n        \"description\": \"\"\n      }\n    },\n    {\n      \"column\": \"Price\",\n      \"properties\": {\n        \"dtype\": \"number\",\n        \"std\": 5277.702889238267,\n        \"min\": 11772.0,\n        \"max\": 35041.0,\n        \"num_unique_values\": 2330,\n        \"samples\": [\n          17910.0,\n          23991.0,\n          19064.0\n        ],\n        \"semantic_type\": \"\",\n        \"description\": \"\"\n      }\n    },\n    {\n      \"column\": \"Open\",\n      \"properties\": {\n        \"dtype\": \"number\",\n        \"std\": 5281.574108895171,\n        \"min\": 11975.0,\n        \"max\": 35325.0,\n        \"num_unique_values\": 1703,\n        \"samples\": [\n          22920.0,\n          27150.0,\n          24520.0\n        ],\n        \"semantic_type\": \"\",\n        \"description\": \"\"\n      }\n    },\n    {\n      \"column\": \"High\",\n      \"properties\": {\n        \"dtype\": \"number\",\n        \"std\": 5370.964285389956,\n        \"min\": 12330.0,\n        \"max\": 35495.0,\n        \"num_unique_values\": 1733,\n        \"samples\": [\n          30070.0,\n          16485.0,\n          26365.0\n        ],\n        \"semantic_type\": \"\",\n        \"description\": \"\"\n      }\n    },\n    {\n      \"column\": \"Low\",\n      \"properties\": {\n        \"dtype\": \"number\",\n        \"std\": 5177.973189282091,\n        \"min\": 11640.0,\n        \"max\": 34645.0,\n        \"num_unique_values\": 1689,\n        \"samples\": [\n          23385.0,\n          32460.0,\n          24570.0\n        ],\n        \"semantic_type\": \"\",\n        \"description\": \"\"\n      }\n    }\n  ]\n}"
            }
          },
          "metadata": {},
          "execution_count": 47
        }
      ]
    },
    {
      "cell_type": "markdown",
      "source": [
        "## Langkah 4.3: Memeriksa Duplikat\n",
        "__Tidak ada sampel duplikat dalam fitur Tanggal:__"
      ],
      "metadata": {
        "papermill": {
          "duration": 0.014097,
          "end_time": "2023-01-11T15:59:41.662179",
          "exception": false,
          "start_time": "2023-01-11T15:59:41.648082",
          "status": "completed"
        },
        "tags": [],
        "id": "xzsq01TROgtQ"
      }
    },
    {
      "cell_type": "code",
      "source": [
        "df.duplicated().sum()"
      ],
      "metadata": {
        "papermill": {
          "duration": 0.028067,
          "end_time": "2023-01-11T15:59:41.705",
          "exception": false,
          "start_time": "2023-01-11T15:59:41.676933",
          "status": "completed"
        },
        "tags": [],
        "execution": {
          "iopub.status.busy": "2023-01-13T21:11:55.433586Z",
          "iopub.execute_input": "2023-01-13T21:11:55.43408Z",
          "iopub.status.idle": "2023-01-13T21:11:55.452323Z",
          "shell.execute_reply.started": "2023-01-13T21:11:55.434037Z",
          "shell.execute_reply": "2023-01-13T21:11:55.450569Z"
        },
        "trusted": true,
        "id": "A7zXIRKvOgtQ",
        "outputId": "aa3079b1-4ea8-4823-8ebd-32cb74394d0b",
        "colab": {
          "base_uri": "https://localhost:8080/"
        }
      },
      "execution_count": 48,
      "outputs": [
        {
          "output_type": "execute_result",
          "data": {
            "text/plain": [
              "np.int64(0)"
            ]
          },
          "metadata": {},
          "execution_count": 48
        }
      ]
    },
    {
      "cell_type": "markdown",
      "source": [
        "## Langkah 4.4: Memeriksa Nilai yang Hilang\n",
        "__Tidak ada nilai yang hilang dalam dataset:__"
      ],
      "metadata": {
        "papermill": {
          "duration": 0.014432,
          "end_time": "2023-01-11T15:59:41.734442",
          "exception": false,
          "start_time": "2023-01-11T15:59:41.72001",
          "status": "completed"
        },
        "tags": [],
        "id": "CwC6xsVVOgtQ"
      }
    },
    {
      "cell_type": "code",
      "source": [
        "df.isnull().sum().sum()"
      ],
      "metadata": {
        "papermill": {
          "duration": 0.029573,
          "end_time": "2023-01-11T15:59:41.778791",
          "exception": false,
          "start_time": "2023-01-11T15:59:41.749218",
          "status": "completed"
        },
        "tags": [],
        "execution": {
          "iopub.status.busy": "2023-01-13T21:11:55.453912Z",
          "iopub.execute_input": "2023-01-13T21:11:55.454366Z",
          "iopub.status.idle": "2023-01-13T21:11:55.466612Z",
          "shell.execute_reply.started": "2023-01-13T21:11:55.454317Z",
          "shell.execute_reply": "2023-01-13T21:11:55.465054Z"
        },
        "trusted": true,
        "id": "yudsx7NnOgtQ",
        "outputId": "538d3e0d-6fc9-445d-e6fa-2a2f5c3a28b6",
        "colab": {
          "base_uri": "https://localhost:8080/"
        }
      },
      "execution_count": 49,
      "outputs": [
        {
          "output_type": "execute_result",
          "data": {
            "text/plain": [
              "np.int64(0)"
            ]
          },
          "metadata": {},
          "execution_count": 49
        }
      ]
    },
    {
      "cell_type": "markdown",
      "source": [
        "# Langkah 5: Memvisualisasikan Data Riwayat Harga Perak\n",
        "\n",
        "__Membuat Grafik Harga Perak Interaktif:__"
      ],
      "metadata": {
        "papermill": {
          "duration": 0.014628,
          "end_time": "2023-01-11T15:59:41.808567",
          "exception": false,
          "start_time": "2023-01-11T15:59:41.793939",
          "status": "completed"
        },
        "tags": [],
        "id": "SFCxeGTcOgtQ"
      }
    },
    {
      "cell_type": "code",
      "source": [
        "fig = px.line(y=df.Price, x=df.Date)\n",
        "fig.update_traces(line_color='black')\n",
        "fig.update_layout(xaxis_title=\"Tanggal\",\n",
        "                  yaxis_title=\"Harga Berskala\",\n",
        "                  title={'text': \"Data Riwayat Harga Perak\", 'y':0.95, 'x':0.5, 'xanchor':'center', 'yanchor':'top'},\n",
        "                    plot_bgcolor='white')\n",
        "\n",
        "fig.update_xaxes(showline=True, linewidth=2, linecolor='black', mirror=True)\n",
        "fig.update_yaxes(showline=True, linewidth=2, linecolor='black', mirror=True)"
      ],
      "metadata": {
        "papermill": {
          "duration": 1.42051,
          "end_time": "2023-01-11T15:59:43.244719",
          "exception": false,
          "start_time": "2023-01-11T15:59:41.824209",
          "status": "completed"
        },
        "tags": [],
        "execution": {
          "iopub.status.busy": "2023-01-13T21:11:55.468437Z",
          "iopub.execute_input": "2023-01-13T21:11:55.468859Z",
          "iopub.status.idle": "2023-01-13T21:11:56.665075Z",
          "shell.execute_reply.started": "2023-01-13T21:11:55.468819Z",
          "shell.execute_reply": "2023-01-13T21:11:56.664028Z"
        },
        "trusted": true,
        "id": "ZydQGa_bOgtR",
        "outputId": "94c9376b-4941-44e8-a925-7eb50371f49b",
        "colab": {
          "base_uri": "https://localhost:8080/",
          "height": 542
        }
      },
      "execution_count": 50,
      "outputs": [
        {
          "output_type": "display_data",
          "data": {
            "text/html": [
              "<html>\n",
              "<head><meta charset=\"utf-8\" /></head>\n",
              "<body>\n",
              "    <div>            <script src=\"https://cdnjs.cloudflare.com/ajax/libs/mathjax/2.7.5/MathJax.js?config=TeX-AMS-MML_SVG\"></script><script type=\"text/javascript\">if (window.MathJax && window.MathJax.Hub && window.MathJax.Hub.Config) {window.MathJax.Hub.Config({SVG: {font: \"STIX-Web\"}});}</script>                <script type=\"text/javascript\">window.PlotlyConfig = {MathJaxConfig: 'local'};</script>\n",
              "        <script charset=\"utf-8\" src=\"https://cdn.plot.ly/plotly-2.35.2.min.js\"></script>                <div id=\"c195cbeb-dd97-4ca4-9c15-0abe48ccdd0c\" class=\"plotly-graph-div\" style=\"height:525px; width:100%;\"></div>            <script type=\"text/javascript\">                                    window.PLOTLYENV=window.PLOTLYENV || {};                                    if (document.getElementById(\"c195cbeb-dd97-4ca4-9c15-0abe48ccdd0c\")) {                    Plotly.newPlot(                        \"c195cbeb-dd97-4ca4-9c15-0abe48ccdd0c\",                        [{\"hovertemplate\":\"x=%{x}\\u003cbr\\u003ey=%{y}\\u003cextra\\u003e\\u003c\\u002fextra\\u003e\",\"legendgroup\":\"\",\"line\":{\"color\":\"black\",\"dash\":\"solid\"},\"marker\":{\"symbol\":\"circle\"},\"mode\":\"lines\",\"name\":\"\",\"showlegend\":false,\"x\":[\"2015-05-19T00:00:00\",\"2015-05-20T00:00:00\",\"2015-05-21T00:00:00\",\"2015-05-22T00:00:00\",\"2015-05-25T00:00:00\",\"2015-05-26T00:00:00\",\"2015-05-27T00:00:00\",\"2015-05-28T00:00:00\",\"2015-05-29T00:00:00\",\"2015-06-01T00:00:00\",\"2015-06-02T00:00:00\",\"2015-06-03T00:00:00\",\"2015-06-04T00:00:00\",\"2015-06-05T00:00:00\",\"2015-06-08T00:00:00\",\"2015-06-09T00:00:00\",\"2015-06-10T00:00:00\",\"2015-06-11T00:00:00\",\"2015-06-12T00:00:00\",\"2015-06-15T00:00:00\",\"2015-06-16T00:00:00\",\"2015-06-17T00:00:00\",\"2015-06-18T00:00:00\",\"2015-06-19T00:00:00\",\"2015-06-22T00:00:00\",\"2015-06-23T00:00:00\",\"2015-06-24T00:00:00\",\"2015-06-25T00:00:00\",\"2015-06-26T00:00:00\",\"2015-06-29T00:00:00\",\"2015-06-30T00:00:00\",\"2015-07-01T00:00:00\",\"2015-07-02T00:00:00\",\"2015-07-03T00:00:00\",\"2015-07-06T00:00:00\",\"2015-07-07T00:00:00\",\"2015-07-08T00:00:00\",\"2015-07-09T00:00:00\",\"2015-07-10T00:00:00\",\"2015-07-13T00:00:00\",\"2015-07-14T00:00:00\",\"2015-07-15T00:00:00\",\"2015-07-16T00:00:00\",\"2015-07-17T00:00:00\",\"2015-07-20T00:00:00\",\"2015-07-21T00:00:00\",\"2015-07-22T00:00:00\",\"2015-07-23T00:00:00\",\"2015-07-24T00:00:00\",\"2015-07-27T00:00:00\",\"2015-07-28T00:00:00\",\"2015-07-29T00:00:00\",\"2015-07-30T00:00:00\",\"2015-07-31T00:00:00\",\"2015-08-03T00:00:00\",\"2015-08-04T00:00:00\",\"2015-08-05T00:00:00\",\"2015-08-06T00:00:00\",\"2015-08-07T00:00:00\",\"2015-08-10T00:00:00\",\"2015-08-11T00:00:00\",\"2015-08-12T00:00:00\",\"2015-08-13T00:00:00\",\"2015-08-14T00:00:00\",\"2015-08-17T00:00:00\",\"2015-08-18T00:00:00\",\"2015-08-19T00:00:00\",\"2015-08-20T00:00:00\",\"2015-08-21T00:00:00\",\"2015-08-24T00:00:00\",\"2015-08-25T00:00:00\",\"2015-08-26T00:00:00\",\"2015-08-27T00:00:00\",\"2015-08-28T00:00:00\",\"2015-08-31T00:00:00\",\"2015-09-01T00:00:00\",\"2015-09-02T00:00:00\",\"2015-09-03T00:00:00\",\"2015-09-04T00:00:00\",\"2015-09-07T00:00:00\",\"2015-09-08T00:00:00\",\"2015-09-09T00:00:00\",\"2015-09-10T00:00:00\",\"2015-09-11T00:00:00\",\"2015-09-14T00:00:00\",\"2015-09-15T00:00:00\",\"2015-09-16T00:00:00\",\"2015-09-17T00:00:00\",\"2015-09-18T00:00:00\",\"2015-09-21T00:00:00\",\"2015-09-22T00:00:00\",\"2015-09-23T00:00:00\",\"2015-09-24T00:00:00\",\"2015-09-25T00:00:00\",\"2015-09-28T00:00:00\",\"2015-09-29T00:00:00\",\"2015-09-30T00:00:00\",\"2015-10-01T00:00:00\",\"2015-10-02T00:00:00\",\"2015-10-05T00:00:00\",\"2015-10-06T00:00:00\",\"2015-10-07T00:00:00\",\"2015-10-08T00:00:00\",\"2015-10-09T00:00:00\",\"2015-10-12T00:00:00\",\"2015-10-13T00:00:00\",\"2015-10-14T00:00:00\",\"2015-10-15T00:00:00\",\"2015-10-16T00:00:00\",\"2015-10-19T00:00:00\",\"2015-10-20T00:00:00\",\"2015-10-21T00:00:00\",\"2015-10-22T00:00:00\",\"2015-10-23T00:00:00\",\"2015-10-26T00:00:00\",\"2015-10-27T00:00:00\",\"2015-10-28T00:00:00\",\"2015-10-29T00:00:00\",\"2015-10-30T00:00:00\",\"2015-11-02T00:00:00\",\"2015-11-03T00:00:00\",\"2015-11-04T00:00:00\",\"2015-11-05T00:00:00\",\"2015-11-06T00:00:00\",\"2015-11-09T00:00:00\",\"2015-11-10T00:00:00\",\"2015-11-11T00:00:00\",\"2015-11-12T00:00:00\",\"2015-11-13T00:00:00\",\"2015-11-16T00:00:00\",\"2015-11-17T00:00:00\",\"2015-11-18T00:00:00\",\"2015-11-19T00:00:00\",\"2015-11-20T00:00:00\",\"2015-11-23T00:00:00\",\"2015-11-24T00:00:00\",\"2015-11-25T00:00:00\",\"2015-11-26T00:00:00\",\"2015-11-27T00:00:00\",\"2015-11-30T00:00:00\",\"2015-12-01T00:00:00\",\"2015-12-02T00:00:00\",\"2015-12-03T00:00:00\",\"2015-12-04T00:00:00\",\"2015-12-07T00:00:00\",\"2015-12-08T00:00:00\",\"2015-12-09T00:00:00\",\"2015-12-10T00:00:00\",\"2015-12-11T00:00:00\",\"2015-12-14T00:00:00\",\"2015-12-15T00:00:00\",\"2015-12-16T00:00:00\",\"2015-12-17T00:00:00\",\"2015-12-18T00:00:00\",\"2015-12-21T00:00:00\",\"2015-12-22T00:00:00\",\"2015-12-23T00:00:00\",\"2015-12-24T00:00:00\",\"2015-12-28T00:00:00\",\"2015-12-29T00:00:00\",\"2015-12-30T00:00:00\",\"2015-12-31T00:00:00\",\"2016-01-04T00:00:00\",\"2016-01-05T00:00:00\",\"2016-01-06T00:00:00\",\"2016-01-07T00:00:00\",\"2016-01-08T00:00:00\",\"2016-01-11T00:00:00\",\"2016-01-12T00:00:00\",\"2016-01-13T00:00:00\",\"2016-01-14T00:00:00\",\"2016-01-15T00:00:00\",\"2016-01-18T00:00:00\",\"2016-01-19T00:00:00\",\"2016-01-20T00:00:00\",\"2016-01-21T00:00:00\",\"2016-01-22T00:00:00\",\"2016-01-25T00:00:00\",\"2016-01-26T00:00:00\",\"2016-01-27T00:00:00\",\"2016-01-28T00:00:00\",\"2016-01-29T00:00:00\",\"2016-02-01T00:00:00\",\"2016-02-02T00:00:00\",\"2016-02-03T00:00:00\",\"2016-02-04T00:00:00\",\"2016-02-05T00:00:00\",\"2016-02-08T00:00:00\",\"2016-02-09T00:00:00\",\"2016-02-10T00:00:00\",\"2016-02-11T00:00:00\",\"2016-02-12T00:00:00\",\"2016-02-15T00:00:00\",\"2016-02-16T00:00:00\",\"2016-02-17T00:00:00\",\"2016-02-18T00:00:00\",\"2016-02-19T00:00:00\",\"2016-02-22T00:00:00\",\"2016-02-23T00:00:00\",\"2016-02-24T00:00:00\",\"2016-02-25T00:00:00\",\"2016-02-26T00:00:00\",\"2016-02-29T00:00:00\",\"2016-03-01T00:00:00\",\"2016-03-02T00:00:00\",\"2016-03-03T00:00:00\",\"2016-03-04T00:00:00\",\"2016-03-07T00:00:00\",\"2016-03-08T00:00:00\",\"2016-03-09T00:00:00\",\"2016-03-10T00:00:00\",\"2016-03-11T00:00:00\",\"2016-03-14T00:00:00\",\"2016-03-15T00:00:00\",\"2016-03-16T00:00:00\",\"2016-03-17T00:00:00\",\"2016-03-18T00:00:00\",\"2016-03-21T00:00:00\",\"2016-03-22T00:00:00\",\"2016-03-23T00:00:00\",\"2016-03-24T00:00:00\",\"2016-03-28T00:00:00\",\"2016-03-29T00:00:00\",\"2016-03-30T00:00:00\",\"2016-03-31T00:00:00\",\"2016-04-01T00:00:00\",\"2016-04-04T00:00:00\",\"2016-04-05T00:00:00\",\"2016-04-06T00:00:00\",\"2016-04-07T00:00:00\",\"2016-04-08T00:00:00\",\"2016-04-11T00:00:00\",\"2016-04-12T00:00:00\",\"2016-04-13T00:00:00\",\"2016-04-14T00:00:00\",\"2016-04-15T00:00:00\",\"2016-04-18T00:00:00\",\"2016-04-19T00:00:00\",\"2016-04-20T00:00:00\",\"2016-04-21T00:00:00\",\"2016-04-22T00:00:00\",\"2016-04-25T00:00:00\",\"2016-04-26T00:00:00\",\"2016-04-27T00:00:00\",\"2016-04-28T00:00:00\",\"2016-04-29T00:00:00\",\"2016-05-02T00:00:00\",\"2016-05-03T00:00:00\",\"2016-05-04T00:00:00\",\"2016-05-05T00:00:00\",\"2016-05-06T00:00:00\",\"2016-05-09T00:00:00\",\"2016-05-10T00:00:00\",\"2016-05-11T00:00:00\",\"2016-05-12T00:00:00\",\"2016-05-13T00:00:00\",\"2016-05-16T00:00:00\",\"2016-05-17T00:00:00\",\"2016-05-18T00:00:00\",\"2016-05-19T00:00:00\",\"2016-05-20T00:00:00\",\"2016-05-23T00:00:00\",\"2016-05-24T00:00:00\",\"2016-05-25T00:00:00\",\"2016-05-26T00:00:00\",\"2016-05-27T00:00:00\",\"2016-05-30T00:00:00\",\"2016-05-31T00:00:00\",\"2016-06-01T00:00:00\",\"2016-06-02T00:00:00\",\"2016-06-03T00:00:00\",\"2016-06-06T00:00:00\",\"2016-06-07T00:00:00\",\"2016-06-08T00:00:00\",\"2016-06-09T00:00:00\",\"2016-06-10T00:00:00\",\"2016-06-13T00:00:00\",\"2016-06-14T00:00:00\",\"2016-06-15T00:00:00\",\"2016-06-16T00:00:00\",\"2016-06-17T00:00:00\",\"2016-06-20T00:00:00\",\"2016-06-21T00:00:00\",\"2016-06-22T00:00:00\",\"2016-06-23T00:00:00\",\"2016-06-24T00:00:00\",\"2016-06-27T00:00:00\",\"2016-06-28T00:00:00\",\"2016-06-29T00:00:00\",\"2016-06-30T00:00:00\",\"2016-07-01T00:00:00\",\"2016-07-04T00:00:00\",\"2016-07-05T00:00:00\",\"2016-07-06T00:00:00\",\"2016-07-07T00:00:00\",\"2016-07-08T00:00:00\",\"2016-07-11T00:00:00\",\"2016-07-12T00:00:00\",\"2016-07-13T00:00:00\",\"2016-07-14T00:00:00\",\"2016-07-15T00:00:00\",\"2016-07-18T00:00:00\",\"2016-07-19T00:00:00\",\"2016-07-20T00:00:00\",\"2016-07-21T00:00:00\",\"2016-07-22T00:00:00\",\"2016-07-25T00:00:00\",\"2016-07-26T00:00:00\",\"2016-07-27T00:00:00\",\"2016-07-28T00:00:00\",\"2016-07-29T00:00:00\",\"2016-08-01T00:00:00\",\"2016-08-02T00:00:00\",\"2016-08-03T00:00:00\",\"2016-08-04T00:00:00\",\"2016-08-05T00:00:00\",\"2016-08-08T00:00:00\",\"2016-08-09T00:00:00\",\"2016-08-10T00:00:00\",\"2016-08-11T00:00:00\",\"2016-08-12T00:00:00\",\"2016-08-15T00:00:00\",\"2016-08-16T00:00:00\",\"2016-08-17T00:00:00\",\"2016-08-18T00:00:00\",\"2016-08-19T00:00:00\",\"2016-08-22T00:00:00\",\"2016-08-23T00:00:00\",\"2016-08-24T00:00:00\",\"2016-08-25T00:00:00\",\"2016-08-26T00:00:00\",\"2016-08-29T00:00:00\",\"2016-08-30T00:00:00\",\"2016-08-31T00:00:00\",\"2016-09-01T00:00:00\",\"2016-09-02T00:00:00\",\"2016-09-05T00:00:00\",\"2016-09-06T00:00:00\",\"2016-09-07T00:00:00\",\"2016-09-08T00:00:00\",\"2016-09-09T00:00:00\",\"2016-09-12T00:00:00\",\"2016-09-13T00:00:00\",\"2016-09-14T00:00:00\",\"2016-09-15T00:00:00\",\"2016-09-16T00:00:00\",\"2016-09-19T00:00:00\",\"2016-09-20T00:00:00\",\"2016-09-21T00:00:00\",\"2016-09-22T00:00:00\",\"2016-09-23T00:00:00\",\"2016-09-26T00:00:00\",\"2016-09-27T00:00:00\",\"2016-09-28T00:00:00\",\"2016-09-29T00:00:00\",\"2016-09-30T00:00:00\",\"2016-10-03T00:00:00\",\"2016-10-04T00:00:00\",\"2016-10-05T00:00:00\",\"2016-10-06T00:00:00\",\"2016-10-07T00:00:00\",\"2016-10-10T00:00:00\",\"2016-10-11T00:00:00\",\"2016-10-12T00:00:00\",\"2016-10-13T00:00:00\",\"2016-10-14T00:00:00\",\"2016-10-17T00:00:00\",\"2016-10-18T00:00:00\",\"2016-10-19T00:00:00\",\"2016-10-20T00:00:00\",\"2016-10-21T00:00:00\",\"2016-10-24T00:00:00\",\"2016-10-25T00:00:00\",\"2016-10-26T00:00:00\",\"2016-10-27T00:00:00\",\"2016-10-28T00:00:00\",\"2016-10-31T00:00:00\",\"2016-11-01T00:00:00\",\"2016-11-02T00:00:00\",\"2016-11-03T00:00:00\",\"2016-11-04T00:00:00\",\"2016-11-07T00:00:00\",\"2016-11-08T00:00:00\",\"2016-11-09T00:00:00\",\"2016-11-10T00:00:00\",\"2016-11-11T00:00:00\",\"2016-11-14T00:00:00\",\"2016-11-15T00:00:00\",\"2016-11-16T00:00:00\",\"2016-11-17T00:00:00\",\"2016-11-18T00:00:00\",\"2016-11-21T00:00:00\",\"2016-11-22T00:00:00\",\"2016-11-23T00:00:00\",\"2016-11-24T00:00:00\",\"2016-11-25T00:00:00\",\"2016-11-28T00:00:00\",\"2016-11-29T00:00:00\",\"2016-11-30T00:00:00\",\"2016-12-01T00:00:00\",\"2016-12-02T00:00:00\",\"2016-12-05T00:00:00\",\"2016-12-06T00:00:00\",\"2016-12-07T00:00:00\",\"2016-12-08T00:00:00\",\"2016-12-09T00:00:00\",\"2016-12-12T00:00:00\",\"2016-12-13T00:00:00\",\"2016-12-14T00:00:00\",\"2016-12-15T00:00:00\",\"2016-12-16T00:00:00\",\"2016-12-19T00:00:00\",\"2016-12-20T00:00:00\",\"2016-12-21T00:00:00\",\"2016-12-22T00:00:00\",\"2016-12-23T00:00:00\",\"2016-12-27T00:00:00\",\"2016-12-28T00:00:00\",\"2016-12-29T00:00:00\",\"2016-12-30T00:00:00\",\"2017-01-03T00:00:00\",\"2017-01-04T00:00:00\",\"2017-01-05T00:00:00\",\"2017-01-06T00:00:00\",\"2017-01-09T00:00:00\",\"2017-01-10T00:00:00\",\"2017-01-11T00:00:00\",\"2017-01-12T00:00:00\",\"2017-01-13T00:00:00\",\"2017-01-16T00:00:00\",\"2017-01-17T00:00:00\",\"2017-01-18T00:00:00\",\"2017-01-19T00:00:00\",\"2017-01-20T00:00:00\",\"2017-01-23T00:00:00\",\"2017-01-24T00:00:00\",\"2017-01-25T00:00:00\",\"2017-01-26T00:00:00\",\"2017-01-27T00:00:00\",\"2017-01-30T00:00:00\",\"2017-01-31T00:00:00\",\"2017-02-01T00:00:00\",\"2017-02-02T00:00:00\",\"2017-02-03T00:00:00\",\"2017-02-06T00:00:00\",\"2017-02-07T00:00:00\",\"2017-02-08T00:00:00\",\"2017-02-09T00:00:00\",\"2017-02-10T00:00:00\",\"2017-02-13T00:00:00\",\"2017-02-14T00:00:00\",\"2017-02-15T00:00:00\",\"2017-02-16T00:00:00\",\"2017-02-17T00:00:00\",\"2017-02-20T00:00:00\",\"2017-02-21T00:00:00\",\"2017-02-22T00:00:00\",\"2017-02-23T00:00:00\",\"2017-02-24T00:00:00\",\"2017-02-27T00:00:00\",\"2017-02-28T00:00:00\",\"2017-03-01T00:00:00\",\"2017-03-02T00:00:00\",\"2017-03-03T00:00:00\",\"2017-03-06T00:00:00\",\"2017-03-07T00:00:00\",\"2017-03-08T00:00:00\",\"2017-03-09T00:00:00\",\"2017-03-10T00:00:00\",\"2017-03-13T00:00:00\",\"2017-03-14T00:00:00\",\"2017-03-15T00:00:00\",\"2017-03-16T00:00:00\",\"2017-03-17T00:00:00\",\"2017-03-20T00:00:00\",\"2017-03-21T00:00:00\",\"2017-03-22T00:00:00\",\"2017-03-23T00:00:00\",\"2017-03-24T00:00:00\",\"2017-03-27T00:00:00\",\"2017-03-28T00:00:00\",\"2017-03-29T00:00:00\",\"2017-03-30T00:00:00\",\"2017-03-31T00:00:00\",\"2017-04-03T00:00:00\",\"2017-04-04T00:00:00\",\"2017-04-05T00:00:00\",\"2017-04-06T00:00:00\",\"2017-04-07T00:00:00\",\"2017-04-10T00:00:00\",\"2017-04-11T00:00:00\",\"2017-04-12T00:00:00\",\"2017-04-13T00:00:00\",\"2017-04-17T00:00:00\",\"2017-04-18T00:00:00\",\"2017-04-19T00:00:00\",\"2017-04-20T00:00:00\",\"2017-04-21T00:00:00\",\"2017-04-24T00:00:00\",\"2017-04-25T00:00:00\",\"2017-04-26T00:00:00\",\"2017-04-27T00:00:00\",\"2017-04-28T00:00:00\",\"2017-05-01T00:00:00\",\"2017-05-02T00:00:00\",\"2017-05-03T00:00:00\",\"2017-05-04T00:00:00\",\"2017-05-05T00:00:00\",\"2017-05-08T00:00:00\",\"2017-05-09T00:00:00\",\"2017-05-10T00:00:00\",\"2017-05-11T00:00:00\",\"2017-05-12T00:00:00\",\"2017-05-15T00:00:00\",\"2017-05-16T00:00:00\",\"2017-05-17T00:00:00\",\"2017-05-18T00:00:00\",\"2017-05-19T00:00:00\",\"2017-05-22T00:00:00\",\"2017-05-23T00:00:00\",\"2017-05-24T00:00:00\",\"2017-05-25T00:00:00\",\"2017-05-26T00:00:00\",\"2017-05-29T00:00:00\",\"2017-05-30T00:00:00\",\"2017-05-31T00:00:00\",\"2017-06-01T00:00:00\",\"2017-06-02T00:00:00\",\"2017-06-05T00:00:00\",\"2017-06-06T00:00:00\",\"2017-06-07T00:00:00\",\"2017-06-08T00:00:00\",\"2017-06-09T00:00:00\",\"2017-06-12T00:00:00\",\"2017-06-13T00:00:00\",\"2017-06-14T00:00:00\",\"2017-06-15T00:00:00\",\"2017-06-16T00:00:00\",\"2017-06-19T00:00:00\",\"2017-06-20T00:00:00\",\"2017-06-21T00:00:00\",\"2017-06-22T00:00:00\",\"2017-06-23T00:00:00\",\"2017-06-26T00:00:00\",\"2017-06-27T00:00:00\",\"2017-06-28T00:00:00\",\"2017-06-29T00:00:00\",\"2017-06-30T00:00:00\",\"2017-07-03T00:00:00\",\"2017-07-04T00:00:00\",\"2017-07-05T00:00:00\",\"2017-07-06T00:00:00\",\"2017-07-07T00:00:00\",\"2017-07-10T00:00:00\",\"2017-07-11T00:00:00\",\"2017-07-12T00:00:00\",\"2017-07-13T00:00:00\",\"2017-07-14T00:00:00\",\"2017-07-17T00:00:00\",\"2017-07-18T00:00:00\",\"2017-07-19T00:00:00\",\"2017-07-20T00:00:00\",\"2017-07-21T00:00:00\",\"2017-07-24T00:00:00\",\"2017-07-25T00:00:00\",\"2017-07-26T00:00:00\",\"2017-07-27T00:00:00\",\"2017-07-28T00:00:00\",\"2017-07-31T00:00:00\",\"2017-08-01T00:00:00\",\"2017-08-02T00:00:00\",\"2017-08-03T00:00:00\",\"2017-08-04T00:00:00\",\"2017-08-07T00:00:00\",\"2017-08-08T00:00:00\",\"2017-08-09T00:00:00\",\"2017-08-10T00:00:00\",\"2017-08-11T00:00:00\",\"2017-08-14T00:00:00\",\"2017-08-15T00:00:00\",\"2017-08-16T00:00:00\",\"2017-08-17T00:00:00\",\"2017-08-18T00:00:00\",\"2017-08-21T00:00:00\",\"2017-08-22T00:00:00\",\"2017-08-23T00:00:00\",\"2017-08-24T00:00:00\",\"2017-08-25T00:00:00\",\"2017-08-28T00:00:00\",\"2017-08-29T00:00:00\",\"2017-08-30T00:00:00\",\"2017-08-31T00:00:00\",\"2017-09-01T00:00:00\",\"2017-09-04T00:00:00\",\"2017-09-05T00:00:00\",\"2017-09-06T00:00:00\",\"2017-09-07T00:00:00\",\"2017-09-08T00:00:00\",\"2017-09-11T00:00:00\",\"2017-09-12T00:00:00\",\"2017-09-13T00:00:00\",\"2017-09-14T00:00:00\",\"2017-09-15T00:00:00\",\"2017-09-18T00:00:00\",\"2017-09-19T00:00:00\",\"2017-09-20T00:00:00\",\"2017-09-21T00:00:00\",\"2017-09-22T00:00:00\",\"2017-09-25T00:00:00\",\"2017-09-26T00:00:00\",\"2017-09-27T00:00:00\",\"2017-09-28T00:00:00\",\"2017-09-29T00:00:00\",\"2017-10-02T00:00:00\",\"2017-10-03T00:00:00\",\"2017-10-04T00:00:00\",\"2017-10-05T00:00:00\",\"2017-10-06T00:00:00\",\"2017-10-09T00:00:00\",\"2017-10-10T00:00:00\",\"2017-10-11T00:00:00\",\"2017-10-12T00:00:00\",\"2017-10-13T00:00:00\",\"2017-10-16T00:00:00\",\"2017-10-17T00:00:00\",\"2017-10-18T00:00:00\",\"2017-10-19T00:00:00\",\"2017-10-20T00:00:00\",\"2017-10-23T00:00:00\",\"2017-10-24T00:00:00\",\"2017-10-25T00:00:00\",\"2017-10-26T00:00:00\",\"2017-10-27T00:00:00\",\"2017-10-30T00:00:00\",\"2017-10-31T00:00:00\",\"2017-11-01T00:00:00\",\"2017-11-02T00:00:00\",\"2017-11-03T00:00:00\",\"2017-11-06T00:00:00\",\"2017-11-07T00:00:00\",\"2017-11-08T00:00:00\",\"2017-11-09T00:00:00\",\"2017-11-10T00:00:00\",\"2017-11-13T00:00:00\",\"2017-11-14T00:00:00\",\"2017-11-15T00:00:00\",\"2017-11-16T00:00:00\",\"2017-11-17T00:00:00\",\"2017-11-20T00:00:00\",\"2017-11-21T00:00:00\",\"2017-11-22T00:00:00\",\"2017-11-23T00:00:00\",\"2017-11-24T00:00:00\",\"2017-11-27T00:00:00\",\"2017-11-28T00:00:00\",\"2017-11-29T00:00:00\",\"2017-11-30T00:00:00\",\"2017-12-01T00:00:00\",\"2017-12-04T00:00:00\",\"2017-12-05T00:00:00\",\"2017-12-06T00:00:00\",\"2017-12-07T00:00:00\",\"2017-12-08T00:00:00\",\"2017-12-11T00:00:00\",\"2017-12-12T00:00:00\",\"2017-12-13T00:00:00\",\"2017-12-14T00:00:00\",\"2017-12-15T00:00:00\",\"2017-12-18T00:00:00\",\"2017-12-19T00:00:00\",\"2017-12-20T00:00:00\",\"2017-12-21T00:00:00\",\"2017-12-22T00:00:00\",\"2017-12-26T00:00:00\",\"2017-12-27T00:00:00\",\"2017-12-28T00:00:00\",\"2017-12-29T00:00:00\",\"2018-01-02T00:00:00\",\"2018-01-03T00:00:00\",\"2018-01-04T00:00:00\",\"2018-01-05T00:00:00\",\"2018-01-08T00:00:00\",\"2018-01-09T00:00:00\",\"2018-01-10T00:00:00\",\"2018-01-11T00:00:00\",\"2018-01-12T00:00:00\",\"2018-01-15T00:00:00\",\"2018-01-16T00:00:00\",\"2018-01-17T00:00:00\",\"2018-01-18T00:00:00\",\"2018-01-19T00:00:00\",\"2018-01-22T00:00:00\",\"2018-01-23T00:00:00\",\"2018-01-24T00:00:00\",\"2018-01-25T00:00:00\",\"2018-01-26T00:00:00\",\"2018-01-29T00:00:00\",\"2018-01-30T00:00:00\",\"2018-01-31T00:00:00\",\"2018-02-01T00:00:00\",\"2018-02-02T00:00:00\",\"2018-02-05T00:00:00\",\"2018-02-06T00:00:00\",\"2018-02-07T00:00:00\",\"2018-02-08T00:00:00\",\"2018-02-09T00:00:00\",\"2018-02-12T00:00:00\",\"2018-02-13T00:00:00\",\"2018-02-14T00:00:00\",\"2018-02-15T00:00:00\",\"2018-02-16T00:00:00\",\"2018-02-19T00:00:00\",\"2018-02-20T00:00:00\",\"2018-02-21T00:00:00\",\"2018-02-22T00:00:00\",\"2018-02-23T00:00:00\",\"2018-02-26T00:00:00\",\"2018-02-27T00:00:00\",\"2018-02-28T00:00:00\",\"2018-03-01T00:00:00\",\"2018-03-02T00:00:00\",\"2018-03-05T00:00:00\",\"2018-03-06T00:00:00\",\"2018-03-07T00:00:00\",\"2018-03-08T00:00:00\",\"2018-03-09T00:00:00\",\"2018-03-12T00:00:00\",\"2018-03-13T00:00:00\",\"2018-03-14T00:00:00\",\"2018-03-15T00:00:00\",\"2018-03-16T00:00:00\",\"2018-03-19T00:00:00\",\"2018-03-20T00:00:00\",\"2018-03-21T00:00:00\",\"2018-03-22T00:00:00\",\"2018-03-23T00:00:00\",\"2018-03-26T00:00:00\",\"2018-03-27T00:00:00\",\"2018-03-28T00:00:00\",\"2018-03-29T00:00:00\",\"2018-04-02T00:00:00\",\"2018-04-03T00:00:00\",\"2018-04-04T00:00:00\",\"2018-04-05T00:00:00\",\"2018-04-06T00:00:00\",\"2018-04-09T00:00:00\",\"2018-04-10T00:00:00\",\"2018-04-11T00:00:00\",\"2018-04-12T00:00:00\",\"2018-04-13T00:00:00\",\"2018-04-16T00:00:00\",\"2018-04-17T00:00:00\",\"2018-04-18T00:00:00\",\"2018-04-19T00:00:00\",\"2018-04-20T00:00:00\",\"2018-04-23T00:00:00\",\"2018-04-24T00:00:00\",\"2018-04-25T00:00:00\",\"2018-04-26T00:00:00\",\"2018-04-27T00:00:00\",\"2018-04-30T00:00:00\",\"2018-05-01T00:00:00\",\"2018-05-02T00:00:00\",\"2018-05-03T00:00:00\",\"2018-05-04T00:00:00\",\"2018-05-07T00:00:00\",\"2018-05-08T00:00:00\",\"2018-05-09T00:00:00\",\"2018-05-10T00:00:00\",\"2018-05-11T00:00:00\",\"2018-05-14T00:00:00\",\"2018-05-15T00:00:00\",\"2018-05-16T00:00:00\",\"2018-05-17T00:00:00\",\"2018-05-18T00:00:00\",\"2018-05-21T00:00:00\",\"2018-05-22T00:00:00\",\"2018-05-23T00:00:00\",\"2018-05-24T00:00:00\",\"2018-05-25T00:00:00\",\"2018-05-28T00:00:00\",\"2018-05-29T00:00:00\",\"2018-05-30T00:00:00\",\"2018-05-31T00:00:00\",\"2018-06-01T00:00:00\",\"2018-06-04T00:00:00\",\"2018-06-05T00:00:00\",\"2018-06-06T00:00:00\",\"2018-06-07T00:00:00\",\"2018-06-08T00:00:00\",\"2018-06-11T00:00:00\",\"2018-06-12T00:00:00\",\"2018-06-13T00:00:00\",\"2018-06-14T00:00:00\",\"2018-06-15T00:00:00\",\"2018-06-18T00:00:00\",\"2018-06-19T00:00:00\",\"2018-06-20T00:00:00\",\"2018-06-21T00:00:00\",\"2018-06-22T00:00:00\",\"2018-06-25T00:00:00\",\"2018-06-26T00:00:00\",\"2018-06-27T00:00:00\",\"2018-06-28T00:00:00\",\"2018-06-29T00:00:00\",\"2018-07-02T00:00:00\",\"2018-07-03T00:00:00\",\"2018-07-04T00:00:00\",\"2018-07-05T00:00:00\",\"2018-07-06T00:00:00\",\"2018-07-09T00:00:00\",\"2018-07-10T00:00:00\",\"2018-07-11T00:00:00\",\"2018-07-12T00:00:00\",\"2018-07-13T00:00:00\",\"2018-07-16T00:00:00\",\"2018-07-17T00:00:00\",\"2018-07-18T00:00:00\",\"2018-07-19T00:00:00\",\"2018-07-20T00:00:00\",\"2018-07-23T00:00:00\",\"2018-07-24T00:00:00\",\"2018-07-25T00:00:00\",\"2018-07-26T00:00:00\",\"2018-07-27T00:00:00\",\"2018-07-30T00:00:00\",\"2018-07-31T00:00:00\",\"2018-08-01T00:00:00\",\"2018-08-02T00:00:00\",\"2018-08-03T00:00:00\",\"2018-08-06T00:00:00\",\"2018-08-07T00:00:00\",\"2018-08-08T00:00:00\",\"2018-08-09T00:00:00\",\"2018-08-10T00:00:00\",\"2018-08-13T00:00:00\",\"2018-08-14T00:00:00\",\"2018-08-15T00:00:00\",\"2018-08-16T00:00:00\",\"2018-08-17T00:00:00\",\"2018-08-20T00:00:00\",\"2018-08-21T00:00:00\",\"2018-08-22T00:00:00\",\"2018-08-23T00:00:00\",\"2018-08-24T00:00:00\",\"2018-08-27T00:00:00\",\"2018-08-28T00:00:00\",\"2018-08-29T00:00:00\",\"2018-08-30T00:00:00\",\"2018-08-31T00:00:00\",\"2018-09-03T00:00:00\",\"2018-09-04T00:00:00\",\"2018-09-05T00:00:00\",\"2018-09-06T00:00:00\",\"2018-09-07T00:00:00\",\"2018-09-10T00:00:00\",\"2018-09-11T00:00:00\",\"2018-09-12T00:00:00\",\"2018-09-13T00:00:00\",\"2018-09-14T00:00:00\",\"2018-09-17T00:00:00\",\"2018-09-18T00:00:00\",\"2018-09-19T00:00:00\",\"2018-09-20T00:00:00\",\"2018-09-21T00:00:00\",\"2018-09-24T00:00:00\",\"2018-09-25T00:00:00\",\"2018-09-26T00:00:00\",\"2018-09-27T00:00:00\",\"2018-09-28T00:00:00\",\"2018-10-01T00:00:00\",\"2018-10-02T00:00:00\",\"2018-10-03T00:00:00\",\"2018-10-04T00:00:00\",\"2018-10-05T00:00:00\",\"2018-10-08T00:00:00\",\"2018-10-09T00:00:00\",\"2018-10-10T00:00:00\",\"2018-10-11T00:00:00\",\"2018-10-12T00:00:00\",\"2018-10-15T00:00:00\",\"2018-10-16T00:00:00\",\"2018-10-17T00:00:00\",\"2018-10-18T00:00:00\",\"2018-10-19T00:00:00\",\"2018-10-22T00:00:00\",\"2018-10-23T00:00:00\",\"2018-10-24T00:00:00\",\"2018-10-25T00:00:00\",\"2018-10-26T00:00:00\",\"2018-10-29T00:00:00\",\"2018-10-30T00:00:00\",\"2018-10-31T00:00:00\",\"2018-11-01T00:00:00\",\"2018-11-02T00:00:00\",\"2018-11-05T00:00:00\",\"2018-11-06T00:00:00\",\"2018-11-07T00:00:00\",\"2018-11-08T00:00:00\",\"2018-11-09T00:00:00\",\"2018-11-12T00:00:00\",\"2018-11-13T00:00:00\",\"2018-11-14T00:00:00\",\"2018-11-15T00:00:00\",\"2018-11-16T00:00:00\",\"2018-11-19T00:00:00\",\"2018-11-20T00:00:00\",\"2018-11-21T00:00:00\",\"2018-11-22T00:00:00\",\"2018-11-23T00:00:00\",\"2018-11-26T00:00:00\",\"2018-11-27T00:00:00\",\"2018-11-28T00:00:00\",\"2018-11-29T00:00:00\",\"2018-11-30T00:00:00\",\"2018-12-03T00:00:00\",\"2018-12-04T00:00:00\",\"2018-12-05T00:00:00\",\"2018-12-06T00:00:00\",\"2018-12-07T00:00:00\",\"2018-12-10T00:00:00\",\"2018-12-11T00:00:00\",\"2018-12-12T00:00:00\",\"2018-12-13T00:00:00\",\"2018-12-14T00:00:00\",\"2018-12-17T00:00:00\",\"2018-12-18T00:00:00\",\"2018-12-19T00:00:00\",\"2018-12-20T00:00:00\",\"2018-12-21T00:00:00\",\"2018-12-24T00:00:00\",\"2018-12-26T00:00:00\",\"2018-12-27T00:00:00\",\"2018-12-28T00:00:00\",\"2018-12-31T00:00:00\",\"2019-01-02T00:00:00\",\"2019-01-03T00:00:00\",\"2019-01-04T00:00:00\",\"2019-01-07T00:00:00\",\"2019-01-08T00:00:00\",\"2019-01-09T00:00:00\",\"2019-01-10T00:00:00\",\"2019-01-11T00:00:00\",\"2019-01-14T00:00:00\",\"2019-01-15T00:00:00\",\"2019-01-16T00:00:00\",\"2019-01-17T00:00:00\",\"2019-01-18T00:00:00\",\"2019-01-21T00:00:00\",\"2019-01-22T00:00:00\",\"2019-01-23T00:00:00\",\"2019-01-24T00:00:00\",\"2019-01-25T00:00:00\",\"2019-01-28T00:00:00\",\"2019-01-29T00:00:00\",\"2019-01-30T00:00:00\",\"2019-01-31T00:00:00\",\"2019-02-01T00:00:00\",\"2019-02-04T00:00:00\",\"2019-02-05T00:00:00\",\"2019-02-06T00:00:00\",\"2019-02-07T00:00:00\",\"2019-02-08T00:00:00\",\"2019-02-11T00:00:00\",\"2019-02-12T00:00:00\",\"2019-02-13T00:00:00\",\"2019-02-14T00:00:00\",\"2019-02-15T00:00:00\",\"2019-02-18T00:00:00\",\"2019-02-19T00:00:00\",\"2019-02-20T00:00:00\",\"2019-02-21T00:00:00\",\"2019-02-22T00:00:00\",\"2019-02-25T00:00:00\",\"2019-02-26T00:00:00\",\"2019-02-27T00:00:00\",\"2019-02-28T00:00:00\",\"2019-03-01T00:00:00\",\"2019-03-04T00:00:00\",\"2019-03-05T00:00:00\",\"2019-03-06T00:00:00\",\"2019-03-07T00:00:00\",\"2019-03-08T00:00:00\",\"2019-03-11T00:00:00\",\"2019-03-12T00:00:00\",\"2019-03-13T00:00:00\",\"2019-03-14T00:00:00\",\"2019-03-15T00:00:00\",\"2019-03-18T00:00:00\",\"2019-03-19T00:00:00\",\"2019-03-20T00:00:00\",\"2019-03-21T00:00:00\",\"2019-03-22T00:00:00\",\"2019-03-25T00:00:00\",\"2019-03-26T00:00:00\",\"2019-03-27T00:00:00\",\"2019-03-28T00:00:00\",\"2019-03-29T00:00:00\",\"2019-04-01T00:00:00\",\"2019-04-02T00:00:00\",\"2019-04-03T00:00:00\",\"2019-04-04T00:00:00\",\"2019-04-05T00:00:00\",\"2019-04-08T00:00:00\",\"2019-04-09T00:00:00\",\"2019-04-10T00:00:00\",\"2019-04-11T00:00:00\",\"2019-04-12T00:00:00\",\"2019-04-15T00:00:00\",\"2019-04-16T00:00:00\",\"2019-04-17T00:00:00\",\"2019-04-18T00:00:00\",\"2019-04-22T00:00:00\",\"2019-04-23T00:00:00\",\"2019-04-24T00:00:00\",\"2019-04-25T00:00:00\",\"2019-04-26T00:00:00\",\"2019-04-29T00:00:00\",\"2019-04-30T00:00:00\",\"2019-05-01T00:00:00\",\"2019-05-02T00:00:00\",\"2019-05-03T00:00:00\",\"2019-05-06T00:00:00\",\"2019-05-07T00:00:00\",\"2019-05-08T00:00:00\",\"2019-05-09T00:00:00\",\"2019-05-10T00:00:00\",\"2019-05-13T00:00:00\",\"2019-05-14T00:00:00\",\"2019-05-15T00:00:00\",\"2019-05-16T00:00:00\",\"2019-05-17T00:00:00\",\"2019-05-20T00:00:00\",\"2019-05-21T00:00:00\",\"2019-05-22T00:00:00\",\"2019-05-23T00:00:00\",\"2019-05-24T00:00:00\",\"2019-05-27T00:00:00\",\"2019-05-28T00:00:00\",\"2019-05-29T00:00:00\",\"2019-05-30T00:00:00\",\"2019-05-31T00:00:00\",\"2019-06-03T00:00:00\",\"2019-06-04T00:00:00\",\"2019-06-05T00:00:00\",\"2019-06-06T00:00:00\",\"2019-06-07T00:00:00\",\"2019-06-10T00:00:00\",\"2019-06-11T00:00:00\",\"2019-06-12T00:00:00\",\"2019-06-13T00:00:00\",\"2019-06-14T00:00:00\",\"2019-06-17T00:00:00\",\"2019-06-18T00:00:00\",\"2019-06-19T00:00:00\",\"2019-06-20T00:00:00\",\"2019-06-21T00:00:00\",\"2019-06-24T00:00:00\",\"2019-06-25T00:00:00\",\"2019-06-26T00:00:00\",\"2019-06-27T00:00:00\",\"2019-06-28T00:00:00\",\"2019-07-01T00:00:00\",\"2019-07-02T00:00:00\",\"2019-07-03T00:00:00\",\"2019-07-04T00:00:00\",\"2019-07-05T00:00:00\",\"2019-07-08T00:00:00\",\"2019-07-09T00:00:00\",\"2019-07-10T00:00:00\",\"2019-07-11T00:00:00\",\"2019-07-12T00:00:00\",\"2019-07-15T00:00:00\",\"2019-07-16T00:00:00\",\"2019-07-17T00:00:00\",\"2019-07-18T00:00:00\",\"2019-07-19T00:00:00\",\"2019-07-22T00:00:00\",\"2019-07-23T00:00:00\",\"2019-07-24T00:00:00\",\"2019-07-25T00:00:00\",\"2019-07-26T00:00:00\",\"2019-07-29T00:00:00\",\"2019-07-30T00:00:00\",\"2019-07-31T00:00:00\",\"2019-08-01T00:00:00\",\"2019-08-02T00:00:00\",\"2019-08-05T00:00:00\",\"2019-08-06T00:00:00\",\"2019-08-07T00:00:00\",\"2019-08-08T00:00:00\",\"2019-08-09T00:00:00\",\"2019-08-12T00:00:00\",\"2019-08-13T00:00:00\",\"2019-08-14T00:00:00\",\"2019-08-15T00:00:00\",\"2019-08-16T00:00:00\",\"2019-08-19T00:00:00\",\"2019-08-20T00:00:00\",\"2019-08-21T00:00:00\",\"2019-08-22T00:00:00\",\"2019-08-23T00:00:00\",\"2019-08-26T00:00:00\",\"2019-08-27T00:00:00\",\"2019-08-28T00:00:00\",\"2019-08-29T00:00:00\",\"2019-08-30T00:00:00\",\"2019-09-02T00:00:00\",\"2019-09-03T00:00:00\",\"2019-09-04T00:00:00\",\"2019-09-05T00:00:00\",\"2019-09-06T00:00:00\",\"2019-09-09T00:00:00\",\"2019-09-10T00:00:00\",\"2019-09-11T00:00:00\",\"2019-09-12T00:00:00\",\"2019-09-13T00:00:00\",\"2019-09-16T00:00:00\",\"2019-09-17T00:00:00\",\"2019-09-18T00:00:00\",\"2019-09-19T00:00:00\",\"2019-09-20T00:00:00\",\"2019-09-23T00:00:00\",\"2019-09-24T00:00:00\",\"2019-09-25T00:00:00\",\"2019-09-26T00:00:00\",\"2019-09-27T00:00:00\",\"2019-09-30T00:00:00\",\"2019-10-01T00:00:00\",\"2019-10-02T00:00:00\",\"2019-10-03T00:00:00\",\"2019-10-04T00:00:00\",\"2019-10-07T00:00:00\",\"2019-10-08T00:00:00\",\"2019-10-09T00:00:00\",\"2019-10-10T00:00:00\",\"2019-10-11T00:00:00\",\"2019-10-14T00:00:00\",\"2019-10-15T00:00:00\",\"2019-10-16T00:00:00\",\"2019-10-17T00:00:00\",\"2019-10-18T00:00:00\",\"2019-10-21T00:00:00\",\"2019-10-22T00:00:00\",\"2019-10-23T00:00:00\",\"2019-10-24T00:00:00\",\"2019-10-25T00:00:00\",\"2019-10-28T00:00:00\",\"2019-10-29T00:00:00\",\"2019-10-30T00:00:00\",\"2019-10-31T00:00:00\",\"2019-11-01T00:00:00\",\"2019-11-04T00:00:00\",\"2019-11-05T00:00:00\",\"2019-11-06T00:00:00\",\"2019-11-07T00:00:00\",\"2019-11-08T00:00:00\",\"2019-11-11T00:00:00\",\"2019-11-12T00:00:00\",\"2019-11-13T00:00:00\",\"2019-11-14T00:00:00\",\"2019-11-15T00:00:00\",\"2019-11-18T00:00:00\",\"2019-11-19T00:00:00\",\"2019-11-20T00:00:00\",\"2019-11-21T00:00:00\",\"2019-11-22T00:00:00\",\"2019-11-25T00:00:00\",\"2019-11-26T00:00:00\",\"2019-11-27T00:00:00\",\"2019-11-28T00:00:00\",\"2019-11-29T00:00:00\",\"2019-12-02T00:00:00\",\"2019-12-03T00:00:00\",\"2019-12-04T00:00:00\",\"2019-12-05T00:00:00\",\"2019-12-06T00:00:00\",\"2019-12-09T00:00:00\",\"2019-12-10T00:00:00\",\"2019-12-11T00:00:00\",\"2019-12-12T00:00:00\",\"2019-12-13T00:00:00\",\"2019-12-16T00:00:00\",\"2019-12-17T00:00:00\",\"2019-12-18T00:00:00\",\"2019-12-19T00:00:00\",\"2019-12-20T00:00:00\",\"2019-12-23T00:00:00\",\"2019-12-24T00:00:00\",\"2019-12-26T00:00:00\",\"2019-12-27T00:00:00\",\"2019-12-30T00:00:00\",\"2019-12-31T00:00:00\",\"2020-01-02T00:00:00\",\"2020-01-03T00:00:00\",\"2020-01-06T00:00:00\",\"2020-01-07T00:00:00\",\"2020-01-08T00:00:00\",\"2020-01-09T00:00:00\",\"2020-01-10T00:00:00\",\"2020-01-13T00:00:00\",\"2020-01-14T00:00:00\",\"2020-01-15T00:00:00\",\"2020-01-16T00:00:00\",\"2020-01-17T00:00:00\",\"2020-01-20T00:00:00\",\"2020-01-21T00:00:00\",\"2020-01-22T00:00:00\",\"2020-01-23T00:00:00\",\"2020-01-24T00:00:00\",\"2020-01-27T00:00:00\",\"2020-01-28T00:00:00\",\"2020-01-29T00:00:00\",\"2020-01-30T00:00:00\",\"2020-01-31T00:00:00\",\"2020-02-03T00:00:00\",\"2020-02-04T00:00:00\",\"2020-02-05T00:00:00\",\"2020-02-06T00:00:00\",\"2020-02-07T00:00:00\",\"2020-02-10T00:00:00\",\"2020-02-11T00:00:00\",\"2020-02-12T00:00:00\",\"2020-02-13T00:00:00\",\"2020-02-14T00:00:00\",\"2020-02-17T00:00:00\",\"2020-02-18T00:00:00\",\"2020-02-19T00:00:00\",\"2020-02-20T00:00:00\",\"2020-02-21T00:00:00\",\"2020-02-24T00:00:00\",\"2020-02-25T00:00:00\",\"2020-02-26T00:00:00\",\"2020-02-27T00:00:00\",\"2020-02-28T00:00:00\",\"2020-03-02T00:00:00\",\"2020-03-03T00:00:00\",\"2020-03-04T00:00:00\",\"2020-03-05T00:00:00\",\"2020-03-06T00:00:00\",\"2020-03-09T00:00:00\",\"2020-03-10T00:00:00\",\"2020-03-11T00:00:00\",\"2020-03-12T00:00:00\",\"2020-03-13T00:00:00\",\"2020-03-16T00:00:00\",\"2020-03-17T00:00:00\",\"2020-03-18T00:00:00\",\"2020-03-19T00:00:00\",\"2020-03-20T00:00:00\",\"2020-03-23T00:00:00\",\"2020-03-24T00:00:00\",\"2020-03-25T00:00:00\",\"2020-03-26T00:00:00\",\"2020-03-27T00:00:00\",\"2020-03-30T00:00:00\",\"2020-03-31T00:00:00\",\"2020-04-01T00:00:00\",\"2020-04-02T00:00:00\",\"2020-04-03T00:00:00\",\"2020-04-06T00:00:00\",\"2020-04-07T00:00:00\",\"2020-04-08T00:00:00\",\"2020-04-09T00:00:00\",\"2020-04-13T00:00:00\",\"2020-04-14T00:00:00\",\"2020-04-15T00:00:00\",\"2020-04-16T00:00:00\",\"2020-04-17T00:00:00\",\"2020-04-20T00:00:00\",\"2020-04-21T00:00:00\",\"2020-04-22T00:00:00\",\"2020-04-23T00:00:00\",\"2020-04-24T00:00:00\",\"2020-04-27T00:00:00\",\"2020-04-28T00:00:00\",\"2020-04-29T00:00:00\",\"2020-04-30T00:00:00\",\"2020-05-01T00:00:00\",\"2020-05-04T00:00:00\",\"2020-05-05T00:00:00\",\"2020-05-06T00:00:00\",\"2020-05-07T00:00:00\",\"2020-05-08T00:00:00\",\"2020-05-11T00:00:00\",\"2020-05-12T00:00:00\",\"2020-05-13T00:00:00\",\"2020-05-14T00:00:00\",\"2020-05-15T00:00:00\",\"2020-05-18T00:00:00\",\"2020-05-19T00:00:00\",\"2020-05-20T00:00:00\",\"2020-05-21T00:00:00\",\"2020-05-22T00:00:00\",\"2020-05-25T00:00:00\",\"2020-05-26T00:00:00\",\"2020-05-27T00:00:00\",\"2020-05-28T00:00:00\",\"2020-05-29T00:00:00\",\"2020-06-01T00:00:00\",\"2020-06-02T00:00:00\",\"2020-06-03T00:00:00\",\"2020-06-04T00:00:00\",\"2020-06-05T00:00:00\",\"2020-06-08T00:00:00\",\"2020-06-09T00:00:00\",\"2020-06-10T00:00:00\",\"2020-06-11T00:00:00\",\"2020-06-12T00:00:00\",\"2020-06-15T00:00:00\",\"2020-06-16T00:00:00\",\"2020-06-17T00:00:00\",\"2020-06-18T00:00:00\",\"2020-06-19T00:00:00\",\"2020-06-22T00:00:00\",\"2020-06-23T00:00:00\",\"2020-06-24T00:00:00\",\"2020-06-25T00:00:00\",\"2020-06-26T00:00:00\",\"2020-06-29T00:00:00\",\"2020-06-30T00:00:00\",\"2020-07-01T00:00:00\",\"2020-07-02T00:00:00\",\"2020-07-03T00:00:00\",\"2020-07-06T00:00:00\",\"2020-07-07T00:00:00\",\"2020-07-08T00:00:00\",\"2020-07-09T00:00:00\",\"2020-07-10T00:00:00\",\"2020-07-13T00:00:00\",\"2020-07-14T00:00:00\",\"2020-07-15T00:00:00\",\"2020-07-16T00:00:00\",\"2020-07-17T00:00:00\",\"2020-07-20T00:00:00\",\"2020-07-21T00:00:00\",\"2020-07-22T00:00:00\",\"2020-07-23T00:00:00\",\"2020-07-24T00:00:00\",\"2020-07-27T00:00:00\",\"2020-07-28T00:00:00\",\"2020-07-29T00:00:00\",\"2020-07-30T00:00:00\",\"2020-07-31T00:00:00\",\"2020-08-03T00:00:00\",\"2020-08-04T00:00:00\",\"2020-08-05T00:00:00\",\"2020-08-06T00:00:00\",\"2020-08-07T00:00:00\",\"2020-08-10T00:00:00\",\"2020-08-11T00:00:00\",\"2020-08-12T00:00:00\",\"2020-08-13T00:00:00\",\"2020-08-14T00:00:00\",\"2020-08-17T00:00:00\",\"2020-08-18T00:00:00\",\"2020-08-19T00:00:00\",\"2020-08-20T00:00:00\",\"2020-08-21T00:00:00\",\"2020-08-24T00:00:00\",\"2020-08-25T00:00:00\",\"2020-08-26T00:00:00\",\"2020-08-27T00:00:00\",\"2020-08-28T00:00:00\",\"2020-08-31T00:00:00\",\"2020-09-01T00:00:00\",\"2020-09-02T00:00:00\",\"2020-09-03T00:00:00\",\"2020-09-04T00:00:00\",\"2020-09-07T00:00:00\",\"2020-09-08T00:00:00\",\"2020-09-09T00:00:00\",\"2020-09-10T00:00:00\",\"2020-09-11T00:00:00\",\"2020-09-14T00:00:00\",\"2020-09-15T00:00:00\",\"2020-09-16T00:00:00\",\"2020-09-17T00:00:00\",\"2020-09-18T00:00:00\",\"2020-09-21T00:00:00\",\"2020-09-22T00:00:00\",\"2020-09-23T00:00:00\",\"2020-09-24T00:00:00\",\"2020-09-25T00:00:00\",\"2020-09-28T00:00:00\",\"2020-09-29T00:00:00\",\"2020-09-30T00:00:00\",\"2020-10-01T00:00:00\",\"2020-10-02T00:00:00\",\"2020-10-05T00:00:00\",\"2020-10-06T00:00:00\",\"2020-10-07T00:00:00\",\"2020-10-08T00:00:00\",\"2020-10-09T00:00:00\",\"2020-10-12T00:00:00\",\"2020-10-13T00:00:00\",\"2020-10-14T00:00:00\",\"2020-10-15T00:00:00\",\"2020-10-16T00:00:00\",\"2020-10-19T00:00:00\",\"2020-10-20T00:00:00\",\"2020-10-21T00:00:00\",\"2020-10-22T00:00:00\",\"2020-10-23T00:00:00\",\"2020-10-26T00:00:00\",\"2020-10-27T00:00:00\",\"2020-10-28T00:00:00\",\"2020-10-29T00:00:00\",\"2020-10-30T00:00:00\",\"2020-11-02T00:00:00\",\"2020-11-03T00:00:00\",\"2020-11-04T00:00:00\",\"2020-11-05T00:00:00\",\"2020-11-06T00:00:00\",\"2020-11-09T00:00:00\",\"2020-11-10T00:00:00\",\"2020-11-11T00:00:00\",\"2020-11-12T00:00:00\",\"2020-11-13T00:00:00\",\"2020-11-16T00:00:00\",\"2020-11-17T00:00:00\",\"2020-11-18T00:00:00\",\"2020-11-19T00:00:00\",\"2020-11-20T00:00:00\",\"2020-11-23T00:00:00\",\"2020-11-24T00:00:00\",\"2020-11-25T00:00:00\",\"2020-11-26T00:00:00\",\"2020-11-27T00:00:00\",\"2020-11-30T00:00:00\",\"2020-12-01T00:00:00\",\"2020-12-02T00:00:00\",\"2020-12-03T00:00:00\",\"2020-12-04T00:00:00\",\"2020-12-07T00:00:00\",\"2020-12-08T00:00:00\",\"2020-12-09T00:00:00\",\"2020-12-10T00:00:00\",\"2020-12-11T00:00:00\",\"2020-12-14T00:00:00\",\"2020-12-15T00:00:00\",\"2020-12-16T00:00:00\",\"2020-12-17T00:00:00\",\"2020-12-18T00:00:00\",\"2020-12-21T00:00:00\",\"2020-12-22T00:00:00\",\"2020-12-23T00:00:00\",\"2020-12-24T00:00:00\",\"2020-12-28T00:00:00\",\"2020-12-29T00:00:00\",\"2020-12-30T00:00:00\",\"2020-12-31T00:00:00\",\"2021-01-04T00:00:00\",\"2021-01-05T00:00:00\",\"2021-01-06T00:00:00\",\"2021-01-07T00:00:00\",\"2021-01-08T00:00:00\",\"2021-01-11T00:00:00\",\"2021-01-12T00:00:00\",\"2021-01-13T00:00:00\",\"2021-01-14T00:00:00\",\"2021-01-15T00:00:00\",\"2021-01-18T00:00:00\",\"2021-01-19T00:00:00\",\"2021-01-20T00:00:00\",\"2021-01-21T00:00:00\",\"2021-01-22T00:00:00\",\"2021-01-25T00:00:00\",\"2021-01-26T00:00:00\",\"2021-01-27T00:00:00\",\"2021-01-28T00:00:00\",\"2021-01-29T00:00:00\",\"2021-02-01T00:00:00\",\"2021-02-02T00:00:00\",\"2021-02-03T00:00:00\",\"2021-02-04T00:00:00\",\"2021-02-05T00:00:00\",\"2021-02-08T00:00:00\",\"2021-02-09T00:00:00\",\"2021-02-10T00:00:00\",\"2021-02-11T00:00:00\",\"2021-02-12T00:00:00\",\"2021-02-15T00:00:00\",\"2021-02-16T00:00:00\",\"2021-02-17T00:00:00\",\"2021-02-18T00:00:00\",\"2021-02-19T00:00:00\",\"2021-02-22T00:00:00\",\"2021-02-23T00:00:00\",\"2021-02-24T00:00:00\",\"2021-02-25T00:00:00\",\"2021-02-26T00:00:00\",\"2021-03-01T00:00:00\",\"2021-03-02T00:00:00\",\"2021-03-03T00:00:00\",\"2021-03-04T00:00:00\",\"2021-03-05T00:00:00\",\"2021-03-08T00:00:00\",\"2021-03-09T00:00:00\",\"2021-03-10T00:00:00\",\"2021-03-11T00:00:00\",\"2021-03-12T00:00:00\",\"2021-03-15T00:00:00\",\"2021-03-16T00:00:00\",\"2021-03-17T00:00:00\",\"2021-03-18T00:00:00\",\"2021-03-19T00:00:00\",\"2021-03-22T00:00:00\",\"2021-03-23T00:00:00\",\"2021-03-24T00:00:00\",\"2021-03-25T00:00:00\",\"2021-03-26T00:00:00\",\"2021-03-29T00:00:00\",\"2021-03-30T00:00:00\",\"2021-03-31T00:00:00\",\"2021-04-01T00:00:00\",\"2021-04-05T00:00:00\",\"2021-04-06T00:00:00\",\"2021-04-07T00:00:00\",\"2021-04-08T00:00:00\",\"2021-04-09T00:00:00\",\"2021-04-12T00:00:00\",\"2021-04-13T00:00:00\",\"2021-04-14T00:00:00\",\"2021-04-15T00:00:00\",\"2021-04-16T00:00:00\",\"2021-04-19T00:00:00\",\"2021-04-20T00:00:00\",\"2021-04-21T00:00:00\",\"2021-04-22T00:00:00\",\"2021-04-23T00:00:00\",\"2021-04-26T00:00:00\",\"2021-04-27T00:00:00\",\"2021-04-28T00:00:00\",\"2021-04-29T00:00:00\",\"2021-04-30T00:00:00\",\"2021-05-03T00:00:00\",\"2021-05-04T00:00:00\",\"2021-05-05T00:00:00\",\"2021-05-06T00:00:00\",\"2021-05-07T00:00:00\",\"2021-05-10T00:00:00\",\"2021-05-11T00:00:00\",\"2021-05-12T00:00:00\",\"2021-05-13T00:00:00\",\"2021-05-14T00:00:00\",\"2021-05-17T00:00:00\",\"2021-05-18T00:00:00\",\"2021-05-19T00:00:00\",\"2021-05-20T00:00:00\",\"2021-05-21T00:00:00\",\"2021-05-24T00:00:00\",\"2021-05-25T00:00:00\",\"2021-05-26T00:00:00\",\"2021-05-27T00:00:00\",\"2021-05-28T00:00:00\",\"2021-05-31T00:00:00\",\"2021-06-01T00:00:00\",\"2021-06-02T00:00:00\",\"2021-06-03T00:00:00\",\"2021-06-04T00:00:00\",\"2021-06-07T00:00:00\",\"2021-06-08T00:00:00\",\"2021-06-09T00:00:00\",\"2021-06-10T00:00:00\",\"2021-06-11T00:00:00\",\"2021-06-14T00:00:00\",\"2021-06-15T00:00:00\",\"2021-06-16T00:00:00\",\"2021-06-17T00:00:00\",\"2021-06-18T00:00:00\",\"2021-06-21T00:00:00\",\"2021-06-22T00:00:00\",\"2021-06-23T00:00:00\",\"2021-06-24T00:00:00\",\"2021-06-25T00:00:00\",\"2021-06-28T00:00:00\",\"2021-06-29T00:00:00\",\"2021-06-30T00:00:00\",\"2021-07-01T00:00:00\",\"2021-07-02T00:00:00\",\"2021-07-05T00:00:00\",\"2021-07-06T00:00:00\",\"2021-07-07T00:00:00\",\"2021-07-08T00:00:00\",\"2021-07-09T00:00:00\",\"2021-07-12T00:00:00\",\"2021-07-13T00:00:00\",\"2021-07-14T00:00:00\",\"2021-07-15T00:00:00\",\"2021-07-16T00:00:00\",\"2021-07-19T00:00:00\",\"2021-07-20T00:00:00\",\"2021-07-21T00:00:00\",\"2021-07-22T00:00:00\",\"2021-07-23T00:00:00\",\"2021-07-26T00:00:00\",\"2021-07-27T00:00:00\",\"2021-07-28T00:00:00\",\"2021-07-29T00:00:00\",\"2021-07-30T00:00:00\",\"2021-08-02T00:00:00\",\"2021-08-03T00:00:00\",\"2021-08-04T00:00:00\",\"2021-08-05T00:00:00\",\"2021-08-06T00:00:00\",\"2021-08-09T00:00:00\",\"2021-08-10T00:00:00\",\"2021-08-11T00:00:00\",\"2021-08-12T00:00:00\",\"2021-08-13T00:00:00\",\"2021-08-16T00:00:00\",\"2021-08-17T00:00:00\",\"2021-08-18T00:00:00\",\"2021-08-19T00:00:00\",\"2021-08-20T00:00:00\",\"2021-08-23T00:00:00\",\"2021-08-24T00:00:00\",\"2021-08-25T00:00:00\",\"2021-08-26T00:00:00\",\"2021-08-27T00:00:00\",\"2021-08-30T00:00:00\",\"2021-08-31T00:00:00\",\"2021-09-01T00:00:00\",\"2021-09-02T00:00:00\",\"2021-09-03T00:00:00\",\"2021-09-06T00:00:00\",\"2021-09-07T00:00:00\",\"2021-09-08T00:00:00\",\"2021-09-09T00:00:00\",\"2021-09-10T00:00:00\",\"2021-09-13T00:00:00\",\"2021-09-14T00:00:00\",\"2021-09-15T00:00:00\",\"2021-09-16T00:00:00\",\"2021-09-17T00:00:00\",\"2021-09-20T00:00:00\",\"2021-09-21T00:00:00\",\"2021-09-22T00:00:00\",\"2021-09-23T00:00:00\",\"2021-09-24T00:00:00\",\"2021-09-27T00:00:00\",\"2021-09-28T00:00:00\",\"2021-09-29T00:00:00\",\"2021-09-30T00:00:00\",\"2021-10-01T00:00:00\",\"2021-10-04T00:00:00\",\"2021-10-05T00:00:00\",\"2021-10-06T00:00:00\",\"2021-10-07T00:00:00\",\"2021-10-08T00:00:00\",\"2021-10-11T00:00:00\",\"2021-10-12T00:00:00\",\"2021-10-13T00:00:00\",\"2021-10-14T00:00:00\",\"2021-10-15T00:00:00\",\"2021-10-18T00:00:00\",\"2021-10-19T00:00:00\",\"2021-10-20T00:00:00\",\"2021-10-21T00:00:00\",\"2021-10-22T00:00:00\",\"2021-10-25T00:00:00\",\"2021-10-26T00:00:00\",\"2021-10-27T00:00:00\",\"2021-10-28T00:00:00\",\"2021-10-29T00:00:00\",\"2021-11-01T00:00:00\",\"2021-11-02T00:00:00\",\"2021-11-03T00:00:00\",\"2021-11-04T00:00:00\",\"2021-11-05T00:00:00\",\"2021-11-08T00:00:00\",\"2021-11-09T00:00:00\",\"2021-11-10T00:00:00\",\"2021-11-11T00:00:00\",\"2021-11-12T00:00:00\",\"2021-11-15T00:00:00\",\"2021-11-16T00:00:00\",\"2021-11-17T00:00:00\",\"2021-11-18T00:00:00\",\"2021-11-19T00:00:00\",\"2021-11-22T00:00:00\",\"2021-11-23T00:00:00\",\"2021-11-24T00:00:00\",\"2021-11-25T00:00:00\",\"2021-11-26T00:00:00\",\"2021-11-29T00:00:00\",\"2021-11-30T00:00:00\",\"2021-12-01T00:00:00\",\"2021-12-02T00:00:00\",\"2021-12-03T00:00:00\",\"2021-12-06T00:00:00\",\"2021-12-07T00:00:00\",\"2021-12-08T00:00:00\",\"2021-12-09T00:00:00\",\"2021-12-10T00:00:00\",\"2021-12-13T00:00:00\",\"2021-12-14T00:00:00\",\"2021-12-15T00:00:00\",\"2021-12-16T00:00:00\",\"2021-12-17T00:00:00\",\"2021-12-20T00:00:00\",\"2021-12-21T00:00:00\",\"2021-12-22T00:00:00\",\"2021-12-23T00:00:00\",\"2021-12-27T00:00:00\",\"2021-12-28T00:00:00\",\"2021-12-29T00:00:00\",\"2021-12-30T00:00:00\",\"2021-12-31T00:00:00\",\"2022-01-03T00:00:00\",\"2022-01-04T00:00:00\",\"2022-01-05T00:00:00\",\"2022-01-06T00:00:00\",\"2022-01-07T00:00:00\",\"2022-01-10T00:00:00\",\"2022-01-11T00:00:00\",\"2022-01-12T00:00:00\",\"2022-01-13T00:00:00\",\"2022-01-14T00:00:00\",\"2022-01-17T00:00:00\",\"2022-01-18T00:00:00\",\"2022-01-19T00:00:00\",\"2022-01-20T00:00:00\",\"2022-01-21T00:00:00\",\"2022-01-24T00:00:00\",\"2022-01-25T00:00:00\",\"2022-01-26T00:00:00\",\"2022-01-27T00:00:00\",\"2022-01-28T00:00:00\",\"2022-01-31T00:00:00\",\"2022-02-01T00:00:00\",\"2022-02-02T00:00:00\",\"2022-02-03T00:00:00\",\"2022-02-04T00:00:00\",\"2022-02-07T00:00:00\",\"2022-02-08T00:00:00\",\"2022-02-09T00:00:00\",\"2022-02-10T00:00:00\",\"2022-02-11T00:00:00\",\"2022-02-14T00:00:00\",\"2022-02-15T00:00:00\",\"2022-02-16T00:00:00\",\"2022-02-17T00:00:00\",\"2022-02-18T00:00:00\",\"2022-02-21T00:00:00\",\"2022-02-22T00:00:00\",\"2022-02-23T00:00:00\",\"2022-02-24T00:00:00\",\"2022-02-25T00:00:00\",\"2022-02-28T00:00:00\",\"2022-03-01T00:00:00\",\"2022-03-02T00:00:00\",\"2022-03-03T00:00:00\",\"2022-03-04T00:00:00\",\"2022-03-07T00:00:00\",\"2022-03-08T00:00:00\",\"2022-03-09T00:00:00\",\"2022-03-10T00:00:00\",\"2022-03-11T00:00:00\",\"2022-03-14T00:00:00\",\"2022-03-15T00:00:00\",\"2022-03-16T00:00:00\",\"2022-03-17T00:00:00\",\"2022-03-18T00:00:00\",\"2022-03-21T00:00:00\",\"2022-03-22T00:00:00\",\"2022-03-23T00:00:00\",\"2022-03-24T00:00:00\",\"2022-03-25T00:00:00\",\"2022-03-28T00:00:00\",\"2022-03-29T00:00:00\",\"2022-03-30T00:00:00\",\"2022-03-31T00:00:00\",\"2022-04-01T00:00:00\",\"2022-04-04T00:00:00\",\"2022-04-05T00:00:00\",\"2022-04-06T00:00:00\",\"2022-04-07T00:00:00\",\"2022-04-08T00:00:00\",\"2022-04-11T00:00:00\",\"2022-04-12T00:00:00\",\"2022-04-13T00:00:00\",\"2022-04-14T00:00:00\",\"2022-04-18T00:00:00\",\"2022-04-19T00:00:00\",\"2022-04-20T00:00:00\",\"2022-04-21T00:00:00\",\"2022-04-22T00:00:00\",\"2022-04-25T00:00:00\",\"2022-04-26T00:00:00\",\"2022-04-27T00:00:00\",\"2022-04-28T00:00:00\",\"2022-04-29T00:00:00\",\"2022-05-02T00:00:00\",\"2022-05-03T00:00:00\",\"2022-05-04T00:00:00\",\"2022-05-05T00:00:00\",\"2022-05-06T00:00:00\",\"2022-05-09T00:00:00\",\"2022-05-10T00:00:00\",\"2022-05-11T00:00:00\",\"2022-05-12T00:00:00\",\"2022-05-13T00:00:00\",\"2022-05-16T00:00:00\",\"2022-05-17T00:00:00\",\"2022-05-18T00:00:00\",\"2022-05-19T00:00:00\",\"2022-05-20T00:00:00\",\"2022-05-23T00:00:00\",\"2022-05-24T00:00:00\",\"2022-05-25T00:00:00\",\"2022-05-26T00:00:00\",\"2022-05-27T00:00:00\",\"2022-05-30T00:00:00\",\"2022-05-31T00:00:00\",\"2022-06-01T00:00:00\",\"2022-06-02T00:00:00\",\"2022-06-03T00:00:00\",\"2022-06-06T00:00:00\",\"2022-06-07T00:00:00\",\"2022-06-08T00:00:00\",\"2022-06-09T00:00:00\",\"2022-06-10T00:00:00\",\"2022-06-13T00:00:00\",\"2022-06-14T00:00:00\",\"2022-06-15T00:00:00\",\"2022-06-16T00:00:00\",\"2022-06-17T00:00:00\",\"2022-06-20T00:00:00\",\"2022-06-21T00:00:00\",\"2022-06-22T00:00:00\",\"2022-06-23T00:00:00\",\"2022-06-24T00:00:00\",\"2022-06-27T00:00:00\",\"2022-06-28T00:00:00\",\"2022-06-29T00:00:00\",\"2022-06-30T00:00:00\",\"2022-07-01T00:00:00\",\"2022-07-04T00:00:00\",\"2022-07-05T00:00:00\",\"2022-07-06T00:00:00\",\"2022-07-07T00:00:00\",\"2022-07-08T00:00:00\",\"2022-07-11T00:00:00\",\"2022-07-12T00:00:00\",\"2022-07-13T00:00:00\",\"2022-07-14T00:00:00\",\"2022-07-15T00:00:00\",\"2022-07-18T00:00:00\",\"2022-07-19T00:00:00\",\"2022-07-20T00:00:00\",\"2022-07-21T00:00:00\",\"2022-07-22T00:00:00\",\"2022-07-25T00:00:00\",\"2022-07-26T00:00:00\",\"2022-07-27T00:00:00\",\"2022-07-28T00:00:00\",\"2022-07-29T00:00:00\",\"2022-08-01T00:00:00\",\"2022-08-02T00:00:00\",\"2022-08-03T00:00:00\",\"2022-08-04T00:00:00\",\"2022-08-05T00:00:00\",\"2022-08-08T00:00:00\",\"2022-08-09T00:00:00\",\"2022-08-10T00:00:00\",\"2022-08-11T00:00:00\",\"2022-08-12T00:00:00\",\"2022-08-15T00:00:00\",\"2022-08-16T00:00:00\",\"2022-08-17T00:00:00\",\"2022-08-18T00:00:00\",\"2022-08-19T00:00:00\",\"2022-08-22T00:00:00\",\"2022-08-23T00:00:00\",\"2022-08-24T00:00:00\",\"2022-08-25T00:00:00\",\"2022-08-26T00:00:00\",\"2022-08-29T00:00:00\",\"2022-08-30T00:00:00\",\"2022-08-31T00:00:00\",\"2022-09-01T00:00:00\",\"2022-09-02T00:00:00\",\"2022-09-05T00:00:00\",\"2022-09-06T00:00:00\",\"2022-09-07T00:00:00\",\"2022-09-08T00:00:00\",\"2022-09-09T00:00:00\",\"2022-09-12T00:00:00\",\"2022-09-13T00:00:00\",\"2022-09-14T00:00:00\",\"2022-09-15T00:00:00\",\"2022-09-16T00:00:00\",\"2022-09-19T00:00:00\",\"2022-09-20T00:00:00\",\"2022-09-21T00:00:00\",\"2022-09-22T00:00:00\",\"2022-09-23T00:00:00\",\"2022-09-26T00:00:00\",\"2022-09-27T00:00:00\",\"2022-09-28T00:00:00\",\"2022-09-29T00:00:00\",\"2022-09-30T00:00:00\",\"2022-10-03T00:00:00\",\"2022-10-04T00:00:00\",\"2022-10-05T00:00:00\",\"2022-10-06T00:00:00\",\"2022-10-07T00:00:00\",\"2022-10-10T00:00:00\",\"2022-10-11T00:00:00\",\"2022-10-12T00:00:00\",\"2022-10-13T00:00:00\",\"2022-10-14T00:00:00\",\"2022-10-17T00:00:00\",\"2022-10-18T00:00:00\",\"2022-10-19T00:00:00\",\"2022-10-20T00:00:00\",\"2022-10-21T00:00:00\",\"2022-10-24T00:00:00\",\"2022-10-25T00:00:00\",\"2022-10-26T00:00:00\",\"2022-10-27T00:00:00\",\"2022-10-28T00:00:00\",\"2022-10-31T00:00:00\",\"2022-11-01T00:00:00\",\"2022-11-02T00:00:00\",\"2022-11-03T00:00:00\",\"2022-11-04T00:00:00\",\"2022-11-06T00:00:00\",\"2022-11-07T00:00:00\",\"2022-11-08T00:00:00\",\"2022-11-09T00:00:00\",\"2022-11-10T00:00:00\",\"2022-11-11T00:00:00\",\"2022-11-14T00:00:00\",\"2022-11-15T00:00:00\",\"2022-11-16T00:00:00\",\"2022-11-17T00:00:00\",\"2022-11-18T00:00:00\",\"2022-11-21T00:00:00\",\"2022-11-22T00:00:00\",\"2022-11-23T00:00:00\",\"2022-11-24T00:00:00\",\"2022-11-25T00:00:00\",\"2022-11-28T00:00:00\",\"2022-11-29T00:00:00\",\"2022-11-30T00:00:00\",\"2022-12-01T00:00:00\",\"2022-12-02T00:00:00\",\"2022-12-05T00:00:00\",\"2022-12-06T00:00:00\",\"2022-12-07T00:00:00\",\"2022-12-08T00:00:00\",\"2022-12-09T00:00:00\",\"2022-12-12T00:00:00\",\"2022-12-13T00:00:00\",\"2022-12-14T00:00:00\",\"2022-12-15T00:00:00\",\"2022-12-16T00:00:00\",\"2022-12-19T00:00:00\",\"2022-12-20T00:00:00\",\"2022-12-21T00:00:00\",\"2022-12-22T00:00:00\",\"2022-12-23T00:00:00\",\"2022-12-26T00:00:00\",\"2022-12-27T00:00:00\",\"2022-12-28T00:00:00\",\"2022-12-29T00:00:00\",\"2022-12-30T00:00:00\",\"2023-01-02T00:00:00\",\"2023-01-03T00:00:00\",\"2023-01-04T00:00:00\",\"2023-01-05T00:00:00\",\"2023-01-06T00:00:00\",\"2023-01-09T00:00:00\",\"2023-01-10T00:00:00\",\"2023-01-11T00:00:00\",\"2023-01-12T00:00:00\",\"2023-01-13T00:00:00\",\"2023-01-15T00:00:00\",\"2023-01-16T00:00:00\",\"2023-01-17T00:00:00\",\"2023-01-18T00:00:00\",\"2023-01-19T00:00:00\",\"2023-01-20T00:00:00\",\"2023-01-23T00:00:00\",\"2023-01-24T00:00:00\",\"2023-01-25T00:00:00\",\"2023-01-26T00:00:00\",\"2023-01-27T00:00:00\",\"2023-01-30T00:00:00\",\"2023-01-31T00:00:00\",\"2023-02-01T00:00:00\",\"2023-02-02T00:00:00\",\"2023-02-03T00:00:00\",\"2023-02-06T00:00:00\",\"2023-02-07T00:00:00\",\"2023-02-08T00:00:00\",\"2023-02-09T00:00:00\",\"2023-02-10T00:00:00\",\"2023-02-13T00:00:00\",\"2023-02-14T00:00:00\",\"2023-02-15T00:00:00\",\"2023-02-16T00:00:00\",\"2023-02-17T00:00:00\",\"2023-02-19T00:00:00\",\"2023-02-20T00:00:00\",\"2023-02-21T00:00:00\",\"2023-02-22T00:00:00\",\"2023-02-23T00:00:00\",\"2023-02-24T00:00:00\",\"2023-02-27T00:00:00\",\"2023-02-28T00:00:00\",\"2023-03-01T00:00:00\",\"2023-03-02T00:00:00\",\"2023-03-03T00:00:00\",\"2023-03-06T00:00:00\",\"2023-03-07T00:00:00\",\"2023-03-08T00:00:00\",\"2023-03-09T00:00:00\",\"2023-03-10T00:00:00\",\"2023-03-13T00:00:00\",\"2023-03-14T00:00:00\",\"2023-03-15T00:00:00\",\"2023-03-16T00:00:00\",\"2023-03-17T00:00:00\",\"2023-03-20T00:00:00\",\"2023-03-21T00:00:00\",\"2023-03-22T00:00:00\",\"2023-03-23T00:00:00\",\"2023-03-24T00:00:00\",\"2023-03-27T00:00:00\",\"2023-03-28T00:00:00\",\"2023-03-29T00:00:00\",\"2023-03-30T00:00:00\",\"2023-03-31T00:00:00\",\"2023-04-03T00:00:00\",\"2023-04-04T00:00:00\",\"2023-04-05T00:00:00\",\"2023-04-06T00:00:00\",\"2023-04-10T00:00:00\",\"2023-04-11T00:00:00\",\"2023-04-12T00:00:00\",\"2023-04-13T00:00:00\",\"2023-04-14T00:00:00\",\"2023-04-17T00:00:00\",\"2023-04-18T00:00:00\",\"2023-04-19T00:00:00\",\"2023-04-20T00:00:00\",\"2023-04-21T00:00:00\",\"2023-04-24T00:00:00\",\"2023-04-25T00:00:00\",\"2023-04-26T00:00:00\",\"2023-04-27T00:00:00\",\"2023-04-28T00:00:00\",\"2023-05-01T00:00:00\",\"2023-05-02T00:00:00\",\"2023-05-03T00:00:00\",\"2023-05-04T00:00:00\",\"2023-05-05T00:00:00\",\"2023-05-08T00:00:00\",\"2023-05-09T00:00:00\",\"2023-05-10T00:00:00\",\"2023-05-11T00:00:00\",\"2023-05-12T00:00:00\",\"2023-05-15T00:00:00\",\"2023-05-16T00:00:00\",\"2023-05-17T00:00:00\",\"2023-05-18T00:00:00\",\"2023-05-19T00:00:00\",\"2023-05-22T00:00:00\",\"2023-05-23T00:00:00\",\"2023-05-24T00:00:00\",\"2023-05-25T00:00:00\",\"2023-05-26T00:00:00\",\"2023-05-28T00:00:00\",\"2023-05-29T00:00:00\",\"2023-05-30T00:00:00\",\"2023-05-31T00:00:00\",\"2023-06-01T00:00:00\",\"2023-06-02T00:00:00\",\"2023-06-05T00:00:00\",\"2023-06-06T00:00:00\",\"2023-06-07T00:00:00\",\"2023-06-08T00:00:00\",\"2023-06-09T00:00:00\",\"2023-06-12T00:00:00\",\"2023-06-13T00:00:00\",\"2023-06-14T00:00:00\",\"2023-06-15T00:00:00\",\"2023-06-16T00:00:00\",\"2023-06-18T00:00:00\",\"2023-06-19T00:00:00\",\"2023-06-20T00:00:00\",\"2023-06-21T00:00:00\",\"2023-06-22T00:00:00\",\"2023-06-23T00:00:00\",\"2023-06-26T00:00:00\",\"2023-06-27T00:00:00\",\"2023-06-28T00:00:00\",\"2023-06-29T00:00:00\",\"2023-06-30T00:00:00\",\"2023-07-03T00:00:00\",\"2023-07-04T00:00:00\",\"2023-07-05T00:00:00\",\"2023-07-06T00:00:00\",\"2023-07-07T00:00:00\",\"2023-07-10T00:00:00\",\"2023-07-11T00:00:00\",\"2023-07-12T00:00:00\",\"2023-07-13T00:00:00\",\"2023-07-14T00:00:00\",\"2023-07-17T00:00:00\",\"2023-07-18T00:00:00\",\"2023-07-19T00:00:00\",\"2023-07-20T00:00:00\",\"2023-07-21T00:00:00\",\"2023-07-24T00:00:00\",\"2023-07-25T00:00:00\",\"2023-07-26T00:00:00\",\"2023-07-27T00:00:00\",\"2023-07-28T00:00:00\",\"2023-07-31T00:00:00\",\"2023-08-01T00:00:00\",\"2023-08-02T00:00:00\",\"2023-08-03T00:00:00\",\"2023-08-04T00:00:00\",\"2023-08-07T00:00:00\",\"2023-08-08T00:00:00\",\"2023-08-09T00:00:00\",\"2023-08-10T00:00:00\",\"2023-08-11T00:00:00\",\"2023-08-14T00:00:00\",\"2023-08-15T00:00:00\",\"2023-08-16T00:00:00\",\"2023-08-17T00:00:00\",\"2023-08-18T00:00:00\",\"2023-08-21T00:00:00\",\"2023-08-22T00:00:00\",\"2023-08-23T00:00:00\",\"2023-08-24T00:00:00\",\"2023-08-25T00:00:00\",\"2023-08-28T00:00:00\",\"2023-08-29T00:00:00\",\"2023-08-30T00:00:00\",\"2023-08-31T00:00:00\",\"2023-09-01T00:00:00\",\"2023-09-03T00:00:00\",\"2023-09-04T00:00:00\",\"2023-09-05T00:00:00\",\"2023-09-06T00:00:00\",\"2023-09-07T00:00:00\",\"2023-09-08T00:00:00\",\"2023-09-11T00:00:00\",\"2023-09-12T00:00:00\",\"2023-09-13T00:00:00\",\"2023-09-14T00:00:00\",\"2023-09-15T00:00:00\",\"2023-09-18T00:00:00\",\"2023-09-19T00:00:00\",\"2023-09-20T00:00:00\",\"2023-09-21T00:00:00\",\"2023-09-22T00:00:00\",\"2023-09-25T00:00:00\",\"2023-09-26T00:00:00\",\"2023-09-27T00:00:00\",\"2023-09-28T00:00:00\",\"2023-09-29T00:00:00\",\"2023-10-02T00:00:00\",\"2023-10-03T00:00:00\",\"2023-10-04T00:00:00\",\"2023-10-05T00:00:00\",\"2023-10-06T00:00:00\",\"2023-10-09T00:00:00\",\"2023-10-10T00:00:00\",\"2023-10-11T00:00:00\",\"2023-10-12T00:00:00\",\"2023-10-13T00:00:00\",\"2023-10-16T00:00:00\",\"2023-10-17T00:00:00\",\"2023-10-18T00:00:00\",\"2023-10-19T00:00:00\",\"2023-10-20T00:00:00\",\"2023-10-23T00:00:00\",\"2023-10-24T00:00:00\",\"2023-10-25T00:00:00\",\"2023-10-26T00:00:00\",\"2023-10-27T00:00:00\",\"2023-10-30T00:00:00\",\"2023-10-31T00:00:00\",\"2023-11-01T00:00:00\",\"2023-11-02T00:00:00\",\"2023-11-03T00:00:00\",\"2023-11-06T00:00:00\",\"2023-11-07T00:00:00\",\"2023-11-08T00:00:00\",\"2023-11-09T00:00:00\",\"2023-11-10T00:00:00\",\"2023-11-13T00:00:00\",\"2023-11-14T00:00:00\",\"2023-11-15T00:00:00\",\"2023-11-16T00:00:00\",\"2023-11-17T00:00:00\",\"2023-11-20T00:00:00\",\"2023-11-21T00:00:00\",\"2023-11-22T00:00:00\",\"2023-11-23T00:00:00\",\"2023-11-24T00:00:00\",\"2023-11-27T00:00:00\",\"2023-11-28T00:00:00\",\"2023-11-29T00:00:00\",\"2023-11-30T00:00:00\",\"2023-12-01T00:00:00\",\"2023-12-04T00:00:00\",\"2023-12-05T00:00:00\",\"2023-12-06T00:00:00\",\"2023-12-07T00:00:00\",\"2023-12-08T00:00:00\",\"2023-12-11T00:00:00\",\"2023-12-12T00:00:00\",\"2023-12-13T00:00:00\",\"2023-12-14T00:00:00\",\"2023-12-15T00:00:00\",\"2023-12-18T00:00:00\",\"2023-12-19T00:00:00\",\"2023-12-20T00:00:00\",\"2023-12-21T00:00:00\",\"2023-12-22T00:00:00\",\"2023-12-25T00:00:00\",\"2023-12-26T00:00:00\",\"2023-12-27T00:00:00\",\"2023-12-28T00:00:00\",\"2023-12-29T00:00:00\",\"2024-01-01T00:00:00\",\"2024-01-02T00:00:00\",\"2024-01-03T00:00:00\",\"2024-01-04T00:00:00\",\"2024-01-05T00:00:00\",\"2024-01-08T00:00:00\",\"2024-01-09T00:00:00\",\"2024-01-10T00:00:00\",\"2024-01-11T00:00:00\",\"2024-01-12T00:00:00\",\"2024-01-14T00:00:00\",\"2024-01-15T00:00:00\",\"2024-01-16T00:00:00\",\"2024-01-17T00:00:00\",\"2024-01-18T00:00:00\",\"2024-01-19T00:00:00\",\"2024-01-22T00:00:00\",\"2024-01-23T00:00:00\",\"2024-01-24T00:00:00\",\"2024-01-25T00:00:00\",\"2024-01-26T00:00:00\",\"2024-01-29T00:00:00\",\"2024-01-30T00:00:00\",\"2024-01-31T00:00:00\",\"2024-02-01T00:00:00\",\"2024-02-02T00:00:00\",\"2024-02-05T00:00:00\",\"2024-02-06T00:00:00\",\"2024-02-07T00:00:00\",\"2024-02-08T00:00:00\",\"2024-02-09T00:00:00\",\"2024-02-12T00:00:00\",\"2024-02-13T00:00:00\",\"2024-02-14T00:00:00\",\"2024-02-15T00:00:00\",\"2024-02-16T00:00:00\",\"2024-02-18T00:00:00\",\"2024-02-19T00:00:00\",\"2024-02-20T00:00:00\",\"2024-02-21T00:00:00\",\"2024-02-22T00:00:00\",\"2024-02-23T00:00:00\",\"2024-02-26T00:00:00\",\"2024-02-27T00:00:00\",\"2024-02-28T00:00:00\",\"2024-02-29T00:00:00\",\"2024-03-01T00:00:00\",\"2024-03-04T00:00:00\",\"2024-03-05T00:00:00\",\"2024-03-06T00:00:00\",\"2024-03-07T00:00:00\",\"2024-03-08T00:00:00\",\"2024-03-11T00:00:00\",\"2024-03-12T00:00:00\",\"2024-03-13T00:00:00\",\"2024-03-14T00:00:00\",\"2024-03-15T00:00:00\",\"2024-03-18T00:00:00\",\"2024-03-19T00:00:00\",\"2024-03-20T00:00:00\",\"2024-03-21T00:00:00\",\"2024-03-22T00:00:00\",\"2024-03-25T00:00:00\",\"2024-03-26T00:00:00\",\"2024-03-27T00:00:00\",\"2024-03-28T00:00:00\",\"2024-03-29T00:00:00\",\"2024-04-01T00:00:00\",\"2024-04-02T00:00:00\",\"2024-04-03T00:00:00\",\"2024-04-04T00:00:00\",\"2024-04-05T00:00:00\",\"2024-04-08T00:00:00\",\"2024-04-09T00:00:00\",\"2024-04-10T00:00:00\",\"2024-04-11T00:00:00\",\"2024-04-12T00:00:00\",\"2024-04-15T00:00:00\",\"2024-04-16T00:00:00\",\"2024-04-17T00:00:00\",\"2024-04-18T00:00:00\",\"2024-04-19T00:00:00\",\"2024-04-22T00:00:00\",\"2024-04-23T00:00:00\",\"2024-04-24T00:00:00\",\"2024-04-25T00:00:00\",\"2024-04-26T00:00:00\",\"2024-04-29T00:00:00\",\"2024-04-30T00:00:00\",\"2024-05-01T00:00:00\",\"2024-05-02T00:00:00\",\"2024-05-03T00:00:00\",\"2024-05-06T00:00:00\",\"2024-05-07T00:00:00\",\"2024-05-08T00:00:00\",\"2024-05-09T00:00:00\",\"2024-05-10T00:00:00\",\"2024-05-13T00:00:00\",\"2024-05-14T00:00:00\",\"2024-05-15T00:00:00\",\"2024-05-16T00:00:00\",\"2024-05-17T00:00:00\",\"2024-05-20T00:00:00\",\"2024-05-21T00:00:00\",\"2024-05-22T00:00:00\",\"2024-05-23T00:00:00\",\"2024-05-24T00:00:00\",\"2024-05-26T00:00:00\",\"2024-05-27T00:00:00\",\"2024-05-28T00:00:00\",\"2024-05-29T00:00:00\",\"2024-05-30T00:00:00\",\"2024-05-31T00:00:00\",\"2024-06-03T00:00:00\",\"2024-06-04T00:00:00\",\"2024-06-05T00:00:00\",\"2024-06-06T00:00:00\",\"2024-06-07T00:00:00\",\"2024-06-10T00:00:00\",\"2024-06-11T00:00:00\",\"2024-06-12T00:00:00\",\"2024-06-13T00:00:00\",\"2024-06-14T00:00:00\",\"2024-06-17T00:00:00\",\"2024-06-18T00:00:00\",\"2024-06-19T00:00:00\",\"2024-06-20T00:00:00\",\"2024-06-21T00:00:00\",\"2024-06-24T00:00:00\",\"2024-06-25T00:00:00\",\"2024-06-26T00:00:00\",\"2024-06-27T00:00:00\",\"2024-06-28T00:00:00\",\"2024-07-01T00:00:00\",\"2024-07-02T00:00:00\",\"2024-07-03T00:00:00\",\"2024-07-04T00:00:00\",\"2024-07-05T00:00:00\",\"2024-07-08T00:00:00\",\"2024-07-09T00:00:00\",\"2024-07-10T00:00:00\",\"2024-07-11T00:00:00\",\"2024-07-12T00:00:00\",\"2024-07-15T00:00:00\",\"2024-07-16T00:00:00\",\"2024-07-17T00:00:00\",\"2024-07-18T00:00:00\",\"2024-07-19T00:00:00\",\"2024-07-22T00:00:00\",\"2024-07-23T00:00:00\",\"2024-07-24T00:00:00\",\"2024-07-25T00:00:00\",\"2024-07-26T00:00:00\",\"2024-07-29T00:00:00\",\"2024-07-30T00:00:00\",\"2024-07-31T00:00:00\",\"2024-08-01T00:00:00\",\"2024-08-02T00:00:00\",\"2024-08-05T00:00:00\",\"2024-08-06T00:00:00\",\"2024-08-07T00:00:00\",\"2024-08-08T00:00:00\",\"2024-08-09T00:00:00\",\"2024-08-12T00:00:00\",\"2024-08-13T00:00:00\",\"2024-08-14T00:00:00\",\"2024-08-15T00:00:00\",\"2024-08-16T00:00:00\",\"2024-08-19T00:00:00\",\"2024-08-20T00:00:00\",\"2024-08-21T00:00:00\",\"2024-08-22T00:00:00\",\"2024-08-23T00:00:00\",\"2024-08-26T00:00:00\",\"2024-08-27T00:00:00\",\"2024-08-28T00:00:00\",\"2024-08-29T00:00:00\",\"2024-08-30T00:00:00\",\"2024-09-01T00:00:00\",\"2024-09-02T00:00:00\",\"2024-09-03T00:00:00\",\"2024-09-04T00:00:00\",\"2024-09-05T00:00:00\",\"2024-09-06T00:00:00\",\"2024-09-09T00:00:00\",\"2024-09-10T00:00:00\",\"2024-09-11T00:00:00\",\"2024-09-12T00:00:00\",\"2024-09-13T00:00:00\",\"2024-09-16T00:00:00\",\"2024-09-17T00:00:00\",\"2024-09-18T00:00:00\",\"2024-09-19T00:00:00\",\"2024-09-20T00:00:00\",\"2024-09-23T00:00:00\",\"2024-09-24T00:00:00\",\"2024-09-25T00:00:00\",\"2024-09-26T00:00:00\",\"2024-09-27T00:00:00\",\"2024-09-30T00:00:00\",\"2024-10-01T00:00:00\",\"2024-10-02T00:00:00\",\"2024-10-03T00:00:00\",\"2024-10-04T00:00:00\",\"2024-10-07T00:00:00\",\"2024-10-08T00:00:00\",\"2024-10-09T00:00:00\",\"2024-10-10T00:00:00\",\"2024-10-11T00:00:00\",\"2024-10-14T00:00:00\",\"2024-10-15T00:00:00\",\"2024-10-16T00:00:00\",\"2024-10-17T00:00:00\",\"2024-10-18T00:00:00\",\"2024-10-21T00:00:00\",\"2024-10-22T00:00:00\",\"2024-10-23T00:00:00\",\"2024-10-24T00:00:00\",\"2024-10-25T00:00:00\",\"2024-10-28T00:00:00\",\"2024-10-29T00:00:00\",\"2024-10-30T00:00:00\",\"2024-10-31T00:00:00\",\"2024-11-01T00:00:00\",\"2024-11-04T00:00:00\",\"2024-11-05T00:00:00\",\"2024-11-06T00:00:00\",\"2024-11-07T00:00:00\",\"2024-11-08T00:00:00\",\"2024-11-11T00:00:00\",\"2024-11-12T00:00:00\",\"2024-11-13T00:00:00\",\"2024-11-14T00:00:00\",\"2024-11-15T00:00:00\",\"2024-11-18T00:00:00\",\"2024-11-19T00:00:00\",\"2024-11-20T00:00:00\",\"2024-11-21T00:00:00\",\"2024-11-22T00:00:00\",\"2024-11-25T00:00:00\",\"2024-11-26T00:00:00\",\"2024-11-27T00:00:00\",\"2024-11-29T00:00:00\",\"2024-12-02T00:00:00\",\"2024-12-03T00:00:00\",\"2024-12-04T00:00:00\",\"2024-12-05T00:00:00\",\"2024-12-06T00:00:00\",\"2024-12-09T00:00:00\",\"2024-12-10T00:00:00\",\"2024-12-11T00:00:00\",\"2024-12-12T00:00:00\",\"2024-12-13T00:00:00\",\"2024-12-16T00:00:00\",\"2024-12-17T00:00:00\",\"2024-12-18T00:00:00\",\"2024-12-19T00:00:00\",\"2024-12-20T00:00:00\",\"2024-12-23T00:00:00\",\"2024-12-24T00:00:00\",\"2024-12-26T00:00:00\",\"2024-12-27T00:00:00\",\"2024-12-30T00:00:00\",\"2024-12-31T00:00:00\",\"2025-01-02T00:00:00\",\"2025-01-03T00:00:00\",\"2025-01-06T00:00:00\",\"2025-01-07T00:00:00\",\"2025-01-08T00:00:00\",\"2025-01-09T00:00:00\",\"2025-01-10T00:00:00\",\"2025-01-13T00:00:00\",\"2025-01-14T00:00:00\",\"2025-01-15T00:00:00\",\"2025-01-16T00:00:00\",\"2025-01-17T00:00:00\",\"2025-01-21T00:00:00\",\"2025-01-22T00:00:00\",\"2025-01-23T00:00:00\",\"2025-01-24T00:00:00\",\"2025-01-27T00:00:00\",\"2025-01-28T00:00:00\",\"2025-01-29T00:00:00\",\"2025-01-30T00:00:00\",\"2025-01-31T00:00:00\",\"2025-02-03T00:00:00\",\"2025-02-04T00:00:00\",\"2025-02-05T00:00:00\",\"2025-02-06T00:00:00\",\"2025-02-07T00:00:00\",\"2025-02-10T00:00:00\",\"2025-02-11T00:00:00\",\"2025-02-12T00:00:00\",\"2025-02-13T00:00:00\",\"2025-02-14T00:00:00\",\"2025-02-18T00:00:00\",\"2025-02-19T00:00:00\",\"2025-02-20T00:00:00\",\"2025-02-21T00:00:00\",\"2025-02-24T00:00:00\",\"2025-02-25T00:00:00\",\"2025-02-26T00:00:00\",\"2025-02-27T00:00:00\",\"2025-02-28T00:00:00\",\"2025-03-03T00:00:00\",\"2025-03-04T00:00:00\",\"2025-03-05T00:00:00\",\"2025-03-06T00:00:00\",\"2025-03-07T00:00:00\",\"2025-03-10T00:00:00\",\"2025-03-11T00:00:00\",\"2025-03-12T00:00:00\",\"2025-03-13T00:00:00\",\"2025-03-14T00:00:00\",\"2025-03-17T00:00:00\",\"2025-03-18T00:00:00\",\"2025-03-19T00:00:00\",\"2025-03-20T00:00:00\",\"2025-03-21T00:00:00\",\"2025-03-24T00:00:00\",\"2025-03-25T00:00:00\",\"2025-03-26T00:00:00\",\"2025-03-27T00:00:00\",\"2025-03-28T00:00:00\",\"2025-03-31T00:00:00\",\"2025-04-01T00:00:00\",\"2025-04-02T00:00:00\",\"2025-04-03T00:00:00\",\"2025-04-04T00:00:00\",\"2025-04-07T00:00:00\",\"2025-04-08T00:00:00\",\"2025-04-09T00:00:00\",\"2025-04-10T00:00:00\",\"2025-04-11T00:00:00\",\"2025-04-14T00:00:00\",\"2025-04-15T00:00:00\",\"2025-04-16T00:00:00\",\"2025-04-17T00:00:00\",\"2025-04-21T00:00:00\",\"2025-04-22T00:00:00\",\"2025-04-23T00:00:00\",\"2025-04-24T00:00:00\",\"2025-04-25T00:00:00\",\"2025-04-28T00:00:00\",\"2025-04-29T00:00:00\",\"2025-04-30T00:00:00\",\"2025-05-01T00:00:00\",\"2025-05-02T00:00:00\",\"2025-05-05T00:00:00\",\"2025-05-06T00:00:00\",\"2025-05-07T00:00:00\",\"2025-05-08T00:00:00\",\"2025-05-09T00:00:00\",\"2025-05-12T00:00:00\",\"2025-05-13T00:00:00\",\"2025-05-14T00:00:00\",\"2025-05-15T00:00:00\",\"2025-05-16T00:00:00\",\"2025-05-18T00:00:00\",\"2025-05-19T00:00:00\"],\"xaxis\":\"x\",\"y\":[17071.0,17113.0,17132.0,17051.0,16746.0,16746.0,16647.0,16669.0,16701.0,16680.0,16799.0,16480.0,16103.0,15984.0,15959.0,15957.0,15959.0,15960.0,15825.0,16083.0,15965.0,15947.0,16153.0,16109.0,16142.0,15737.0,15853.0,15808.0,15768.0,15695.0,15581.0,15577.0,15562.0,15753.0,15753.0,14969.0,15163.0,15361.0,15481.0,15457.0,15315.0,15048.0,14984.0,14834.0,14758.0,14785.0,14730.0,14701.0,14488.0,14605.0,14642.0,14743.0,14696.0,14745.0,14515.0,14557.0,14553.0,14677.0,14821.0,15292.0,15284.0,15476.0,15399.0,15213.0,15298.0,14790.0,15179.0,15517.0,15301.0,14762.0,14610.0,14041.0,14417.0,14549.0,14586.0,14620.0,14667.0,14707.0,14549.0,14755.0,14750.0,14576.0,14645.0,14505.0,14363.0,14326.0,14885.0,14984.0,15163.0,15221.0,14756.0,14789.0,15130.0,15111.0,14538.0,14573.0,14518.0,14511.0,15263.0,15708.0,15984.0,16094.0,15766.0,15818.0,15864.0,15907.0,16117.0,16164.0,16114.0,15841.0,15917.0,15710.0,15837.0,15827.0,15905.0,15863.0,16293.0,15550.0,15567.0,15408.0,15239.0,15058.0,14983.0,14691.0,14413.0,14356.0,14263.0,14225.0,14204.0,14222.0,14171.0,14081.0,14222.0,14096.0,14032.0,14159.0,14158.0,14048.0,14034.0,14086.0,14083.0,14009.0,14077.0,14528.0,14332.0,14116.0,14189.0,14110.0,13884.0,13695.0,13770.0,14248.0,13703.0,14096.0,14315.0,14314.0,14287.0,14379.0,13884.0,13928.0,13842.0,13803.0,13841.0,13971.0,13976.0,14344.0,13918.0,13866.0,13751.0,14156.0,13748.0,13896.0,14121.0,14121.0,14160.0,14094.0,14057.0,14254.0,14564.0,14459.0,14232.0,14243.0,14343.0,14289.0,14734.0,14850.0,14778.0,15426.0,15449.0,15282.0,15794.0,15790.0,15334.0,15345.0,15377.0,15432.0,15373.0,15184.0,15240.0,15297.0,15170.0,14714.0,14918.0,14756.0,15022.0,15146.0,15694.0,15633.0,15390.0,15366.0,15549.0,15605.0,15521.0,15261.0,15219.0,16033.0,15811.0,15847.0,15885.0,15272.0,15199.0,15190.0,15233.0,15211.0,15464.0,15046.0,14944.0,15116.0,15054.0,15158.0,15384.0,15976.0,16222.0,16325.0,16173.0,16313.0,16253.0,16972.0,17135.0,17090.0,16900.0,17009.0,17110.0,17289.0,17588.0,17819.0,17682.0,17499.0,17301.0,17327.0,17527.0,17089.0,17092.0,17319.0,17103.0,17132.0,17154.0,17250.0,17132.0,16493.0,16532.0,16423.0,16254.0,16261.0,16343.0,16269.0,15994.0,16018.0,15927.0,16025.0,16365.0,16447.0,16394.0,16985.0,17268.0,17330.0,17443.0,17424.0,17503.0,17607.0,17411.0,17514.0,17319.0,17312.0,17353.0,17789.0,17744.0,17843.0,18407.0,18623.0,19588.0,19907.0,19907.0,20203.0,19838.0,20099.0,20304.0,20171.0,20413.0,20322.0,20165.0,20075.0,20007.0,19613.0,19815.0,19689.0,19647.0,19683.0,19995.0,20192.0,20347.0,20500.0,20701.0,20471.0,20443.0,19817.0,19805.0,19850.0,20170.0,20020.0,19703.0,19847.0,19874.0,19648.0,19740.0,19317.0,18859.0,18922.0,18556.0,18489.0,18651.0,18768.0,18673.0,18707.0,18943.0,19366.0,20138.0,20098.0,19848.0,19678.0,19368.0,19000.0,18975.0,19066.0,19041.0,18862.0,19290.0,19277.0,19768.0,20099.0,19810.0,19596.0,19165.0,19121.0,19188.0,19214.0,18868.0,17775.0,17695.0,17345.0,17380.0,17659.0,17509.0,17505.0,17458.0,17441.0,17474.0,17638.0,17663.0,17549.0,17493.0,17604.0,17780.0,17626.0,17639.0,17796.0,17796.0,18418.0,18693.0,18416.0,18371.0,18151.0,18356.0,18378.0,18737.0,17382.0,16893.0,17043.0,16927.0,16772.0,16624.0,16521.0,16632.0,16391.0,16470.0,16499.0,16583.0,16740.0,16482.0,16506.0,16832.0,16899.0,16810.0,17275.0,17096.0,16967.0,17187.0,16977.0,17221.0,15958.0,16215.0,16089.0,16117.0,15979.0,15871.0,15759.0,15989.0,16038.0,16218.0,15989.0,16409.0,16552.0,16637.0,16519.0,16683.0,16848.0,16828.0,16825.0,16765.0,17148.0,17148.0,17274.0,17002.0,17032.0,17186.0,17185.0,16980.0,16850.0,17136.0,17152.0,17543.0,17450.0,17429.0,17479.0,17693.0,17756.0,17705.0,17741.0,17933.0,17821.0,17889.0,17963.0,18074.0,18030.0,18001.0,18040.0,17950.0,18117.0,18406.0,18417.0,18469.0,18489.0,17748.0,17740.0,17773.0,17536.0,17298.0,17036.0,16923.0,16972.0,16923.0,16923.0,17330.0,17413.0,17438.0,17583.0,17578.0,17593.0,17748.0,18108.0,18252.0,18252.0,18206.0,18256.0,18212.0,18323.0,18187.0,18246.0,18151.0,17915.0,18254.0,18300.0,18510.0,18590.0,18350.0,18240.0,18098.0,17937.0,17932.0,17659.0,17431.0,17408.0,17336.0,16913.0,16902.0,16616.0,16373.0,16344.0,16328.0,16136.0,16277.0,16334.0,16471.0,16672.0,16818.0,16978.0,16742.0,16867.0,17262.0,17210.0,17189.0,17266.0,17398.0,17427.0,17502.0,17481.0,17356.0,17600.0,17617.0,17746.0,17656.0,17450.0,17259.0,16979.0,16801.0,17170.0,16747.0,16689.0,16532.0,16446.0,16403.0,16540.0,16675.0,16591.0,16611.0,16759.0,16654.0,16627.0,16092.0,15896.0,15896.0,15983.0,15425.0,15629.0,15745.0,15887.0,15691.0,15933.0,16099.0,16268.0,16297.0,16345.0,16457.0,16411.0,16510.0,16556.0,16670.0,16793.0,16884.0,16862.0,16830.0,16725.0,16344.0,16339.0,16475.0,16948.0,17152.0,17156.0,17208.0,16801.0,17026.0,17140.0,17087.0,17096.0,17060.0,17126.0,17046.0,17132.0,17529.0,17516.0,17503.0,17575.0,17816.0,17941.0,17941.0,17910.0,18116.0,18123.0,17902.0,17890.0,17867.0,17789.0,17667.0,17124.0,17247.0,17301.0,16985.0,16951.0,17113.0,16849.0,16793.0,16847.0,16676.0,16654.0,16650.0,16624.0,16638.0,16790.0,16971.0,17207.0,17133.0,17266.0,17411.0,17369.0,17041.0,16997.0,17255.0,17078.0,17075.0,16966.0,16925.0,16811.0,16752.0,16880.0,16726.0,17209.0,17170.0,16866.0,17268.0,16973.0,17171.0,17007.0,16903.0,17079.0,17105.0,17003.0,17104.0,17406.0,16874.0,16994.0,17145.0,16992.0,17022.0,17050.0,16854.0,16526.0,16445.0,16354.0,16338.0,16032.0,15918.0,15753.0,15788.0,15748.0,15630.0,15834.0,15903.0,16029.0,16168.0,16118.0,16236.0,16205.0,16407.0,16573.0,16720.0,16923.0,17145.0,17206.0,17267.0,17269.0,17285.0,17144.0,17010.0,17035.0,16966.0,17141.0,17189.0,17189.0,17166.0,16954.0,17036.0,16989.0,16913.0,17489.0,17615.0,17441.0,17127.0,17101.0,17284.0,17199.0,16755.0,16718.0,16628.0,16286.0,16389.0,16178.0,16615.0,16573.0,16923.0,16842.0,16757.0,16438.0,16478.0,16647.0,16614.0,16511.0,16588.0,16434.0,16407.0,16276.0,16466.0,16412.0,16784.0,16494.0,16500.0,16608.0,16536.0,16627.0,16537.0,16422.0,16272.0,16325.0,16185.0,16419.0,16387.0,16582.0,16684.0,16541.0,16297.0,16312.0,16716.0,16436.0,16284.0,16390.0,16399.0,16567.0,16630.0,16806.0,16511.0,16699.0,16708.0,16817.0,17286.0,17269.0,17192.0,16624.0,16744.0,16539.0,16533.0,16497.0,16401.0,16127.0,16375.0,16447.0,16519.0,16495.0,16472.0,16539.0,16759.0,16752.0,16645.0,16269.0,16371.0,16481.0,16455.0,16520.0,16575.0,16405.0,16687.0,16546.0,16373.0,16373.0,16587.0,16503.0,16485.0,16476.0,16586.0,16730.0,16852.0,16781.0,16991.0,16927.0,17027.0,17299.0,16520.0,16481.0,16364.0,16348.0,16364.0,16499.0,16370.0,16293.0,16196.0,16041.0,16198.0,15835.0,16043.0,16097.0,16097.0,16069.0,16139.0,16087.0,15817.0,15977.0,15815.0,15812.0,15617.0,15574.0,15402.0,15549.0,15425.0,15520.0,15589.0,15495.0,15493.0,15667.0,15597.0,15488.0,15418.0,15495.0,15381.0,15405.0,15464.0,15495.0,15328.0,15016.0,15086.0,14488.0,14745.0,14664.0,14703.0,14799.0,14785.0,14577.0,14831.0,14901.0,14820.0,14733.0,14551.0,14517.0,14180.0,14145.0,14180.0,14141.0,14130.0,14138.0,14112.0,14246.0,14199.0,14106.0,14183.0,14145.0,14240.0,14262.0,14315.0,14296.0,14445.0,14354.0,14290.0,14712.0,14507.0,14693.0,14670.0,14590.0,14649.0,14329.0,14400.0,14326.0,14606.0,14635.0,14727.0,14701.0,14663.0,14604.0,14650.0,14587.0,14793.0,14676.0,14630.0,14700.0,14442.0,14504.0,14324.0,14821.0,14798.0,14691.0,14543.0,14612.0,14467.0,14184.0,14054.0,14023.0,14124.0,14304.0,14422.0,14444.0,14311.0,14542.0,14243.0,14287.0,14257.0,14136.0,14372.0,14356.0,14180.0,14453.0,14595.0,14537.0,14462.0,14647.0,14555.0,14578.0,14804.0,14805.0,14590.0,14714.0,14656.0,14771.0,14814.0,14646.0,14771.0,15079.0,15260.0,15436.0,15540.0,15649.0,15797.0,15786.0,15756.0,15713.0,15735.0,15643.0,15656.0,15686.0,15620.0,15638.0,15536.0,15399.0,15325.0,15325.0,15380.0,15300.0,15699.0,15765.0,15839.0,15974.0,16120.0,15979.0,15928.0,15883.0,15749.0,15760.0,15859.0,15740.0,15740.0,15699.0,15575.0,15790.0,15967.0,16013.0,16225.0,15848.0,15960.0,15875.0,15879.0,15766.0,15634.0,15256.0,15105.0,15105.0,15085.0,15040.0,15349.0,15274.0,15413.0,15456.0,15171.0,15324.0,15322.0,15372.0,15318.0,15437.0,15407.0,15567.0,15429.0,15298.0,15019.0,15156.0,15148.0,15111.0,15153.0,15135.0,15132.0,15263.0,15259.0,15290.0,14911.0,15008.0,15021.0,14956.0,14979.0,14999.0,15016.0,14829.0,14956.0,14920.0,15049.0,14933.0,14984.0,14729.0,14617.0,14978.0,14927.0,14926.0,14862.0,14773.0,14790.0,14777.0,14812.0,14812.0,14539.0,14388.0,14445.0,14410.0,14449.0,14613.0,14555.0,14320.0,14320.0,14411.0,14530.0,14607.0,14780.0,14808.0,14826.0,14941.0,15065.0,14674.0,14774.0,14786.0,14926.0,14839.0,14863.0,15029.0,14994.0,15529.0,15331.0,15418.0,15342.0,15335.0,15294.0,15341.0,15193.0,15238.0,15336.0,15001.0,15001.0,15050.0,15147.0,15226.0,15146.0,15236.0,15365.0,15678.0,15971.0,16198.0,16195.0,16411.0,16476.0,16626.0,16411.0,16397.0,16440.0,16601.0,16444.0,16217.0,16309.0,16433.0,16485.0,17237.0,16976.0,16974.0,17116.0,17028.0,17326.0,17254.0,17162.0,16985.0,17194.0,17197.0,17086.0,17458.0,17685.0,18199.0,18364.0,18274.0,18293.0,19237.0,19186.0,19493.0,18752.0,18065.0,18116.0,18131.0,18116.0,18125.0,17515.0,17974.0,18088.0,17869.0,17835.0,17799.0,18661.0,18579.0,18024.0,17864.0,17652.0,16998.0,17302.0,17683.0,17676.0,17625.0,17540.0,17700.0,17810.0,17602.0,17544.0,17710.0,17384.0,17427.0,17612.0,17578.0,17602.0,17500.0,17580.0,17804.0,17926.0,17876.0,17831.0,17921.0,18124.0,18109.0,18123.0,17623.0,17654.0,17065.0,16870.0,16852.0,16740.0,16963.0,17078.0,16999.0,17051.0,17169.0,17166.0,17116.0,17054.0,16939.0,17096.0,17009.0,17106.0,17060.0,16916.0,17204.0,16881.0,17019.0,16557.0,16600.0,16664.0,16810.0,16912.0,16976.0,17077.0,17036.0,17010.0,17116.0,17184.0,17463.0,17821.0,17956.0,17900.0,18001.0,17921.0,18046.0,18151.0,18179.0,18393.0,18167.0,17936.0,18105.0,17996.0,17742.0,17988.0,17939.0,18073.0,17808.0,17808.0,17828.0,17829.0,18113.0,18056.0,17458.0,17487.0,18032.0,18052.0,17712.0,17600.0,17643.0,17857.0,17733.0,17826.0,17638.0,17537.0,17660.0,17775.0,18150.0,18192.0,18359.0,18367.0,18579.0,18923.0,18229.0,17874.0,17735.0,16457.0,16739.0,17188.0,17246.0,17393.0,17263.0,17054.0,16955.0,16776.0,16005.0,14500.0,12816.0,12495.0,11772.0,12134.0,12385.0,13261.0,14257.0,14873.0,14676.0,14534.0,14156.0,14180.0,14008.0,14678.0,14518.0,15193.0,15504.0,15229.0,16077.0,15561.0,16154.0,15529.0,15646.0,15319.0,15638.0,14900.0,15359.0,15381.0,15352.0,15299.0,15260.0,15315.0,14973.0,14938.0,14796.0,15110.0,15015.0,15590.0,15778.0,15680.0,15709.0,15671.0,16156.0,17070.0,17468.0,17901.0,18031.0,17364.0,17693.0,17595.0,17595.0,17757.0,18009.0,18541.0,18869.0,18315.0,18013.0,18116.0,17534.0,17995.0,17896.0,17884.0,17970.0,17563.0,17484.0,17735.0,17860.0,17601.0,17937.0,17992.0,18155.0,17734.0,17968.0,18096.0,18064.0,18637.0,18218.0,18322.0,18582.0,18582.0,18699.0,19161.0,18962.0,19053.0,19788.0,19530.0,19761.0,19573.0,19764.0,20192.0,21557.0,23144.0,22988.0,22850.0,24501.0,24300.0,24321.0,23450.0,24304.0,24505.0,26091.0,26953.0,28470.0,27595.0,29311.0,26100.0,26023.0,27762.0,26133.0,27717.0,28115.0,27385.0,27192.0,26788.0,26661.0,26328.0,27514.0,27090.0,27730.0,28530.0,28575.0,27343.0,26828.0,26659.0,26991.0,26947.0,27041.0,27249.0,26813.0,27310.0,27429.0,27443.0,27066.0,27092.0,24356.0,24488.0,23069.0,23162.0,23066.0,23572.0,24445.0,23494.0,24254.0,24029.0,24560.0,23921.0,23896.0,23876.0,25108.0,25271.0,24129.0,24395.0,24224.0,24405.0,24698.0,24980.0,25241.0,24709.0,24675.0,24420.0,24570.0,23359.0,23408.0,23694.0,24073.0,24374.0,23933.0,25232.0,25702.0,23736.0,24502.0,24306.0,24350.0,24818.0,24837.0,24686.0,24480.0,24085.0,24406.0,23675.0,23330.0,23387.0,22639.0,22614.0,22583.0,24080.0,24066.0,24120.0,24232.0,24776.0,24711.0,23963.0,24073.0,24067.0,24022.0,24614.0,25018.0,26150.0,26001.0,26340.0,25500.0,25885.0,25867.0,26510.0,26183.0,26573.0,26412.0,27364.0,27640.0,27042.0,27261.0,24637.0,25284.0,25435.0,25572.0,25802.0,24866.0,25320.0,25320.0,25766.0,25854.0,25556.0,25484.0,25538.0,25389.0,25945.0,26937.0,29441.0,26426.0,26914.0,26261.0,27041.0,27589.0,27427.0,27108.0,27072.0,27348.0,27325.0,27341.0,27335.0,27098.0,27279.0,28111.0,27717.0,27894.0,27685.0,26440.0,26678.0,26879.0,26387.0,25461.0,25287.0,25269.0,26183.0,26130.0,26193.0,25911.0,26288.0,26003.0,26058.0,26351.0,26321.0,25769.0,25227.0,25231.0,25047.0,25114.0,24771.0,24157.0,24552.0,24961.0,24801.0,25247.0,25267.0,25604.0,25341.0,24882.0,25442.0,25539.0,25979.0,26120.0,25852.0,25854.0,26586.0,26200.0,26095.0,26228.0,26430.0,26102.0,26085.0,25873.0,26960.0,26558.0,26522.0,27477.0,27477.0,27492.0,27667.0,27244.0,27059.0,27365.0,28274.0,28333.0,28025.0,28067.0,27486.0,27905.0,28056.0,27877.0,27955.0,28031.0,28102.0,28119.0,28220.0,27492.0,27910.0,28033.0,27747.0,28017.0,28047.0,28161.0,28054.0,27710.0,27828.0,25873.0,25985.0,26043.0,25876.0,26132.0,26069.0,26106.0,26239.0,25901.0,26194.0,26100.0,26501.0,26174.0,26174.0,26129.0,25987.0,26234.0,26239.0,26140.0,26271.0,26394.0,25795.0,25144.0,24995.0,25255.0,25381.0,25233.0,25318.0,24649.0,24877.0,25799.0,25560.0,25590.0,25595.0,25474.0,25303.0,24339.0,23279.0,23402.0,23496.0,23122.0,23787.0,23799.0,23666.0,23430.0,23239.0,23120.0,23666.0,23909.0,23795.0,23567.0,24081.0,23992.0,23991.0,24201.0,23900.0,24790.0,24373.0,24357.0,24036.0,24156.0,23878.0,23775.0,23863.0,23779.0,22774.0,22316.0,22185.0,22593.0,22890.0,22663.0,22411.0,22685.0,22460.0,21485.0,22047.0,22536.0,22644.0,22608.0,22532.0,22658.0,22705.0,22665.0,22514.0,23170.0,23477.0,23349.0,23264.0,23883.0,24445.0,24170.0,24449.0,24592.0,24088.0,24191.0,24139.0,23966.0,24091.0,23524.0,23251.0,23930.0,24176.0,24561.0,24337.0,24791.0,25320.0,25365.0,25124.0,24963.0,25185.0,24919.0,24800.0,24318.0,23452.0,23514.0,23135.0,23122.0,22836.0,22799.0,22324.0,22304.0,22470.0,22252.0,22512.0,22422.0,22001.0,22182.0,22315.0,21909.0,21530.0,22471.0,22522.0,22281.0,22513.0,22804.0,22935.0,22981.0,23113.0,22850.0,23060.0,23352.0,22810.0,23056.0,23170.0,22190.0,22409.0,22462.0,22812.0,23207.0,23162.0,22918.0,23492.0,23492.0,24231.0,24716.0,24320.0,23800.0,23896.0,23807.0,22676.0,22320.0,22419.0,22618.0,22730.0,22397.0,22497.0,23098.0,23221.0,23362.0,23545.0,23392.0,23877.0,23369.0,23633.0,23903.0,24019.0,24311.0,24331.0,24574.0,24697.0,24017.0,24366.0,25541.0,25190.0,25212.0,25789.0,25720.0,26895.0,25816.0,26256.0,26160.0,25298.0,25158.0,24710.0,25616.0,25087.0,25313.0,24904.0,25189.0,25920.0,25615.0,25196.0,24736.0,25146.0,25158.0,24689.0,24636.0,24588.0,24509.0,24785.0,24866.0,25022.0,25769.0,26060.0,25735.0,26181.0,25426.0,25303.0,24657.0,24280.0,23698.0,23572.0,23483.0,23181.0,23085.0,22584.0,22665.0,22402.0,22443.0,22367.0,21820.0,21424.0,21575.0,20773.0,21001.0,21551.0,21750.0,21544.0,21908.0,21674.0,21723.0,22063.0,21870.0,21965.0,22138.0,21688.0,21737.0,21962.0,22330.0,21963.0,22147.0,22233.0,22148.0,21864.0,21979.0,21305.0,21000.0,21463.0,21928.0,21635.0,21768.0,21813.0,21465.0,21056.0,21139.0,21178.0,20839.0,20738.0,20352.0,19667.0,19121.0,19121.0,19159.0,19188.0,19236.0,19132.0,18958.0,19194.0,18225.0,18594.0,18840.0,18713.0,18668.0,18719.0,18617.0,18328.0,18535.0,18600.0,19918.0,20247.0,20412.0,20189.0,19947.0,20173.0,19892.0,20664.0,20531.0,20790.0,20394.0,20743.0,20317.0,20128.0,19776.0,19508.0,19114.0,18918.0,19064.0,18942.0,19147.0,18792.0,18602.0,18244.0,17849.0,17632.0,17852.0,17908.0,17868.0,18220.0,18402.0,18725.0,19816.0,19449.0,19525.0,19227.0,19341.0,19319.0,19146.0,19447.0,19587.0,18881.0,18453.0,18302.0,18841.0,18712.0,19039.0,20589.0,21099.0,20544.0,20660.0,20255.0,19615.0,19487.0,18938.0,18918.0,18071.0,18719.0,18600.0,18359.0,18689.0,19066.0,19189.0,19349.0,19486.0,19494.0,19209.0,19184.0,19728.0,19654.0,19485.0,20820.0,20919.0,20981.0,21567.0,21381.0,21772.0,21741.0,22178.0,21593.0,21604.0,21054.0,21077.0,20952.0,21130.0,21436.0,21508.0,21509.0,21002.0,21392.0,21727.0,22786.0,23171.0,22324.0,22256.0,22837.0,23157.0,23628.0,23314.0,23909.0,24049.0,23229.0,23246.0,23117.0,24183.0,24121.0,23561.0,23840.0,24055.0,24142.0,23756.0,24250.0,24040.0,24328.0,24236.0,23964.0,23424.0,23982.0,23871.0,23665.0,23481.0,24004.0,24372.0,24415.0,24455.0,24068.0,23647.0,23870.0,23935.0,23554.0,23749.0,23941.0,24020.0,23622.0,23821.0,23930.0,23703.0,23715.0,22505.0,22337.0,22277.0,22520.0,22241.0,22165.0,21942.0,21961.0,21659.0,21810.0,21806.0,21598.0,21808.0,21970.0,21748.0,21376.0,20890.0,20793.0,21071.0,21095.0,20901.0,21238.0,21135.0,20199.0,20151.0,20165.0,20506.0,21923.0,22040.0,21882.0,21692.0,22462.0,22646.0,22425.0,22786.0,23256.0,23339.0,23145.0,23420.0,23466.0,24076.0,24248.0,24118.0,25201.0,25143.0,25198.0,25020.0,25296.0,25563.0,26035.0,25569.0,25197.0,25368.0,25471.0,25478.0,25162.0,25411.0,24978.0,24972.0,25209.0,25226.0,25230.0,25619.0,25681.0,26227.0,25930.0,25834.0,25898.0,25658.0,24424.0,24154.0,24291.0,23893.0,23897.0,23633.0,24060.0,23861.0,23624.0,23240.0,22910.0,23360.0,23413.0,23267.0,23353.0,23696.0,24096.0,23855.0,23743.0,23779.0,23638.0,24455.0,24516.0,24165.0,23929.0,24212.0,24044.0,24219.0,24198.0,24062.0,23334.0,22911.0,22567.0,22453.0,22923.0,23049.0,22981.0,22798.0,23020.0,23112.0,23168.0,23402.0,22890.0,23289.0,23345.0,23281.0,24310.0,24949.0,25194.0,25018.0,25256.0,25387.0,24962.0,24855.0,24581.0,24824.0,24970.0,24367.0,24620.0,25092.0,24445.0,23991.0,23816.0,23836.0,23352.0,22922.0,22841.0,22929.0,22851.0,22813.0,22759.0,22637.0,22821.0,22840.0,23443.0,23553.0,24495.0,24343.0,24349.0,24369.0,24901.0,24978.0,24692.0,24442.0,24532.0,24305.0,23762.0,23397.0,23134.0,23073.0,23282.0,23301.0,23080.0,22902.0,23292.0,23399.0,23351.0,23728.0,23582.0,23734.0,23277.0,23086.0,22609.0,22741.0,22450.0,21421.0,21377.0,21146.0,21019.0,21723.0,21924.0,21953.0,22133.0,21959.0,22895.0,22765.0,23024.0,23099.0,23031.0,23504.0,23210.0,23116.0,23007.0,22908.0,22887.0,23519.0,23075.0,22912.0,22971.0,23406.0,23355.0,22709.0,22846.0,23023.0,22399.0,22477.0,23249.0,23659.0,24053.0,23970.0,23732.0,23989.0,23808.0,23747.0,24461.0,24803.0,25066.0,25342.0,25541.0,25738.0,24786.0,24430.0,24112.0,23942.0,23161.0,22953.0,22906.0,22815.0,24273.0,24042.0,23994.0,24206.0,24516.0,24468.0,24445.0,24510.0,24285.0,24526.0,24372.0,24086.0,24050.0,23953.0,23157.0,23187.0,23315.0,23310.0,23091.0,23066.0,22705.0,23329.0,23323.0,23328.0,23093.0,22669.0,22807.0,22711.0,22296.0,22462.0,22889.0,22927.0,22872.0,23251.0,23343.0,23282.0,23347.0,22908.0,22534.0,22588.0,22471.0,22749.0,22706.0,22878.0,22266.0,22495.0,23061.0,23584.0,23453.0,23003.0,23250.0,22989.0,22899.0,23087.0,22638.0,22651.0,22636.0,22885.0,23364.0,23991.0,23984.0,24493.0,24578.0,24549.0,24715.0,24394.0,25156.0,25060.0,25381.0,25265.0,25135.0,25104.0,25007.0,24843.0,24891.0,24623.0,24879.0,25042.0,25100.0,25203.0,26057.0,27195.0,27385.0,27649.0,27956.0,28134.0,28204.0,28401.0,28480.0,28866.0,28526.0,28553.0,28532.0,28998.0,27397.0,27511.0,27496.0,27502.0,27402.0,27660.0,26654.0,26748.0,26829.0,26690.0,27614.0,27544.0,27601.0,28365.0,28506.0,28443.0,28702.0,29729.0,29876.0,31259.0,32426.0,32078.0,31496.0,30455.0,30499.0,30715.0,31832.0,32137.0,32373.0,31680.0,30595.0,30942.0,29772.0,30229.0,31532.0,29595.0,30030.0,29386.0,30422.0,29216.0,29627.0,29545.0,29717.0,29820.0,30981.0,29776.0,29685.0,29028.0,29091.0,29256.0,29560.0,29613.0,29658.0,30842.0,30650.0,31689.0,30913.0,31056.0,31014.0,31671.0,31162.0,30936.0,31458.0,30377.0,30224.0,29299.0,29321.0,29331.0,29316.0,27975.0,28020.0,27866.0,28685.0,29073.0,28607.0,28524.0,27338.0,27341.0,27069.0,27733.0,27715.0,28134.0,27916.0,27469.0,28548.0,28984.0,29440.0,29659.0,29676.0,29185.0,29963.0,30155.0,30125.0,29340.0,29827.0,29003.0,29250.0,28898.0,28208.0,28421.0,28960.0,28048.0,28521.0,28484.0,28793.0,29967.0,30929.0,30990.0,30834.0,30542.0,31281.0,31360.0,30940.0,32280.0,31870.0,32195.0,31816.0,31458.0,31742.0,31920.0,32464.0,32394.0,32004.0,30600.0,30670.0,31240.0,31755.0,31316.0,31756.0,31974.0,31774.0,33234.0,34078.0,35041.0,33839.0,33795.0,33779.0,34001.0,34441.0,34234.0,32953.0,32837.0,32765.0,32934.0,31485.0,32013.0,31607.0,30768.0,30915.0,30817.0,30724.0,30586.0,31379.0,31417.0,31159.0,31099.0,31495.0,30396.0,30567.0,30455.0,30987.0,30742.0,31363.0,31786.0,31406.0,31462.0,32481.0,32612.0,32823.0,31482.0,30892.0,30927.0,30796.0,30610.0,29282.0,29837.0,30060.0,30152.0,30234.0,29819.0,29412.0,29242.0,29900.0,30065.0,30583.0,30686.0,30690.0,31015.0,31314.0,30309.0,30351.0,31531.0,31725.0,31141.0,31496.0,31420.0,30712.0,31055.0,30283.0,30755.0,31264.0,32493.0,32265.0,32526.0,33022.0,32976.0,32626.0,32443.0,32491.0,32322.0,32785.0,32726.0,32855.0,33373.0,33043.0,33486.0,33012.0,32763.0,31976.0,32419.0,32110.0,31496.0,32310.0,32381.0,33134.0,33338.0,32809.0,32530.0,33147.0,33743.0,34306.0,34433.0,34308.0,34818.0,34205.0,33991.0,33486.0,33450.0,34023.0,34054.0,34905.0,34814.0,34611.0,34309.0,34650.0,31970.0,29230.0,29604.0,29686.0,30415.0,30759.0,31910.0,32167.0,32297.0,32980.0,32470.0,32521.0,32905.0,33547.0,33503.0,33010.0,33165.0,33577.0,32828.0,32469.0,32259.0,32474.0,33381.0,32791.0,32617.0,32914.0,32624.0,33100.0,32444.0,32680.0,32354.0,32632.0,32615.0],\"yaxis\":\"y\",\"type\":\"scattergl\"}],                        {\"template\":{\"data\":{\"histogram2dcontour\":[{\"type\":\"histogram2dcontour\",\"colorbar\":{\"outlinewidth\":0,\"ticks\":\"\"},\"colorscale\":[[0.0,\"#0d0887\"],[0.1111111111111111,\"#46039f\"],[0.2222222222222222,\"#7201a8\"],[0.3333333333333333,\"#9c179e\"],[0.4444444444444444,\"#bd3786\"],[0.5555555555555556,\"#d8576b\"],[0.6666666666666666,\"#ed7953\"],[0.7777777777777778,\"#fb9f3a\"],[0.8888888888888888,\"#fdca26\"],[1.0,\"#f0f921\"]]}],\"choropleth\":[{\"type\":\"choropleth\",\"colorbar\":{\"outlinewidth\":0,\"ticks\":\"\"}}],\"histogram2d\":[{\"type\":\"histogram2d\",\"colorbar\":{\"outlinewidth\":0,\"ticks\":\"\"},\"colorscale\":[[0.0,\"#0d0887\"],[0.1111111111111111,\"#46039f\"],[0.2222222222222222,\"#7201a8\"],[0.3333333333333333,\"#9c179e\"],[0.4444444444444444,\"#bd3786\"],[0.5555555555555556,\"#d8576b\"],[0.6666666666666666,\"#ed7953\"],[0.7777777777777778,\"#fb9f3a\"],[0.8888888888888888,\"#fdca26\"],[1.0,\"#f0f921\"]]}],\"heatmap\":[{\"type\":\"heatmap\",\"colorbar\":{\"outlinewidth\":0,\"ticks\":\"\"},\"colorscale\":[[0.0,\"#0d0887\"],[0.1111111111111111,\"#46039f\"],[0.2222222222222222,\"#7201a8\"],[0.3333333333333333,\"#9c179e\"],[0.4444444444444444,\"#bd3786\"],[0.5555555555555556,\"#d8576b\"],[0.6666666666666666,\"#ed7953\"],[0.7777777777777778,\"#fb9f3a\"],[0.8888888888888888,\"#fdca26\"],[1.0,\"#f0f921\"]]}],\"heatmapgl\":[{\"type\":\"heatmapgl\",\"colorbar\":{\"outlinewidth\":0,\"ticks\":\"\"},\"colorscale\":[[0.0,\"#0d0887\"],[0.1111111111111111,\"#46039f\"],[0.2222222222222222,\"#7201a8\"],[0.3333333333333333,\"#9c179e\"],[0.4444444444444444,\"#bd3786\"],[0.5555555555555556,\"#d8576b\"],[0.6666666666666666,\"#ed7953\"],[0.7777777777777778,\"#fb9f3a\"],[0.8888888888888888,\"#fdca26\"],[1.0,\"#f0f921\"]]}],\"contourcarpet\":[{\"type\":\"contourcarpet\",\"colorbar\":{\"outlinewidth\":0,\"ticks\":\"\"}}],\"contour\":[{\"type\":\"contour\",\"colorbar\":{\"outlinewidth\":0,\"ticks\":\"\"},\"colorscale\":[[0.0,\"#0d0887\"],[0.1111111111111111,\"#46039f\"],[0.2222222222222222,\"#7201a8\"],[0.3333333333333333,\"#9c179e\"],[0.4444444444444444,\"#bd3786\"],[0.5555555555555556,\"#d8576b\"],[0.6666666666666666,\"#ed7953\"],[0.7777777777777778,\"#fb9f3a\"],[0.8888888888888888,\"#fdca26\"],[1.0,\"#f0f921\"]]}],\"surface\":[{\"type\":\"surface\",\"colorbar\":{\"outlinewidth\":0,\"ticks\":\"\"},\"colorscale\":[[0.0,\"#0d0887\"],[0.1111111111111111,\"#46039f\"],[0.2222222222222222,\"#7201a8\"],[0.3333333333333333,\"#9c179e\"],[0.4444444444444444,\"#bd3786\"],[0.5555555555555556,\"#d8576b\"],[0.6666666666666666,\"#ed7953\"],[0.7777777777777778,\"#fb9f3a\"],[0.8888888888888888,\"#fdca26\"],[1.0,\"#f0f921\"]]}],\"mesh3d\":[{\"type\":\"mesh3d\",\"colorbar\":{\"outlinewidth\":0,\"ticks\":\"\"}}],\"scatter\":[{\"fillpattern\":{\"fillmode\":\"overlay\",\"size\":10,\"solidity\":0.2},\"type\":\"scatter\"}],\"parcoords\":[{\"type\":\"parcoords\",\"line\":{\"colorbar\":{\"outlinewidth\":0,\"ticks\":\"\"}}}],\"scatterpolargl\":[{\"type\":\"scatterpolargl\",\"marker\":{\"colorbar\":{\"outlinewidth\":0,\"ticks\":\"\"}}}],\"bar\":[{\"error_x\":{\"color\":\"#2a3f5f\"},\"error_y\":{\"color\":\"#2a3f5f\"},\"marker\":{\"line\":{\"color\":\"#E5ECF6\",\"width\":0.5},\"pattern\":{\"fillmode\":\"overlay\",\"size\":10,\"solidity\":0.2}},\"type\":\"bar\"}],\"scattergeo\":[{\"type\":\"scattergeo\",\"marker\":{\"colorbar\":{\"outlinewidth\":0,\"ticks\":\"\"}}}],\"scatterpolar\":[{\"type\":\"scatterpolar\",\"marker\":{\"colorbar\":{\"outlinewidth\":0,\"ticks\":\"\"}}}],\"histogram\":[{\"marker\":{\"pattern\":{\"fillmode\":\"overlay\",\"size\":10,\"solidity\":0.2}},\"type\":\"histogram\"}],\"scattergl\":[{\"type\":\"scattergl\",\"marker\":{\"colorbar\":{\"outlinewidth\":0,\"ticks\":\"\"}}}],\"scatter3d\":[{\"type\":\"scatter3d\",\"line\":{\"colorbar\":{\"outlinewidth\":0,\"ticks\":\"\"}},\"marker\":{\"colorbar\":{\"outlinewidth\":0,\"ticks\":\"\"}}}],\"scattermapbox\":[{\"type\":\"scattermapbox\",\"marker\":{\"colorbar\":{\"outlinewidth\":0,\"ticks\":\"\"}}}],\"scatterternary\":[{\"type\":\"scatterternary\",\"marker\":{\"colorbar\":{\"outlinewidth\":0,\"ticks\":\"\"}}}],\"scattercarpet\":[{\"type\":\"scattercarpet\",\"marker\":{\"colorbar\":{\"outlinewidth\":0,\"ticks\":\"\"}}}],\"carpet\":[{\"aaxis\":{\"endlinecolor\":\"#2a3f5f\",\"gridcolor\":\"white\",\"linecolor\":\"white\",\"minorgridcolor\":\"white\",\"startlinecolor\":\"#2a3f5f\"},\"baxis\":{\"endlinecolor\":\"#2a3f5f\",\"gridcolor\":\"white\",\"linecolor\":\"white\",\"minorgridcolor\":\"white\",\"startlinecolor\":\"#2a3f5f\"},\"type\":\"carpet\"}],\"table\":[{\"cells\":{\"fill\":{\"color\":\"#EBF0F8\"},\"line\":{\"color\":\"white\"}},\"header\":{\"fill\":{\"color\":\"#C8D4E3\"},\"line\":{\"color\":\"white\"}},\"type\":\"table\"}],\"barpolar\":[{\"marker\":{\"line\":{\"color\":\"#E5ECF6\",\"width\":0.5},\"pattern\":{\"fillmode\":\"overlay\",\"size\":10,\"solidity\":0.2}},\"type\":\"barpolar\"}],\"pie\":[{\"automargin\":true,\"type\":\"pie\"}]},\"layout\":{\"autotypenumbers\":\"strict\",\"colorway\":[\"#636efa\",\"#EF553B\",\"#00cc96\",\"#ab63fa\",\"#FFA15A\",\"#19d3f3\",\"#FF6692\",\"#B6E880\",\"#FF97FF\",\"#FECB52\"],\"font\":{\"color\":\"#2a3f5f\"},\"hovermode\":\"closest\",\"hoverlabel\":{\"align\":\"left\"},\"paper_bgcolor\":\"white\",\"plot_bgcolor\":\"#E5ECF6\",\"polar\":{\"bgcolor\":\"#E5ECF6\",\"angularaxis\":{\"gridcolor\":\"white\",\"linecolor\":\"white\",\"ticks\":\"\"},\"radialaxis\":{\"gridcolor\":\"white\",\"linecolor\":\"white\",\"ticks\":\"\"}},\"ternary\":{\"bgcolor\":\"#E5ECF6\",\"aaxis\":{\"gridcolor\":\"white\",\"linecolor\":\"white\",\"ticks\":\"\"},\"baxis\":{\"gridcolor\":\"white\",\"linecolor\":\"white\",\"ticks\":\"\"},\"caxis\":{\"gridcolor\":\"white\",\"linecolor\":\"white\",\"ticks\":\"\"}},\"coloraxis\":{\"colorbar\":{\"outlinewidth\":0,\"ticks\":\"\"}},\"colorscale\":{\"sequential\":[[0.0,\"#0d0887\"],[0.1111111111111111,\"#46039f\"],[0.2222222222222222,\"#7201a8\"],[0.3333333333333333,\"#9c179e\"],[0.4444444444444444,\"#bd3786\"],[0.5555555555555556,\"#d8576b\"],[0.6666666666666666,\"#ed7953\"],[0.7777777777777778,\"#fb9f3a\"],[0.8888888888888888,\"#fdca26\"],[1.0,\"#f0f921\"]],\"sequentialminus\":[[0.0,\"#0d0887\"],[0.1111111111111111,\"#46039f\"],[0.2222222222222222,\"#7201a8\"],[0.3333333333333333,\"#9c179e\"],[0.4444444444444444,\"#bd3786\"],[0.5555555555555556,\"#d8576b\"],[0.6666666666666666,\"#ed7953\"],[0.7777777777777778,\"#fb9f3a\"],[0.8888888888888888,\"#fdca26\"],[1.0,\"#f0f921\"]],\"diverging\":[[0,\"#8e0152\"],[0.1,\"#c51b7d\"],[0.2,\"#de77ae\"],[0.3,\"#f1b6da\"],[0.4,\"#fde0ef\"],[0.5,\"#f7f7f7\"],[0.6,\"#e6f5d0\"],[0.7,\"#b8e186\"],[0.8,\"#7fbc41\"],[0.9,\"#4d9221\"],[1,\"#276419\"]]},\"xaxis\":{\"gridcolor\":\"white\",\"linecolor\":\"white\",\"ticks\":\"\",\"title\":{\"standoff\":15},\"zerolinecolor\":\"white\",\"automargin\":true,\"zerolinewidth\":2},\"yaxis\":{\"gridcolor\":\"white\",\"linecolor\":\"white\",\"ticks\":\"\",\"title\":{\"standoff\":15},\"zerolinecolor\":\"white\",\"automargin\":true,\"zerolinewidth\":2},\"scene\":{\"xaxis\":{\"backgroundcolor\":\"#E5ECF6\",\"gridcolor\":\"white\",\"linecolor\":\"white\",\"showbackground\":true,\"ticks\":\"\",\"zerolinecolor\":\"white\",\"gridwidth\":2},\"yaxis\":{\"backgroundcolor\":\"#E5ECF6\",\"gridcolor\":\"white\",\"linecolor\":\"white\",\"showbackground\":true,\"ticks\":\"\",\"zerolinecolor\":\"white\",\"gridwidth\":2},\"zaxis\":{\"backgroundcolor\":\"#E5ECF6\",\"gridcolor\":\"white\",\"linecolor\":\"white\",\"showbackground\":true,\"ticks\":\"\",\"zerolinecolor\":\"white\",\"gridwidth\":2}},\"shapedefaults\":{\"line\":{\"color\":\"#2a3f5f\"}},\"annotationdefaults\":{\"arrowcolor\":\"#2a3f5f\",\"arrowhead\":0,\"arrowwidth\":1},\"geo\":{\"bgcolor\":\"white\",\"landcolor\":\"#E5ECF6\",\"subunitcolor\":\"white\",\"showland\":true,\"showlakes\":true,\"lakecolor\":\"white\"},\"title\":{\"x\":0.05},\"mapbox\":{\"style\":\"light\"}}},\"xaxis\":{\"anchor\":\"y\",\"domain\":[0.0,1.0],\"title\":{\"text\":\"Tanggal\"},\"showline\":true,\"linewidth\":2,\"linecolor\":\"black\",\"mirror\":true},\"yaxis\":{\"anchor\":\"x\",\"domain\":[0.0,1.0],\"title\":{\"text\":\"Harga Berskala\"},\"showline\":true,\"linewidth\":2,\"linecolor\":\"black\",\"mirror\":true},\"legend\":{\"tracegroupgap\":0},\"margin\":{\"t\":60},\"title\":{\"text\":\"Data Riwayat Harga Perak\",\"y\":0.95,\"x\":0.5,\"xanchor\":\"center\",\"yanchor\":\"top\"},\"plot_bgcolor\":\"white\"},                        {\"responsive\": true}                    ).then(function(){\n",
              "                            \n",
              "var gd = document.getElementById('c195cbeb-dd97-4ca4-9c15-0abe48ccdd0c');\n",
              "var x = new MutationObserver(function (mutations, observer) {{\n",
              "        var display = window.getComputedStyle(gd).display;\n",
              "        if (!display || display === 'none') {{\n",
              "            console.log([gd, 'removed!']);\n",
              "            Plotly.purge(gd);\n",
              "            observer.disconnect();\n",
              "        }}\n",
              "}});\n",
              "\n",
              "// Listen for the removal of the full notebook cells\n",
              "var notebookContainer = gd.closest('#notebook-container');\n",
              "if (notebookContainer) {{\n",
              "    x.observe(notebookContainer, {childList: true});\n",
              "}}\n",
              "\n",
              "// Listen for the clearing of the current output cell\n",
              "var outputEl = gd.closest('.output');\n",
              "if (outputEl) {{\n",
              "    x.observe(outputEl, {childList: true});\n",
              "}}\n",
              "\n",
              "                        })                };                            </script>        </div>\n",
              "</body>\n",
              "</html>"
            ]
          },
          "metadata": {}
        }
      ]
    },
    {
      "cell_type": "markdown",
      "source": [
        "# Langkah 6: Membagi Data ke dalam Set Pelatihan dan Pengujian\n",
        "Karena kita tidak dapat melatih data masa depan dalam data deret waktu, kita tidak boleh membagi data deret waktu secara acak. Dalam pemisahan deret waktu, set pengujian selalu lebih lambat daripada set pelatihan. Kita mempertimbangkan tahun terakhir untuk pengujian dan yang lainnya untuk pelatihan:"
      ],
      "metadata": {
        "papermill": {
          "duration": 0.01572,
          "end_time": "2023-01-11T15:59:43.278269",
          "exception": false,
          "start_time": "2023-01-11T15:59:43.262549",
          "status": "completed"
        },
        "tags": [],
        "id": "QPFK_nUdOgtR"
      }
    },
    {
      "cell_type": "code",
      "source": [
        "test_size = df[df.Date.dt.year==2025].shape[0]\n",
        "test_size"
      ],
      "metadata": {
        "papermill": {
          "duration": 0.029206,
          "end_time": "2023-01-11T15:59:43.323531",
          "exception": false,
          "start_time": "2023-01-11T15:59:43.294325",
          "status": "completed"
        },
        "tags": [],
        "execution": {
          "iopub.status.busy": "2023-01-13T21:11:56.666198Z",
          "iopub.execute_input": "2023-01-13T21:11:56.666572Z",
          "iopub.status.idle": "2023-01-13T21:11:56.678891Z",
          "shell.execute_reply.started": "2023-01-13T21:11:56.666538Z",
          "shell.execute_reply": "2023-01-13T21:11:56.677512Z"
        },
        "trusted": true,
        "id": "XZXvNdeoOgtR",
        "outputId": "b394f0d9-5085-4673-efe2-ac80e8cc11fc",
        "colab": {
          "base_uri": "https://localhost:8080/"
        }
      },
      "execution_count": 51,
      "outputs": [
        {
          "output_type": "execute_result",
          "data": {
            "text/plain": [
              "96"
            ]
          },
          "metadata": {},
          "execution_count": 51
        }
      ]
    },
    {
      "cell_type": "markdown",
      "source": [
        "__Silver Price Training and Test Sets Plot:__"
      ],
      "metadata": {
        "id": "kAqx6GUIOgtR"
      }
    },
    {
      "cell_type": "code",
      "source": [
        "plt.figure(figsize=(15, 6), dpi=150)\n",
        "plt.rcParams['axes.facecolor'] = 'white'\n",
        "plt.rc('axes',edgecolor='black')\n",
        "plt.plot(df.Date[:-test_size], df.Price[:-test_size], color='black', lw=2)\n",
        "plt.plot(df.Date[-test_size:], df.Price[-test_size:], color='blue', lw=2)\n",
        "plt.title('Set Pelatihan dan Uji Harga Perak', fontsize=15)\n",
        "plt.xlabel('Tanggal', fontsize=12)\n",
        "plt.ylabel('Harga', fontsize=12)\n",
        "plt.legend(['Training set', 'Test set'], loc='upper left', prop={'size': 15})\n",
        "plt.grid(color='white')\n",
        "plt.show()"
      ],
      "metadata": {
        "execution": {
          "iopub.status.busy": "2023-01-13T21:11:56.685652Z",
          "iopub.execute_input": "2023-01-13T21:11:56.686122Z",
          "iopub.status.idle": "2023-01-13T21:11:57.181748Z",
          "shell.execute_reply.started": "2023-01-13T21:11:56.686082Z",
          "shell.execute_reply": "2023-01-13T21:11:57.180412Z"
        },
        "trusted": true,
        "id": "_p_4kX-tOgtR",
        "outputId": "9f603686-6526-4757-a4da-210da7ba2ff7",
        "colab": {
          "base_uri": "https://localhost:8080/",
          "height": 560
        }
      },
      "execution_count": 52,
      "outputs": [
        {
          "output_type": "display_data",
          "data": {
            "text/plain": [
              "<Figure size 2250x900 with 1 Axes>"
            ],
            "image/png": "[encoded data removed]"
          },
          "metadata": {}
        }
      ]
    },
    {
      "cell_type": "markdown",
      "source": [
        "# Langkah 7: Penskalaan Data\n",
        "Karena kita ingin memprediksi Harga hanya berdasarkan data historisnya, kita menskalakan Harga menggunakan MinMaxScaler untuk menghindari perhitungan intensif:"
      ],
      "metadata": {
        "papermill": {
          "duration": 0.015496,
          "end_time": "2023-01-11T15:59:43.355539",
          "exception": false,
          "start_time": "2023-01-11T15:59:43.340043",
          "status": "completed"
        },
        "tags": [],
        "id": "OqoJSwJIOgtR"
      }
    },
    {
      "cell_type": "code",
      "source": [
        "scaler = MinMaxScaler()\n",
        "scaler.fit(df.Price.values.reshape(-1,1))"
      ],
      "metadata": {
        "papermill": {
          "duration": 0.029902,
          "end_time": "2023-01-11T15:59:43.402873",
          "exception": false,
          "start_time": "2023-01-11T15:59:43.372971",
          "status": "completed"
        },
        "tags": [],
        "execution": {
          "iopub.status.busy": "2023-01-13T21:11:57.183571Z",
          "iopub.execute_input": "2023-01-13T21:11:57.184117Z",
          "iopub.status.idle": "2023-01-13T21:11:57.19651Z",
          "shell.execute_reply.started": "2023-01-13T21:11:57.184067Z",
          "shell.execute_reply": "2023-01-13T21:11:57.195042Z"
        },
        "trusted": true,
        "id": "OI5sl_fbOgtR",
        "outputId": "1d43a6bb-8e0e-47dc-b490-5bf113b7f9c5",
        "colab": {
          "base_uri": "https://localhost:8080/",
          "height": 80
        }
      },
      "execution_count": 53,
      "outputs": [
        {
          "output_type": "execute_result",
          "data": {
            "text/plain": [
              "MinMaxScaler()"
            ],
            "text/html": [
              "<style>#sk-container-id-2 {\n",
              "  /* Definition of color scheme common for light and dark mode */\n",
              "  --sklearn-color-text: #000;\n",
              "  --sklearn-color-text-muted: #666;\n",
              "  --sklearn-color-line: gray;\n",
              "  /* Definition of color scheme for unfitted estimators */\n",
              "  --sklearn-color-unfitted-level-0: #fff5e6;\n",
              "  --sklearn-color-unfitted-level-1: #f6e4d2;\n",
              "  --sklearn-color-unfitted-level-2: #ffe0b3;\n",
              "  --sklearn-color-unfitted-level-3: chocolate;\n",
              "  /* Definition of color scheme for fitted estimators */\n",
              "  --sklearn-color-fitted-level-0: #f0f8ff;\n",
              "  --sklearn-color-fitted-level-1: #d4ebff;\n",
              "  --sklearn-color-fitted-level-2: #b3dbfd;\n",
              "  --sklearn-color-fitted-level-3: cornflowerblue;\n",
              "\n",
              "  /* Specific color for light theme */\n",
              "  --sklearn-color-text-on-default-background: var(--sg-text-color, var(--theme-code-foreground, var(--jp-content-font-color1, black)));\n",
              "  --sklearn-color-background: var(--sg-background-color, var(--theme-background, var(--jp-layout-color0, white)));\n",
              "  --sklearn-color-border-box: var(--sg-text-color, var(--theme-code-foreground, var(--jp-content-font-color1, black)));\n",
              "  --sklearn-color-icon: #696969;\n",
              "\n",
              "  @media (prefers-color-scheme: dark) {\n",
              "    /* Redefinition of color scheme for dark theme */\n",
              "    --sklearn-color-text-on-default-background: var(--sg-text-color, var(--theme-code-foreground, var(--jp-content-font-color1, white)));\n",
              "    --sklearn-color-background: var(--sg-background-color, var(--theme-background, var(--jp-layout-color0, #111)));\n",
              "    --sklearn-color-border-box: var(--sg-text-color, var(--theme-code-foreground, var(--jp-content-font-color1, white)));\n",
              "    --sklearn-color-icon: #878787;\n",
              "  }\n",
              "}\n",
              "\n",
              "#sk-container-id-2 {\n",
              "  color: var(--sklearn-color-text);\n",
              "}\n",
              "\n",
              "#sk-container-id-2 pre {\n",
              "  padding: 0;\n",
              "}\n",
              "\n",
              "#sk-container-id-2 input.sk-hidden--visually {\n",
              "  border: 0;\n",
              "  clip: rect(1px 1px 1px 1px);\n",
              "  clip: rect(1px, 1px, 1px, 1px);\n",
              "  height: 1px;\n",
              "  margin: -1px;\n",
              "  overflow: hidden;\n",
              "  padding: 0;\n",
              "  position: absolute;\n",
              "  width: 1px;\n",
              "}\n",
              "\n",
              "#sk-container-id-2 div.sk-dashed-wrapped {\n",
              "  border: 1px dashed var(--sklearn-color-line);\n",
              "  margin: 0 0.4em 0.5em 0.4em;\n",
              "  box-sizing: border-box;\n",
              "  padding-bottom: 0.4em;\n",
              "  background-color: var(--sklearn-color-background);\n",
              "}\n",
              "\n",
              "#sk-container-id-2 div.sk-container {\n",
              "  /* jupyter's `normalize.less` sets `[hidden] { display: none; }`\n",
              "     but bootstrap.min.css set `[hidden] { display: none !important; }`\n",
              "     so we also need the `!important` here to be able to override the\n",
              "     default hidden behavior on the sphinx rendered scikit-learn.org.\n",
              "     See: https://github.com/scikit-learn/scikit-learn/issues/21755 */\n",
              "  display: inline-block !important;\n",
              "  position: relative;\n",
              "}\n",
              "\n",
              "#sk-container-id-2 div.sk-text-repr-fallback {\n",
              "  display: none;\n",
              "}\n",
              "\n",
              "div.sk-parallel-item,\n",
              "div.sk-serial,\n",
              "div.sk-item {\n",
              "  /* draw centered vertical line to link estimators */\n",
              "  background-image: linear-gradient(var(--sklearn-color-text-on-default-background), var(--sklearn-color-text-on-default-background));\n",
              "  background-size: 2px 100%;\n",
              "  background-repeat: no-repeat;\n",
              "  background-position: center center;\n",
              "}\n",
              "\n",
              "/* Parallel-specific style estimator block */\n",
              "\n",
              "#sk-container-id-2 div.sk-parallel-item::after {\n",
              "  content: \"\";\n",
              "  width: 100%;\n",
              "  border-bottom: 2px solid var(--sklearn-color-text-on-default-background);\n",
              "  flex-grow: 1;\n",
              "}\n",
              "\n",
              "#sk-container-id-2 div.sk-parallel {\n",
              "  display: flex;\n",
              "  align-items: stretch;\n",
              "  justify-content: center;\n",
              "  background-color: var(--sklearn-color-background);\n",
              "  position: relative;\n",
              "}\n",
              "\n",
              "#sk-container-id-2 div.sk-parallel-item {\n",
              "  display: flex;\n",
              "  flex-direction: column;\n",
              "}\n",
              "\n",
              "#sk-container-id-2 div.sk-parallel-item:first-child::after {\n",
              "  align-self: flex-end;\n",
              "  width: 50%;\n",
              "}\n",
              "\n",
              "#sk-container-id-2 div.sk-parallel-item:last-child::after {\n",
              "  align-self: flex-start;\n",
              "  width: 50%;\n",
              "}\n",
              "\n",
              "#sk-container-id-2 div.sk-parallel-item:only-child::after {\n",
              "  width: 0;\n",
              "}\n",
              "\n",
              "/* Serial-specific style estimator block */\n",
              "\n",
              "#sk-container-id-2 div.sk-serial {\n",
              "  display: flex;\n",
              "  flex-direction: column;\n",
              "  align-items: center;\n",
              "  background-color: var(--sklearn-color-background);\n",
              "  padding-right: 1em;\n",
              "  padding-left: 1em;\n",
              "}\n",
              "\n",
              "\n",
              "/* Toggleable style: style used for estimator/Pipeline/ColumnTransformer box that is\n",
              "clickable and can be expanded/collapsed.\n",
              "- Pipeline and ColumnTransformer use this feature and define the default style\n",
              "- Estimators will overwrite some part of the style using the `sk-estimator` class\n",
              "*/\n",
              "\n",
              "/* Pipeline and ColumnTransformer style (default) */\n",
              "\n",
              "#sk-container-id-2 div.sk-toggleable {\n",
              "  /* Default theme specific background. It is overwritten whether we have a\n",
              "  specific estimator or a Pipeline/ColumnTransformer */\n",
              "  background-color: var(--sklearn-color-background);\n",
              "}\n",
              "\n",
              "/* Toggleable label */\n",
              "#sk-container-id-2 label.sk-toggleable__label {\n",
              "  cursor: pointer;\n",
              "  display: flex;\n",
              "  width: 100%;\n",
              "  margin-bottom: 0;\n",
              "  padding: 0.5em;\n",
              "  box-sizing: border-box;\n",
              "  text-align: center;\n",
              "  align-items: start;\n",
              "  justify-content: space-between;\n",
              "  gap: 0.5em;\n",
              "}\n",
              "\n",
              "#sk-container-id-2 label.sk-toggleable__label .caption {\n",
              "  font-size: 0.6rem;\n",
              "  font-weight: lighter;\n",
              "  color: var(--sklearn-color-text-muted);\n",
              "}\n",
              "\n",
              "#sk-container-id-2 label.sk-toggleable__label-arrow:before {\n",
              "  /* Arrow on the left of the label */\n",
              "  content: \"▸\";\n",
              "  float: left;\n",
              "  margin-right: 0.25em;\n",
              "  color: var(--sklearn-color-icon);\n",
              "}\n",
              "\n",
              "#sk-container-id-2 label.sk-toggleable__label-arrow:hover:before {\n",
              "  color: var(--sklearn-color-text);\n",
              "}\n",
              "\n",
              "/* Toggleable content - dropdown */\n",
              "\n",
              "#sk-container-id-2 div.sk-toggleable__content {\n",
              "  max-height: 0;\n",
              "  max-width: 0;\n",
              "  overflow: hidden;\n",
              "  text-align: left;\n",
              "  /* unfitted */\n",
              "  background-color: var(--sklearn-color-unfitted-level-0);\n",
              "}\n",
              "\n",
              "#sk-container-id-2 div.sk-toggleable__content.fitted {\n",
              "  /* fitted */\n",
              "  background-color: var(--sklearn-color-fitted-level-0);\n",
              "}\n",
              "\n",
              "#sk-container-id-2 div.sk-toggleable__content pre {\n",
              "  margin: 0.2em;\n",
              "  border-radius: 0.25em;\n",
              "  color: var(--sklearn-color-text);\n",
              "  /* unfitted */\n",
              "  background-color: var(--sklearn-color-unfitted-level-0);\n",
              "}\n",
              "\n",
              "#sk-container-id-2 div.sk-toggleable__content.fitted pre {\n",
              "  /* unfitted */\n",
              "  background-color: var(--sklearn-color-fitted-level-0);\n",
              "}\n",
              "\n",
              "#sk-container-id-2 input.sk-toggleable__control:checked~div.sk-toggleable__content {\n",
              "  /* Expand drop-down */\n",
              "  max-height: 200px;\n",
              "  max-width: 100%;\n",
              "  overflow: auto;\n",
              "}\n",
              "\n",
              "#sk-container-id-2 input.sk-toggleable__control:checked~label.sk-toggleable__label-arrow:before {\n",
              "  content: \"▾\";\n",
              "}\n",
              "\n",
              "/* Pipeline/ColumnTransformer-specific style */\n",
              "\n",
              "#sk-container-id-2 div.sk-label input.sk-toggleable__control:checked~label.sk-toggleable__label {\n",
              "  color: var(--sklearn-color-text);\n",
              "  background-color: var(--sklearn-color-unfitted-level-2);\n",
              "}\n",
              "\n",
              "#sk-container-id-2 div.sk-label.fitted input.sk-toggleable__control:checked~label.sk-toggleable__label {\n",
              "  background-color: var(--sklearn-color-fitted-level-2);\n",
              "}\n",
              "\n",
              "/* Estimator-specific style */\n",
              "\n",
              "/* Colorize estimator box */\n",
              "#sk-container-id-2 div.sk-estimator input.sk-toggleable__control:checked~label.sk-toggleable__label {\n",
              "  /* unfitted */\n",
              "  background-color: var(--sklearn-color-unfitted-level-2);\n",
              "}\n",
              "\n",
              "#sk-container-id-2 div.sk-estimator.fitted input.sk-toggleable__control:checked~label.sk-toggleable__label {\n",
              "  /* fitted */\n",
              "  background-color: var(--sklearn-color-fitted-level-2);\n",
              "}\n",
              "\n",
              "#sk-container-id-2 div.sk-label label.sk-toggleable__label,\n",
              "#sk-container-id-2 div.sk-label label {\n",
              "  /* The background is the default theme color */\n",
              "  color: var(--sklearn-color-text-on-default-background);\n",
              "}\n",
              "\n",
              "/* On hover, darken the color of the background */\n",
              "#sk-container-id-2 div.sk-label:hover label.sk-toggleable__label {\n",
              "  color: var(--sklearn-color-text);\n",
              "  background-color: var(--sklearn-color-unfitted-level-2);\n",
              "}\n",
              "\n",
              "/* Label box, darken color on hover, fitted */\n",
              "#sk-container-id-2 div.sk-label.fitted:hover label.sk-toggleable__label.fitted {\n",
              "  color: var(--sklearn-color-text);\n",
              "  background-color: var(--sklearn-color-fitted-level-2);\n",
              "}\n",
              "\n",
              "/* Estimator label */\n",
              "\n",
              "#sk-container-id-2 div.sk-label label {\n",
              "  font-family: monospace;\n",
              "  font-weight: bold;\n",
              "  display: inline-block;\n",
              "  line-height: 1.2em;\n",
              "}\n",
              "\n",
              "#sk-container-id-2 div.sk-label-container {\n",
              "  text-align: center;\n",
              "}\n",
              "\n",
              "/* Estimator-specific */\n",
              "#sk-container-id-2 div.sk-estimator {\n",
              "  font-family: monospace;\n",
              "  border: 1px dotted var(--sklearn-color-border-box);\n",
              "  border-radius: 0.25em;\n",
              "  box-sizing: border-box;\n",
              "  margin-bottom: 0.5em;\n",
              "  /* unfitted */\n",
              "  background-color: var(--sklearn-color-unfitted-level-0);\n",
              "}\n",
              "\n",
              "#sk-container-id-2 div.sk-estimator.fitted {\n",
              "  /* fitted */\n",
              "  background-color: var(--sklearn-color-fitted-level-0);\n",
              "}\n",
              "\n",
              "/* on hover */\n",
              "#sk-container-id-2 div.sk-estimator:hover {\n",
              "  /* unfitted */\n",
              "  background-color: var(--sklearn-color-unfitted-level-2);\n",
              "}\n",
              "\n",
              "#sk-container-id-2 div.sk-estimator.fitted:hover {\n",
              "  /* fitted */\n",
              "  background-color: var(--sklearn-color-fitted-level-2);\n",
              "}\n",
              "\n",
              "/* Specification for estimator info (e.g. \"i\" and \"?\") */\n",
              "\n",
              "/* Common style for \"i\" and \"?\" */\n",
              "\n",
              ".sk-estimator-doc-link,\n",
              "a:link.sk-estimator-doc-link,\n",
              "a:visited.sk-estimator-doc-link {\n",
              "  float: right;\n",
              "  font-size: smaller;\n",
              "  line-height: 1em;\n",
              "  font-family: monospace;\n",
              "  background-color: var(--sklearn-color-background);\n",
              "  border-radius: 1em;\n",
              "  height: 1em;\n",
              "  width: 1em;\n",
              "  text-decoration: none !important;\n",
              "  margin-left: 0.5em;\n",
              "  text-align: center;\n",
              "  /* unfitted */\n",
              "  border: var(--sklearn-color-unfitted-level-1) 1pt solid;\n",
              "  color: var(--sklearn-color-unfitted-level-1);\n",
              "}\n",
              "\n",
              ".sk-estimator-doc-link.fitted,\n",
              "a:link.sk-estimator-doc-link.fitted,\n",
              "a:visited.sk-estimator-doc-link.fitted {\n",
              "  /* fitted */\n",
              "  border: var(--sklearn-color-fitted-level-1) 1pt solid;\n",
              "  color: var(--sklearn-color-fitted-level-1);\n",
              "}\n",
              "\n",
              "/* On hover */\n",
              "div.sk-estimator:hover .sk-estimator-doc-link:hover,\n",
              ".sk-estimator-doc-link:hover,\n",
              "div.sk-label-container:hover .sk-estimator-doc-link:hover,\n",
              ".sk-estimator-doc-link:hover {\n",
              "  /* unfitted */\n",
              "  background-color: var(--sklearn-color-unfitted-level-3);\n",
              "  color: var(--sklearn-color-background);\n",
              "  text-decoration: none;\n",
              "}\n",
              "\n",
              "div.sk-estimator.fitted:hover .sk-estimator-doc-link.fitted:hover,\n",
              ".sk-estimator-doc-link.fitted:hover,\n",
              "div.sk-label-container:hover .sk-estimator-doc-link.fitted:hover,\n",
              ".sk-estimator-doc-link.fitted:hover {\n",
              "  /* fitted */\n",
              "  background-color: var(--sklearn-color-fitted-level-3);\n",
              "  color: var(--sklearn-color-background);\n",
              "  text-decoration: none;\n",
              "}\n",
              "\n",
              "/* Span, style for the box shown on hovering the info icon */\n",
              ".sk-estimator-doc-link span {\n",
              "  display: none;\n",
              "  z-index: 9999;\n",
              "  position: relative;\n",
              "  font-weight: normal;\n",
              "  right: .2ex;\n",
              "  padding: .5ex;\n",
              "  margin: .5ex;\n",
              "  width: min-content;\n",
              "  min-width: 20ex;\n",
              "  max-width: 50ex;\n",
              "  color: var(--sklearn-color-text);\n",
              "  box-shadow: 2pt 2pt 4pt #999;\n",
              "  /* unfitted */\n",
              "  background: var(--sklearn-color-unfitted-level-0);\n",
              "  border: .5pt solid var(--sklearn-color-unfitted-level-3);\n",
              "}\n",
              "\n",
              ".sk-estimator-doc-link.fitted span {\n",
              "  /* fitted */\n",
              "  background: var(--sklearn-color-fitted-level-0);\n",
              "  border: var(--sklearn-color-fitted-level-3);\n",
              "}\n",
              "\n",
              ".sk-estimator-doc-link:hover span {\n",
              "  display: block;\n",
              "}\n",
              "\n",
              "/* \"?\"-specific style due to the `<a>` HTML tag */\n",
              "\n",
              "#sk-container-id-2 a.estimator_doc_link {\n",
              "  float: right;\n",
              "  font-size: 1rem;\n",
              "  line-height: 1em;\n",
              "  font-family: monospace;\n",
              "  background-color: var(--sklearn-color-background);\n",
              "  border-radius: 1rem;\n",
              "  height: 1rem;\n",
              "  width: 1rem;\n",
              "  text-decoration: none;\n",
              "  /* unfitted */\n",
              "  color: var(--sklearn-color-unfitted-level-1);\n",
              "  border: var(--sklearn-color-unfitted-level-1) 1pt solid;\n",
              "}\n",
              "\n",
              "#sk-container-id-2 a.estimator_doc_link.fitted {\n",
              "  /* fitted */\n",
              "  border: var(--sklearn-color-fitted-level-1) 1pt solid;\n",
              "  color: var(--sklearn-color-fitted-level-1);\n",
              "}\n",
              "\n",
              "/* On hover */\n",
              "#sk-container-id-2 a.estimator_doc_link:hover {\n",
              "  /* unfitted */\n",
              "  background-color: var(--sklearn-color-unfitted-level-3);\n",
              "  color: var(--sklearn-color-background);\n",
              "  text-decoration: none;\n",
              "}\n",
              "\n",
              "#sk-container-id-2 a.estimator_doc_link.fitted:hover {\n",
              "  /* fitted */\n",
              "  background-color: var(--sklearn-color-fitted-level-3);\n",
              "}\n",
              "</style><div id=\"sk-container-id-2\" class=\"sk-top-container\"><div class=\"sk-text-repr-fallback\"><pre>MinMaxScaler()</pre><b>In a Jupyter environment, please rerun this cell to show the HTML representation or trust the notebook. <br />On GitHub, the HTML representation is unable to render, please try loading this page with nbviewer.org.</b></div><div class=\"sk-container\" hidden><div class=\"sk-item\"><div class=\"sk-estimator fitted sk-toggleable\"><input class=\"sk-toggleable__control sk-hidden--visually\" id=\"sk-estimator-id-2\" type=\"checkbox\" checked><label for=\"sk-estimator-id-2\" class=\"sk-toggleable__label fitted sk-toggleable__label-arrow\"><div><div>MinMaxScaler</div></div><div><a class=\"sk-estimator-doc-link fitted\" rel=\"noreferrer\" target=\"_blank\" href=\"https://scikit-learn.org/1.6/modules/generated/sklearn.preprocessing.MinMaxScaler.html\">?<span>Documentation for MinMaxScaler</span></a><span class=\"sk-estimator-doc-link fitted\">i<span>Fitted</span></span></div></label><div class=\"sk-toggleable__content fitted\"><pre>MinMaxScaler()</pre></div> </div></div></div></div>"
            ]
          },
          "metadata": {},
          "execution_count": 53
        }
      ]
    },
    {
      "cell_type": "markdown",
      "source": [
        "# Langkah 8: Restrukturisasi Data & Buat Jendela Geser\n",
        "Penggunaan langkah waktu sebelumnya untuk memprediksi langkah waktu berikutnya disebut jendela geser. Dengan cara ini, data deret waktu dapat dinyatakan sebagai pembelajaran terbimbing. Kita dapat melakukannya dengan menggunakan langkah waktu sebelumnya sebagai variabel masukan dan menggunakan langkah waktu berikutnya sebagai variabel keluaran. Jumlah langkah waktu sebelumnya disebut lebar jendela. Di sini kita menetapkan lebar jendela menjadi 60. Oleh karena itu, X_train dan X_test akan menjadi daftar bersarang yang berisi daftar 60 harga cap waktu. y_train dan y_test juga merupakan daftar harga emas yang berisi harga emas hari berikutnya yang sesuai dengan setiap daftar di X_train dan X_test secara berurutan:"
      ],
      "metadata": {
        "papermill": {
          "duration": 0.015684,
          "end_time": "2023-01-11T15:59:43.434382",
          "exception": false,
          "start_time": "2023-01-11T15:59:43.418698",
          "status": "completed"
        },
        "tags": [],
        "id": "DJlneweaOgtR"
      }
    },
    {
      "cell_type": "code",
      "source": [
        "window_size = 60"
      ],
      "metadata": {
        "execution": {
          "iopub.status.busy": "2023-01-13T21:11:57.198375Z",
          "iopub.execute_input": "2023-01-13T21:11:57.199059Z",
          "iopub.status.idle": "2023-01-13T21:11:57.206351Z",
          "shell.execute_reply.started": "2023-01-13T21:11:57.199001Z",
          "shell.execute_reply": "2023-01-13T21:11:57.205028Z"
        },
        "trusted": true,
        "id": "XGpCjB2iOgtS"
      },
      "execution_count": 54,
      "outputs": []
    },
    {
      "cell_type": "markdown",
      "source": [
        "__Training Set:__"
      ],
      "metadata": {
        "id": "lrT4CMbdOgtS"
      }
    },
    {
      "cell_type": "code",
      "source": [
        "train_data = df.Price[:-test_size]\n",
        "train_data = scaler.transform(train_data.values.reshape(-1,1))"
      ],
      "metadata": {
        "execution": {
          "iopub.status.busy": "2023-01-13T21:11:57.207849Z",
          "iopub.execute_input": "2023-01-13T21:11:57.209048Z",
          "iopub.status.idle": "2023-01-13T21:11:57.222332Z",
          "shell.execute_reply.started": "2023-01-13T21:11:57.208988Z",
          "shell.execute_reply": "2023-01-13T21:11:57.220883Z"
        },
        "trusted": true,
        "id": "wTPXQpetOgtV"
      },
      "execution_count": 55,
      "outputs": []
    },
    {
      "cell_type": "code",
      "source": [
        "X_train = []\n",
        "y_train = []\n",
        "\n",
        "for i in range(window_size, len(train_data)):\n",
        "    X_train.append(train_data[i-60:i, 0])\n",
        "    y_train.append(train_data[i, 0])"
      ],
      "metadata": {
        "execution": {
          "iopub.status.busy": "2023-01-13T21:11:57.223799Z",
          "iopub.execute_input": "2023-01-13T21:11:57.224233Z",
          "iopub.status.idle": "2023-01-13T21:11:57.238275Z",
          "shell.execute_reply.started": "2023-01-13T21:11:57.224193Z",
          "shell.execute_reply": "2023-01-13T21:11:57.237006Z"
        },
        "trusted": true,
        "id": "pNi-gM7jOgtV"
      },
      "execution_count": 56,
      "outputs": []
    },
    {
      "cell_type": "markdown",
      "source": [
        "__Test Set:__"
      ],
      "metadata": {
        "id": "58Qv3hTZOgtV"
      }
    },
    {
      "cell_type": "code",
      "source": [
        "test_data = df.Price[-test_size-60:]\n",
        "test_data = scaler.transform(test_data.values.reshape(-1,1))"
      ],
      "metadata": {
        "execution": {
          "iopub.status.busy": "2023-01-13T21:11:57.239759Z",
          "iopub.execute_input": "2023-01-13T21:11:57.240629Z",
          "iopub.status.idle": "2023-01-13T21:11:57.252425Z",
          "shell.execute_reply.started": "2023-01-13T21:11:57.240582Z",
          "shell.execute_reply": "2023-01-13T21:11:57.250898Z"
        },
        "trusted": true,
        "id": "iULFJooFOgtW"
      },
      "execution_count": 57,
      "outputs": []
    },
    {
      "cell_type": "code",
      "source": [
        "X_test = []\n",
        "y_test = []\n",
        "\n",
        "for i in range(window_size, len(test_data)):\n",
        "    X_test.append(test_data[i-60:i, 0])\n",
        "    y_test.append(test_data[i, 0])"
      ],
      "metadata": {
        "execution": {
          "iopub.status.busy": "2023-01-13T21:11:57.25406Z",
          "iopub.execute_input": "2023-01-13T21:11:57.254689Z",
          "iopub.status.idle": "2023-01-13T21:11:57.264066Z",
          "shell.execute_reply.started": "2023-01-13T21:11:57.254642Z",
          "shell.execute_reply": "2023-01-13T21:11:57.262761Z"
        },
        "trusted": true,
        "id": "p5Mj6aLKOgtW"
      },
      "execution_count": 58,
      "outputs": []
    },
    {
      "cell_type": "markdown",
      "source": [
        "# Langkah 9: Mengonversi Data ke Array Numpy\n",
        "\n",
        "Sekarang X_train dan X_test adalah daftar bersarang (daftar dua dimensi) dan y_train adalah daftar satu dimensi. Kita perlu mengonversinya menjadi array numpy dengan dimensi yang lebih tinggi, yang merupakan format data yang diterima oleh TensorFlow saat melatih jaringan saraf:"
      ],
      "metadata": {
        "papermill": {
          "duration": 0.017464,
          "end_time": "2023-01-11T15:59:43.604357",
          "exception": false,
          "start_time": "2023-01-11T15:59:43.586893",
          "status": "completed"
        },
        "tags": [],
        "id": "nwlogQgCOgtW"
      }
    },
    {
      "cell_type": "code",
      "source": [
        "X_train = np.array(X_train)\n",
        "X_test  = np.array(X_test)\n",
        "y_train = np.array(y_train)\n",
        "y_test  = np.array(y_test)"
      ],
      "metadata": {
        "papermill": {
          "duration": 0.029568,
          "end_time": "2023-01-11T15:59:43.651198",
          "exception": false,
          "start_time": "2023-01-11T15:59:43.62163",
          "status": "completed"
        },
        "tags": [],
        "execution": {
          "iopub.status.busy": "2023-01-13T21:11:57.265634Z",
          "iopub.execute_input": "2023-01-13T21:11:57.266049Z",
          "iopub.status.idle": "2023-01-13T21:11:57.278219Z",
          "shell.execute_reply.started": "2023-01-13T21:11:57.266013Z",
          "shell.execute_reply": "2023-01-13T21:11:57.276926Z"
        },
        "trusted": true,
        "id": "Vn2o2tkmOgtW"
      },
      "execution_count": 59,
      "outputs": []
    },
    {
      "cell_type": "code",
      "source": [
        "X_train = np.reshape(X_train, (X_train.shape[0], X_train.shape[1], 1))\n",
        "X_test  = np.reshape(X_test, (X_test.shape[0], X_test.shape[1], 1))\n",
        "y_train = np.reshape(y_train, (-1,1))\n",
        "y_test  = np.reshape(y_test, (-1,1))"
      ],
      "metadata": {
        "papermill": {
          "duration": 0.026916,
          "end_time": "2023-01-11T15:59:43.696788",
          "exception": false,
          "start_time": "2023-01-11T15:59:43.669872",
          "status": "completed"
        },
        "tags": [],
        "execution": {
          "iopub.status.busy": "2023-01-13T21:11:57.280079Z",
          "iopub.execute_input": "2023-01-13T21:11:57.280561Z",
          "iopub.status.idle": "2023-01-13T21:11:57.289378Z",
          "shell.execute_reply.started": "2023-01-13T21:11:57.280502Z",
          "shell.execute_reply": "2023-01-13T21:11:57.288138Z"
        },
        "trusted": true,
        "id": "06zWtQ34OgtW"
      },
      "execution_count": 60,
      "outputs": []
    },
    {
      "cell_type": "code",
      "source": [
        "print('X_train Shape: ', X_train.shape)\n",
        "print('y_train Shape: ', y_train.shape)\n",
        "print('X_test Shape:  ', X_test.shape)\n",
        "print('y_test Shape:  ', y_test.shape)"
      ],
      "metadata": {
        "execution": {
          "iopub.status.busy": "2023-01-13T21:11:57.290619Z",
          "iopub.execute_input": "2023-01-13T21:11:57.291014Z",
          "iopub.status.idle": "2023-01-13T21:11:57.304201Z",
          "shell.execute_reply.started": "2023-01-13T21:11:57.290977Z",
          "shell.execute_reply": "2023-01-13T21:11:57.302719Z"
        },
        "trusted": true,
        "id": "1U0mWsW9OgtW",
        "outputId": "c4920c70-a698-469e-e0e0-764e6bf81fa5",
        "colab": {
          "base_uri": "https://localhost:8080/"
        }
      },
      "execution_count": 61,
      "outputs": [
        {
          "output_type": "stream",
          "name": "stdout",
          "text": [
            "X_train Shape:  (2438, 60, 1)\n",
            "y_train Shape:  (2438, 1)\n",
            "X_test Shape:   (96, 60, 1)\n",
            "y_test Shape:   (96, 1)\n"
          ]
        }
      ]
    },
    {
      "cell_type": "markdown",
      "source": [
        "# Langkah 10: Membuat Jaringan LSTM\n",
        "Kita membangun jaringan LSTM, yang merupakan jenis Jaringan Syaraf Tiruan Berulang yang dirancang untuk memecahkan masalah gradien yang menghilang:"
      ],
      "metadata": {
        "papermill": {
          "duration": 0.016311,
          "end_time": "2023-01-11T15:59:43.72907",
          "exception": false,
          "start_time": "2023-01-11T15:59:43.712759",
          "status": "completed"
        },
        "tags": [],
        "id": "Cn0LpzvyOgtW"
      }
    },
    {
      "cell_type": "markdown",
      "source": [
        "__Model Definition:__"
      ],
      "metadata": {
        "papermill": {
          "duration": 0.019212,
          "end_time": "2023-01-11T15:59:43.765401",
          "exception": false,
          "start_time": "2023-01-11T15:59:43.746189",
          "status": "completed"
        },
        "tags": [],
        "id": "HMQXn9UkOgtW"
      }
    },
    {
      "cell_type": "code",
      "source": [
        "def define_model():\n",
        "    input1 = Input(shape=(window_size, 1))\n",
        "\n",
        "    # LSTM Layers with Dropout\n",
        "    x = LSTM(units=64, return_sequences=True)(input1)\n",
        "    x = Dropout(0.2)(x)\n",
        "    x = LSTM(units=64, return_sequences=True)(x)\n",
        "    x = Dropout(0.2)(x)\n",
        "    x = LSTM(units=64)(x)\n",
        "    x = Dropout(0.2)(x)\n",
        "\n",
        "    # Dense Layers\n",
        "    x = Dense(32, activation='relu')(x)\n",
        "    dnn_output = Dense(1)(x)\n",
        "\n",
        "    model = Model(inputs=input1, outputs=dnn_output)\n",
        "    model.compile(loss='mean_squared_error', optimizer='Nadam')\n",
        "    model.summary()\n",
        "\n",
        "    return model\n",
        "\n",
        "model = define_model()"
      ],
      "metadata": {
        "papermill": {
          "duration": 0.028656,
          "end_time": "2023-01-11T15:59:43.812149",
          "exception": false,
          "start_time": "2023-01-11T15:59:43.783493",
          "status": "completed"
        },
        "tags": [],
        "execution": {
          "iopub.status.busy": "2023-01-13T21:11:57.306369Z",
          "iopub.execute_input": "2023-01-13T21:11:57.306839Z",
          "iopub.status.idle": "2023-01-13T21:11:57.316039Z",
          "shell.execute_reply.started": "2023-01-13T21:11:57.306791Z",
          "shell.execute_reply": "2023-01-13T21:11:57.315023Z"
        },
        "trusted": true,
        "id": "OTFRfIZ4OgtW",
        "colab": {
          "base_uri": "https://localhost:8080/",
          "height": 442
        },
        "outputId": "59bacba3-8388-471f-9d3f-fc4fd6f3c119"
      },
      "execution_count": 62,
      "outputs": [
        {
          "output_type": "display_data",
          "data": {
            "text/plain": [
              "\u001b[1mModel: \"functional_1\"\u001b[0m\n"
            ],
            "text/html": [
              "<pre style=\"white-space:pre;overflow-x:auto;line-height:normal;font-family:Menlo,'DejaVu Sans Mono',consolas,'Courier New',monospace\"><span style=\"font-weight: bold\">Model: \"functional_1\"</span>\n",
              "</pre>\n"
            ]
          },
          "metadata": {}
        },
        {
          "output_type": "display_data",
          "data": {
            "text/plain": [
              "┏━━━━━━━━━━━━━━━━━━━━━━━━━━━━━━━━━┳━━━━━━━━━━━━━━━━━━━━━━━━┳━━━━━━━━━━━━━━━┓\n",
              "┃\u001b[1m \u001b[0m\u001b[1mLayer (type)                   \u001b[0m\u001b[1m \u001b[0m┃\u001b[1m \u001b[0m\u001b[1mOutput Shape          \u001b[0m\u001b[1m \u001b[0m┃\u001b[1m \u001b[0m\u001b[1m      Param #\u001b[0m\u001b[1m \u001b[0m┃\n",
              "┡━━━━━━━━━━━━━━━━━━━━━━━━━━━━━━━━━╇━━━━━━━━━━━━━━━━━━━━━━━━╇━━━━━━━━━━━━━━━┩\n",
              "│ input_layer_1 (\u001b[38;5;33mInputLayer\u001b[0m)      │ (\u001b[38;5;45mNone\u001b[0m, \u001b[38;5;34m60\u001b[0m, \u001b[38;5;34m1\u001b[0m)          │             \u001b[38;5;34m0\u001b[0m │\n",
              "├─────────────────────────────────┼────────────────────────┼───────────────┤\n",
              "│ lstm_3 (\u001b[38;5;33mLSTM\u001b[0m)                   │ (\u001b[38;5;45mNone\u001b[0m, \u001b[38;5;34m60\u001b[0m, \u001b[38;5;34m64\u001b[0m)         │        \u001b[38;5;34m16,896\u001b[0m │\n",
              "├─────────────────────────────────┼────────────────────────┼───────────────┤\n",
              "│ dropout_3 (\u001b[38;5;33mDropout\u001b[0m)             │ (\u001b[38;5;45mNone\u001b[0m, \u001b[38;5;34m60\u001b[0m, \u001b[38;5;34m64\u001b[0m)         │             \u001b[38;5;34m0\u001b[0m │\n",
              "├─────────────────────────────────┼────────────────────────┼───────────────┤\n",
              "│ lstm_4 (\u001b[38;5;33mLSTM\u001b[0m)                   │ (\u001b[38;5;45mNone\u001b[0m, \u001b[38;5;34m60\u001b[0m, \u001b[38;5;34m64\u001b[0m)         │        \u001b[38;5;34m33,024\u001b[0m │\n",
              "├─────────────────────────────────┼────────────────────────┼───────────────┤\n",
              "│ dropout_4 (\u001b[38;5;33mDropout\u001b[0m)             │ (\u001b[38;5;45mNone\u001b[0m, \u001b[38;5;34m60\u001b[0m, \u001b[38;5;34m64\u001b[0m)         │             \u001b[38;5;34m0\u001b[0m │\n",
              "├─────────────────────────────────┼────────────────────────┼───────────────┤\n",
              "│ lstm_5 (\u001b[38;5;33mLSTM\u001b[0m)                   │ (\u001b[38;5;45mNone\u001b[0m, \u001b[38;5;34m64\u001b[0m)             │        \u001b[38;5;34m33,024\u001b[0m │\n",
              "├─────────────────────────────────┼────────────────────────┼───────────────┤\n",
              "│ dropout_5 (\u001b[38;5;33mDropout\u001b[0m)             │ (\u001b[38;5;45mNone\u001b[0m, \u001b[38;5;34m64\u001b[0m)             │             \u001b[38;5;34m0\u001b[0m │\n",
              "├─────────────────────────────────┼────────────────────────┼───────────────┤\n",
              "│ dense_2 (\u001b[38;5;33mDense\u001b[0m)                 │ (\u001b[38;5;45mNone\u001b[0m, \u001b[38;5;34m32\u001b[0m)             │         \u001b[38;5;34m2,080\u001b[0m │\n",
              "├─────────────────────────────────┼────────────────────────┼───────────────┤\n",
              "│ dense_3 (\u001b[38;5;33mDense\u001b[0m)                 │ (\u001b[38;5;45mNone\u001b[0m, \u001b[38;5;34m1\u001b[0m)              │            \u001b[38;5;34m33\u001b[0m │\n",
              "└─────────────────────────────────┴────────────────────────┴───────────────┘\n"
            ],
            "text/html": [
              "<pre style=\"white-space:pre;overflow-x:auto;line-height:normal;font-family:Menlo,'DejaVu Sans Mono',consolas,'Courier New',monospace\">┏━━━━━━━━━━━━━━━━━━━━━━━━━━━━━━━━━┳━━━━━━━━━━━━━━━━━━━━━━━━┳━━━━━━━━━━━━━━━┓\n",
              "┃<span style=\"font-weight: bold\"> Layer (type)                    </span>┃<span style=\"font-weight: bold\"> Output Shape           </span>┃<span style=\"font-weight: bold\">       Param # </span>┃\n",
              "┡━━━━━━━━━━━━━━━━━━━━━━━━━━━━━━━━━╇━━━━━━━━━━━━━━━━━━━━━━━━╇━━━━━━━━━━━━━━━┩\n",
              "│ input_layer_1 (<span style=\"color: #0087ff; text-decoration-color: #0087ff\">InputLayer</span>)      │ (<span style=\"color: #00d7ff; text-decoration-color: #00d7ff\">None</span>, <span style=\"color: #00af00; text-decoration-color: #00af00\">60</span>, <span style=\"color: #00af00; text-decoration-color: #00af00\">1</span>)          │             <span style=\"color: #00af00; text-decoration-color: #00af00\">0</span> │\n",
              "├─────────────────────────────────┼────────────────────────┼───────────────┤\n",
              "│ lstm_3 (<span style=\"color: #0087ff; text-decoration-color: #0087ff\">LSTM</span>)                   │ (<span style=\"color: #00d7ff; text-decoration-color: #00d7ff\">None</span>, <span style=\"color: #00af00; text-decoration-color: #00af00\">60</span>, <span style=\"color: #00af00; text-decoration-color: #00af00\">64</span>)         │        <span style=\"color: #00af00; text-decoration-color: #00af00\">16,896</span> │\n",
              "├─────────────────────────────────┼────────────────────────┼───────────────┤\n",
              "│ dropout_3 (<span style=\"color: #0087ff; text-decoration-color: #0087ff\">Dropout</span>)             │ (<span style=\"color: #00d7ff; text-decoration-color: #00d7ff\">None</span>, <span style=\"color: #00af00; text-decoration-color: #00af00\">60</span>, <span style=\"color: #00af00; text-decoration-color: #00af00\">64</span>)         │             <span style=\"color: #00af00; text-decoration-color: #00af00\">0</span> │\n",
              "├─────────────────────────────────┼────────────────────────┼───────────────┤\n",
              "│ lstm_4 (<span style=\"color: #0087ff; text-decoration-color: #0087ff\">LSTM</span>)                   │ (<span style=\"color: #00d7ff; text-decoration-color: #00d7ff\">None</span>, <span style=\"color: #00af00; text-decoration-color: #00af00\">60</span>, <span style=\"color: #00af00; text-decoration-color: #00af00\">64</span>)         │        <span style=\"color: #00af00; text-decoration-color: #00af00\">33,024</span> │\n",
              "├─────────────────────────────────┼────────────────────────┼───────────────┤\n",
              "│ dropout_4 (<span style=\"color: #0087ff; text-decoration-color: #0087ff\">Dropout</span>)             │ (<span style=\"color: #00d7ff; text-decoration-color: #00d7ff\">None</span>, <span style=\"color: #00af00; text-decoration-color: #00af00\">60</span>, <span style=\"color: #00af00; text-decoration-color: #00af00\">64</span>)         │             <span style=\"color: #00af00; text-decoration-color: #00af00\">0</span> │\n",
              "├─────────────────────────────────┼────────────────────────┼───────────────┤\n",
              "│ lstm_5 (<span style=\"color: #0087ff; text-decoration-color: #0087ff\">LSTM</span>)                   │ (<span style=\"color: #00d7ff; text-decoration-color: #00d7ff\">None</span>, <span style=\"color: #00af00; text-decoration-color: #00af00\">64</span>)             │        <span style=\"color: #00af00; text-decoration-color: #00af00\">33,024</span> │\n",
              "├─────────────────────────────────┼────────────────────────┼───────────────┤\n",
              "│ dropout_5 (<span style=\"color: #0087ff; text-decoration-color: #0087ff\">Dropout</span>)             │ (<span style=\"color: #00d7ff; text-decoration-color: #00d7ff\">None</span>, <span style=\"color: #00af00; text-decoration-color: #00af00\">64</span>)             │             <span style=\"color: #00af00; text-decoration-color: #00af00\">0</span> │\n",
              "├─────────────────────────────────┼────────────────────────┼───────────────┤\n",
              "│ dense_2 (<span style=\"color: #0087ff; text-decoration-color: #0087ff\">Dense</span>)                 │ (<span style=\"color: #00d7ff; text-decoration-color: #00d7ff\">None</span>, <span style=\"color: #00af00; text-decoration-color: #00af00\">32</span>)             │         <span style=\"color: #00af00; text-decoration-color: #00af00\">2,080</span> │\n",
              "├─────────────────────────────────┼────────────────────────┼───────────────┤\n",
              "│ dense_3 (<span style=\"color: #0087ff; text-decoration-color: #0087ff\">Dense</span>)                 │ (<span style=\"color: #00d7ff; text-decoration-color: #00d7ff\">None</span>, <span style=\"color: #00af00; text-decoration-color: #00af00\">1</span>)              │            <span style=\"color: #00af00; text-decoration-color: #00af00\">33</span> │\n",
              "└─────────────────────────────────┴────────────────────────┴───────────────┘\n",
              "</pre>\n"
            ]
          },
          "metadata": {}
        },
        {
          "output_type": "display_data",
          "data": {
            "text/plain": [
              "\u001b[1m Total params: \u001b[0m\u001b[38;5;34m85,057\u001b[0m (332.25 KB)\n"
            ],
            "text/html": [
              "<pre style=\"white-space:pre;overflow-x:auto;line-height:normal;font-family:Menlo,'DejaVu Sans Mono',consolas,'Courier New',monospace\"><span style=\"font-weight: bold\"> Total params: </span><span style=\"color: #00af00; text-decoration-color: #00af00\">85,057</span> (332.25 KB)\n",
              "</pre>\n"
            ]
          },
          "metadata": {}
        },
        {
          "output_type": "display_data",
          "data": {
            "text/plain": [
              "\u001b[1m Trainable params: \u001b[0m\u001b[38;5;34m85,057\u001b[0m (332.25 KB)\n"
            ],
            "text/html": [
              "<pre style=\"white-space:pre;overflow-x:auto;line-height:normal;font-family:Menlo,'DejaVu Sans Mono',consolas,'Courier New',monospace\"><span style=\"font-weight: bold\"> Trainable params: </span><span style=\"color: #00af00; text-decoration-color: #00af00\">85,057</span> (332.25 KB)\n",
              "</pre>\n"
            ]
          },
          "metadata": {}
        },
        {
          "output_type": "display_data",
          "data": {
            "text/plain": [
              "\u001b[1m Non-trainable params: \u001b[0m\u001b[38;5;34m0\u001b[0m (0.00 B)\n"
            ],
            "text/html": [
              "<pre style=\"white-space:pre;overflow-x:auto;line-height:normal;font-family:Menlo,'DejaVu Sans Mono',consolas,'Courier New',monospace\"><span style=\"font-weight: bold\"> Non-trainable params: </span><span style=\"color: #00af00; text-decoration-color: #00af00\">0</span> (0.00 B)\n",
              "</pre>\n"
            ]
          },
          "metadata": {}
        }
      ]
    },
    {
      "cell_type": "markdown",
      "source": [
        "__Model Training:__"
      ],
      "metadata": {
        "papermill": {
          "duration": 0.016155,
          "end_time": "2023-01-11T15:59:43.844717",
          "exception": false,
          "start_time": "2023-01-11T15:59:43.828562",
          "status": "completed"
        },
        "tags": [],
        "id": "OZ8_ny7jOgtX"
      }
    },
    {
      "cell_type": "code",
      "source": [
        "# Callbacks untuk menghindari overfitting\n",
        "early_stop = EarlyStopping(monitor='val_loss', patience=10, restore_best_weights=True, verbose=1)\n",
        "reduce_lr = ReduceLROnPlateau(monitor='val_loss', factor=0.5, patience=5, min_lr=1e-6, verbose=1)\n",
        "checkpoint = ModelCheckpoint('best_model.keras', monitor='val_loss', save_best_only=True, verbose=1)\n",
        "\n",
        "# Training model dengan validasi\n",
        "history = model.fit(\n",
        "    X_train, y_train,\n",
        "    epochs=10,\n",
        "    batch_size=16,\n",
        "    validation_split=0.1,\n",
        "    callbacks=[early_stop, reduce_lr, checkpoint],\n",
        "    verbose=1\n",
        ")"
      ],
      "metadata": {
        "papermill": {
          "duration": 3447.217173,
          "end_time": "2023-01-11T16:57:11.078347",
          "exception": false,
          "start_time": "2023-01-11T15:59:43.861174",
          "status": "completed"
        },
        "tags": [],
        "execution": {
          "iopub.status.busy": "2023-01-13T21:11:57.317489Z",
          "iopub.execute_input": "2023-01-13T21:11:57.318923Z",
          "iopub.status.idle": "2023-01-13T21:36:47.72113Z",
          "shell.execute_reply.started": "2023-01-13T21:11:57.31881Z",
          "shell.execute_reply": "2023-01-13T21:36:47.720006Z"
        },
        "trusted": true,
        "id": "p3BtOob8OgtX",
        "outputId": "a1b5ac5f-766f-40e1-c9e1-7775edbd147b",
        "colab": {
          "base_uri": "https://localhost:8080/"
        }
      },
      "execution_count": 63,
      "outputs": [
        {
          "output_type": "stream",
          "name": "stdout",
          "text": [
            "Epoch 1/10\n",
            "\u001b[1m138/138\u001b[0m \u001b[32m━━━━━━━━━━━━━━━━━━━━\u001b[0m\u001b[37m\u001b[0m \u001b[1m0s\u001b[0m 74ms/step - loss: 0.0183\n",
            "Epoch 1: val_loss improved from inf to 0.00352, saving model to best_model.keras\n",
            "\u001b[1m138/138\u001b[0m \u001b[32m━━━━━━━━━━━━━━━━━━━━\u001b[0m\u001b[37m\u001b[0m \u001b[1m18s\u001b[0m 82ms/step - loss: 0.0182 - val_loss: 0.0035 - learning_rate: 0.0010\n",
            "Epoch 2/10\n",
            "\u001b[1m138/138\u001b[0m \u001b[32m━━━━━━━━━━━━━━━━━━━━\u001b[0m\u001b[37m\u001b[0m \u001b[1m0s\u001b[0m 81ms/step - loss: 0.0029\n",
            "Epoch 2: val_loss did not improve from 0.00352\n",
            "\u001b[1m138/138\u001b[0m \u001b[32m━━━━━━━━━━━━━━━━━━━━\u001b[0m\u001b[37m\u001b[0m \u001b[1m11s\u001b[0m 83ms/step - loss: 0.0029 - val_loss: 0.0038 - learning_rate: 0.0010\n",
            "Epoch 3/10\n",
            "\u001b[1m138/138\u001b[0m \u001b[32m━━━━━━━━━━━━━━━━━━━━\u001b[0m\u001b[37m\u001b[0m \u001b[1m0s\u001b[0m 78ms/step - loss: 0.0021\n",
            "Epoch 3: val_loss improved from 0.00352 to 0.00341, saving model to best_model.keras\n",
            "\u001b[1m138/138\u001b[0m \u001b[32m━━━━━━━━━━━━━━━━━━━━\u001b[0m\u001b[37m\u001b[0m \u001b[1m11s\u001b[0m 81ms/step - loss: 0.0021 - val_loss: 0.0034 - learning_rate: 0.0010\n",
            "Epoch 4/10\n",
            "\u001b[1m138/138\u001b[0m \u001b[32m━━━━━━━━━━━━━━━━━━━━\u001b[0m\u001b[37m\u001b[0m \u001b[1m0s\u001b[0m 76ms/step - loss: 0.0019\n",
            "Epoch 4: val_loss did not improve from 0.00341\n",
            "\u001b[1m138/138\u001b[0m \u001b[32m━━━━━━━━━━━━━━━━━━━━\u001b[0m\u001b[37m\u001b[0m \u001b[1m11s\u001b[0m 81ms/step - loss: 0.0019 - val_loss: 0.0055 - learning_rate: 0.0010\n",
            "Epoch 5/10\n",
            "\u001b[1m138/138\u001b[0m \u001b[32m━━━━━━━━━━━━━━━━━━━━\u001b[0m\u001b[37m\u001b[0m \u001b[1m0s\u001b[0m 78ms/step - loss: 0.0016\n",
            "Epoch 5: val_loss did not improve from 0.00341\n",
            "\u001b[1m138/138\u001b[0m \u001b[32m━━━━━━━━━━━━━━━━━━━━\u001b[0m\u001b[37m\u001b[0m \u001b[1m20s\u001b[0m 80ms/step - loss: 0.0016 - val_loss: 0.0105 - learning_rate: 0.0010\n",
            "Epoch 6/10\n",
            "\u001b[1m138/138\u001b[0m \u001b[32m━━━━━━━━━━━━━━━━━━━━\u001b[0m\u001b[37m\u001b[0m \u001b[1m0s\u001b[0m 77ms/step - loss: 0.0014\n",
            "Epoch 6: val_loss improved from 0.00341 to 0.00203, saving model to best_model.keras\n",
            "\u001b[1m138/138\u001b[0m \u001b[32m━━━━━━━━━━━━━━━━━━━━\u001b[0m\u001b[37m\u001b[0m \u001b[1m21s\u001b[0m 80ms/step - loss: 0.0014 - val_loss: 0.0020 - learning_rate: 0.0010\n",
            "Epoch 7/10\n",
            "\u001b[1m138/138\u001b[0m \u001b[32m━━━━━━━━━━━━━━━━━━━━\u001b[0m\u001b[37m\u001b[0m \u001b[1m0s\u001b[0m 75ms/step - loss: 0.0014\n",
            "Epoch 7: val_loss did not improve from 0.00203\n",
            "\u001b[1m138/138\u001b[0m \u001b[32m━━━━━━━━━━━━━━━━━━━━\u001b[0m\u001b[37m\u001b[0m \u001b[1m20s\u001b[0m 77ms/step - loss: 0.0014 - val_loss: 0.0021 - learning_rate: 0.0010\n",
            "Epoch 8/10\n",
            "\u001b[1m138/138\u001b[0m \u001b[32m━━━━━━━━━━━━━━━━━━━━\u001b[0m\u001b[37m\u001b[0m \u001b[1m0s\u001b[0m 77ms/step - loss: 0.0012\n",
            "Epoch 8: val_loss did not improve from 0.00203\n",
            "\u001b[1m138/138\u001b[0m \u001b[32m━━━━━━━━━━━━━━━━━━━━\u001b[0m\u001b[37m\u001b[0m \u001b[1m21s\u001b[0m 80ms/step - loss: 0.0012 - val_loss: 0.0063 - learning_rate: 0.0010\n",
            "Epoch 9/10\n",
            "\u001b[1m138/138\u001b[0m \u001b[32m━━━━━━━━━━━━━━━━━━━━\u001b[0m\u001b[37m\u001b[0m \u001b[1m0s\u001b[0m 70ms/step - loss: 0.0011\n",
            "Epoch 9: val_loss did not improve from 0.00203\n",
            "\u001b[1m138/138\u001b[0m \u001b[32m━━━━━━━━━━━━━━━━━━━━\u001b[0m\u001b[37m\u001b[0m \u001b[1m20s\u001b[0m 73ms/step - loss: 0.0011 - val_loss: 0.0023 - learning_rate: 0.0010\n",
            "Epoch 10/10\n",
            "\u001b[1m138/138\u001b[0m \u001b[32m━━━━━━━━━━━━━━━━━━━━\u001b[0m\u001b[37m\u001b[0m \u001b[1m0s\u001b[0m 78ms/step - loss: 9.3924e-04\n",
            "Epoch 10: val_loss did not improve from 0.00203\n",
            "\u001b[1m138/138\u001b[0m \u001b[32m━━━━━━━━━━━━━━━━━━━━\u001b[0m\u001b[37m\u001b[0m \u001b[1m11s\u001b[0m 80ms/step - loss: 9.3930e-04 - val_loss: 0.0055 - learning_rate: 0.0010\n",
            "Restoring model weights from the end of the best epoch: 6.\n"
          ]
        }
      ]
    },
    {
      "cell_type": "markdown",
      "source": [
        "# Langkah 11: Evaluasi Model\n",
        "Selanjutnya, kami mengevaluasi perkiraan deret waktu kami menggunakan metrik MAPE (Mean Absolute Percentage Error):"
      ],
      "metadata": {
        "papermill": {
          "duration": 1.5375,
          "end_time": "2023-01-11T16:57:14.14652",
          "exception": false,
          "start_time": "2023-01-11T16:57:12.60902",
          "status": "completed"
        },
        "tags": [],
        "id": "8ii4liz5OgtY"
      }
    },
    {
      "cell_type": "code",
      "source": [
        "result = model.evaluate(X_test, y_test)\n",
        "y_pred = model.predict(X_test)"
      ],
      "metadata": {
        "papermill": {
          "duration": 3.194088,
          "end_time": "2023-01-11T16:57:18.85664",
          "exception": false,
          "start_time": "2023-01-11T16:57:15.662552",
          "status": "completed"
        },
        "tags": [],
        "execution": {
          "iopub.status.busy": "2023-01-13T21:36:47.722932Z",
          "iopub.execute_input": "2023-01-13T21:36:47.723372Z",
          "iopub.status.idle": "2023-01-13T21:36:49.889602Z",
          "shell.execute_reply.started": "2023-01-13T21:36:47.723331Z",
          "shell.execute_reply": "2023-01-13T21:36:49.888032Z"
        },
        "trusted": true,
        "id": "qakKeBqKOgtY",
        "colab": {
          "base_uri": "https://localhost:8080/"
        },
        "outputId": "ea742910-8877-43de-e22e-d37d70b22055"
      },
      "execution_count": 64,
      "outputs": [
        {
          "output_type": "stream",
          "name": "stdout",
          "text": [
            "\u001b[1m3/3\u001b[0m \u001b[32m━━━━━━━━━━━━━━━━━━━━\u001b[0m\u001b[37m\u001b[0m \u001b[1m0s\u001b[0m 36ms/step - loss: 0.0016\n",
            "\u001b[1m3/3\u001b[0m \u001b[32m━━━━━━━━━━━━━━━━━━━━\u001b[0m\u001b[37m\u001b[0m \u001b[1m1s\u001b[0m 30ms/step \n"
          ]
        }
      ]
    },
    {
      "cell_type": "code",
      "source": [
        "MAPE = mean_absolute_percentage_error(y_test, y_pred)\n",
        "Accuracy = 1 - MAPE"
      ],
      "metadata": {
        "execution": {
          "iopub.status.busy": "2023-01-13T21:36:49.892029Z",
          "iopub.execute_input": "2023-01-13T21:36:49.892873Z",
          "iopub.status.idle": "2023-01-13T21:36:49.900846Z",
          "shell.execute_reply.started": "2023-01-13T21:36:49.892823Z",
          "shell.execute_reply": "2023-01-13T21:36:49.899427Z"
        },
        "trusted": true,
        "id": "dpAy0448OgtY"
      },
      "execution_count": 65,
      "outputs": []
    },
    {
      "cell_type": "code",
      "source": [
        "print(\"Test Loss:\", result)\n",
        "print(\"Test MAPE:\", MAPE)\n",
        "print(\"Test Accuracy:\", Accuracy)"
      ],
      "metadata": {
        "papermill": {
          "duration": 1.455953,
          "end_time": "2023-01-11T16:57:21.944456",
          "exception": false,
          "start_time": "2023-01-11T16:57:20.488503",
          "status": "completed"
        },
        "tags": [],
        "execution": {
          "iopub.status.busy": "2023-01-13T21:36:49.90245Z",
          "iopub.execute_input": "2023-01-13T21:36:49.902854Z",
          "iopub.status.idle": "2023-01-13T21:36:49.91546Z",
          "shell.execute_reply.started": "2023-01-13T21:36:49.902815Z",
          "shell.execute_reply": "2023-01-13T21:36:49.914104Z"
        },
        "trusted": true,
        "id": "-b1au0MEOgtY",
        "colab": {
          "base_uri": "https://localhost:8080/"
        },
        "outputId": "fe38fea5-665e-421e-f1be-ae4c86d2cb71"
      },
      "execution_count": 66,
      "outputs": [
        {
          "output_type": "stream",
          "name": "stdout",
          "text": [
            "Test Loss: 0.0022776462137699127\n",
            "Test MAPE: 0.03818287675002858\n",
            "Test Accuracy: 0.9618171232499714\n"
          ]
        }
      ]
    },
    {
      "cell_type": "markdown",
      "source": [
        "# Langkah 12: Memvisualisasikan Hasil"
      ],
      "metadata": {
        "papermill": {
          "duration": 1.544894,
          "end_time": "2023-01-11T16:57:25.008491",
          "exception": false,
          "start_time": "2023-01-11T16:57:23.463597",
          "status": "completed"
        },
        "tags": [],
        "id": "jzCUJA0zOgtY"
      }
    },
    {
      "cell_type": "markdown",
      "source": [
        "__Mengembalikan nilai Harga aktual dan prediksi ke skala utamanya:__"
      ],
      "metadata": {
        "papermill": {
          "duration": 1.591426,
          "end_time": "2023-01-11T16:57:28.149742",
          "exception": false,
          "start_time": "2023-01-11T16:57:26.558316",
          "status": "completed"
        },
        "tags": [],
        "id": "mhH-vy-4OgtY"
      }
    },
    {
      "cell_type": "code",
      "source": [
        "y_test_true = scaler.inverse_transform(y_test)\n",
        "y_test_pred = scaler.inverse_transform(y_pred)"
      ],
      "metadata": {
        "papermill": {
          "duration": 1.486987,
          "end_time": "2023-01-11T16:57:31.312384",
          "exception": false,
          "start_time": "2023-01-11T16:57:29.825397",
          "status": "completed"
        },
        "tags": [],
        "execution": {
          "iopub.status.busy": "2023-01-13T21:36:49.917036Z",
          "iopub.execute_input": "2023-01-13T21:36:49.918141Z",
          "iopub.status.idle": "2023-01-13T21:36:49.931665Z",
          "shell.execute_reply.started": "2023-01-13T21:36:49.918083Z",
          "shell.execute_reply": "2023-01-13T21:36:49.930142Z"
        },
        "trusted": true,
        "id": "Z6ZcN6OMOgtY"
      },
      "execution_count": 67,
      "outputs": []
    },
    {
      "cell_type": "markdown",
      "source": [
        "__Menyelidiki kedekatan harga yang diprediksi oleh model dengan harga sebenarnya:__"
      ],
      "metadata": {
        "papermill": {
          "duration": 1.520049,
          "end_time": "2023-01-11T16:57:34.368883",
          "exception": false,
          "start_time": "2023-01-11T16:57:32.848834",
          "status": "completed"
        },
        "tags": [],
        "id": "O84vdPutOgtY"
      }
    },
    {
      "cell_type": "code",
      "source": [
        "plt.figure(figsize=(15, 6), dpi=150)\n",
        "plt.rcParams['axes.facecolor'] = 'white'\n",
        "plt.rc('axes',edgecolor='black')\n",
        "plt.plot(df['Date'].iloc[:-test_size], scaler.inverse_transform(train_data), color='black', lw=2)\n",
        "plt.plot(df['Date'].iloc[-test_size:], y_test_true, color='blue', lw=2)\n",
        "plt.plot(df['Date'].iloc[-test_size:], y_test_pred, color='red', lw=2)\n",
        "plt.title('Kinerja Model pada Prediksi Harga Perak', fontsize=15)\n",
        "plt.xlabel('Tanggal', fontsize=12)\n",
        "plt.ylabel('Harga', fontsize=12)\n",
        "plt.legend(['Training Data', 'Actual Test Data', 'Predicted Test Data'], loc='upper left', prop={'size': 15})\n",
        "plt.grid(color='white')\n",
        "plt.show()"
      ],
      "metadata": {
        "papermill": {
          "duration": 2.10565,
          "end_time": "2023-01-11T16:57:37.987294",
          "exception": false,
          "start_time": "2023-01-11T16:57:35.881644",
          "status": "completed"
        },
        "tags": [],
        "execution": {
          "iopub.status.busy": "2023-01-13T21:36:49.935886Z",
          "iopub.execute_input": "2023-01-13T21:36:49.936457Z",
          "iopub.status.idle": "2023-01-13T21:36:50.418633Z",
          "shell.execute_reply.started": "2023-01-13T21:36:49.936414Z",
          "shell.execute_reply": "2023-01-13T21:36:50.417067Z"
        },
        "trusted": true,
        "id": "568cEVzNOgtY",
        "colab": {
          "base_uri": "https://localhost:8080/",
          "height": 560
        },
        "outputId": "c55a0fe1-653c-4be1-fde4-9f56f00b1464"
      },
      "execution_count": 68,
      "outputs": [
        {
          "output_type": "display_data",
          "data": {
            "text/plain": [
              "<Figure size 2250x900 with 1 Axes>"
            ],
            "image/png": "[encoded data removed]"
          },
          "metadata": {}
        }
      ]
    },
    {
      "cell_type": "markdown",
      "source": [
        "__Menampilkan perbandingan harga yang diprediksi oleh model dengan harga sebenarnya:__"
      ],
      "metadata": {
        "id": "XkR9V7P3beTH"
      }
    },
    {
      "cell_type": "code",
      "source": [
        "comparison_df = pd.DataFrame({'Tanggal': df['Date'].iloc[-test_size:],\n",
        "                              'Harga Aktual': y_test_true.flatten(),\n",
        "                              'Harga Prediksi': y_test_pred.flatten()})\n",
        "\n",
        "print(comparison_df)"
      ],
      "metadata": {
        "colab": {
          "base_uri": "https://localhost:8080/"
        },
        "id": "yDFPjE-3bYQL",
        "outputId": "146f14a8-4aa9-4182-9f1c-0ccc0e16a43d"
      },
      "execution_count": 69,
      "outputs": [
        {
          "output_type": "stream",
          "name": "stdout",
          "text": [
            "        Tanggal  Harga Aktual  Harga Prediksi\n",
            "2498 2025-01-02       29900.0    30287.152344\n",
            "2499 2025-01-03       30065.0    30257.876953\n",
            "2500 2025-01-06       30583.0    30280.955078\n",
            "2501 2025-01-07       30686.0    30383.574219\n",
            "2502 2025-01-08       30690.0    30553.726562\n",
            "...         ...           ...             ...\n",
            "2589 2025-05-14       32444.0    33012.718750\n",
            "2590 2025-05-15       32680.0    33033.406250\n",
            "2591 2025-05-16       32354.0    33045.265625\n",
            "2592 2025-05-18       32632.0    33027.128906\n",
            "2593 2025-05-19       32615.0    33003.675781\n",
            "\n",
            "[96 rows x 3 columns]\n"
          ]
        }
      ]
    },
    {
      "cell_type": "markdown",
      "source": [],
      "metadata": {
        "id": "mudixdhyaaJA"
      }
    },
    {
      "cell_type": "markdown",
      "source": [
        "____\n",
        "# Tugas Modifikasi:\n",
        "\n",
        "## 1. Ubah fungsi aktivasi menjadi Softmax dan LeakyReLU\n",
        "## 2. Ubah fungsi optimasi menjadi Adam dan Adamax\n",
        "## 3. Ubah Batch Size menjadi 32 dan 64\n",
        "## 4. Ubah Epoch menjadi 100\n",
        "\n",
        "## Jadi ada lima kombinasi:\n",
        "## 1. Menggunakan kode asli diatas tanpa memodifikasi apapun yaitu aktivasi Relu, optimasi Nadam, Batch size 16, dan epoch 10\n",
        "## 2. Menggunakan kode modifikasi yaitu Aktivasi Softmax, optimasi Adam, Batch size 32 dan epoch 100\n",
        "## 3. Menggunakan kode modifikasi yaitu Aktivasi Softmax, optimasi Adamax, Batch size 64 dan epoch 100\n",
        "## 4. Menggunakan kode modifikasi yaitu Aktivasi LeakyReLU, optimasi Adam, Batch size 32 dan epoch 100\n",
        "## 5. Menggunakan kode modifikasi yaitu Aktivasi LeakyReLU, optimasi Adamax, Batch size 64 dan epoch 100\n",
        "\n",
        "## Masing-masing kelompok menggunakan dataset yang berbeda minimal 10 tahun terakhir (Dataset dapat didownload dari web https://id.investing.com/)\n",
        "https://id.investing.com/equities/facebook-inc-historical-data"
      ],
      "metadata": {
        "id": "PwDVa40UcXHv"
      }
    }
  ]
}